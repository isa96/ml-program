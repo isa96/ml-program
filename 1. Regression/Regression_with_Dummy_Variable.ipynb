{
 "cells": [
  {
   "cell_type": "markdown",
   "source": [
    "# Regression with Dummy Variable \n",
    "> Food servers’ tips in restaurants may be influenced by many factors, including the nature of the restaurant, size of the party, and table locations in the restaurant. Restaurant managers need to know which factors matter when they assign tables to food servers. For the sake of staff morale, they usually want to avoid either the substance or the appearance of unfair treatment of the servers, for whom tips (at least in restaurants in the United States) are a major component of pay. In one restaurant, a food server recorded the following data on all customers they served during an interval of two and a half months in early 1990. The restaurant, located in a suburban shopping mall, was part of a national chain and served a varied menu. In observance of local law, the restaurant offered to seat in a non-smoking section to patrons who requested it. Each record includes a day and time, and taken together, they show the server’s work schedule.\n",
    "\n",
    "1. **Analyze tips data from seaborn**\n",
    "    - Total Bill and Size as Numerical Independent Variable\n",
    "    - Sex, smoker, day, and time as Categorical Independent Variable\n",
    "    - Tips as Dependent Variable\n",
    "2. **Analyze the reletionship**   \n",
    "3. **Apply Multiple Linear Regression with dummy variable**    \n",
    "4. **Perform Simultant Test and Partial Test**    \n",
    "5. **Interpret the result**"
   ],
   "metadata": {}
  },
  {
   "cell_type": "markdown",
   "source": [
    "## Import Library & Data"
   ],
   "metadata": {}
  },
  {
   "cell_type": "code",
   "execution_count": 1,
   "source": [
    "import pandas as pd\r\n",
    "import seaborn as sns\r\n",
    "import statsmodels.api as sm\r\n",
    "import matplotlib.pyplot as plt"
   ],
   "outputs": [],
   "metadata": {}
  },
  {
   "cell_type": "code",
   "execution_count": 2,
   "source": [
    "tips = sns.load_dataset('tips')\r\n",
    "tips"
   ],
   "outputs": [
    {
     "output_type": "execute_result",
     "data": {
      "text/html": [
       "<div>\n",
       "<style scoped>\n",
       "    .dataframe tbody tr th:only-of-type {\n",
       "        vertical-align: middle;\n",
       "    }\n",
       "\n",
       "    .dataframe tbody tr th {\n",
       "        vertical-align: top;\n",
       "    }\n",
       "\n",
       "    .dataframe thead th {\n",
       "        text-align: right;\n",
       "    }\n",
       "</style>\n",
       "<table border=\"1\" class=\"dataframe\">\n",
       "  <thead>\n",
       "    <tr style=\"text-align: right;\">\n",
       "      <th></th>\n",
       "      <th>total_bill</th>\n",
       "      <th>tip</th>\n",
       "      <th>sex</th>\n",
       "      <th>smoker</th>\n",
       "      <th>day</th>\n",
       "      <th>time</th>\n",
       "      <th>size</th>\n",
       "    </tr>\n",
       "  </thead>\n",
       "  <tbody>\n",
       "    <tr>\n",
       "      <th>0</th>\n",
       "      <td>16.99</td>\n",
       "      <td>1.01</td>\n",
       "      <td>Female</td>\n",
       "      <td>No</td>\n",
       "      <td>Sun</td>\n",
       "      <td>Dinner</td>\n",
       "      <td>2</td>\n",
       "    </tr>\n",
       "    <tr>\n",
       "      <th>1</th>\n",
       "      <td>10.34</td>\n",
       "      <td>1.66</td>\n",
       "      <td>Male</td>\n",
       "      <td>No</td>\n",
       "      <td>Sun</td>\n",
       "      <td>Dinner</td>\n",
       "      <td>3</td>\n",
       "    </tr>\n",
       "    <tr>\n",
       "      <th>2</th>\n",
       "      <td>21.01</td>\n",
       "      <td>3.50</td>\n",
       "      <td>Male</td>\n",
       "      <td>No</td>\n",
       "      <td>Sun</td>\n",
       "      <td>Dinner</td>\n",
       "      <td>3</td>\n",
       "    </tr>\n",
       "    <tr>\n",
       "      <th>3</th>\n",
       "      <td>23.68</td>\n",
       "      <td>3.31</td>\n",
       "      <td>Male</td>\n",
       "      <td>No</td>\n",
       "      <td>Sun</td>\n",
       "      <td>Dinner</td>\n",
       "      <td>2</td>\n",
       "    </tr>\n",
       "    <tr>\n",
       "      <th>4</th>\n",
       "      <td>24.59</td>\n",
       "      <td>3.61</td>\n",
       "      <td>Female</td>\n",
       "      <td>No</td>\n",
       "      <td>Sun</td>\n",
       "      <td>Dinner</td>\n",
       "      <td>4</td>\n",
       "    </tr>\n",
       "    <tr>\n",
       "      <th>...</th>\n",
       "      <td>...</td>\n",
       "      <td>...</td>\n",
       "      <td>...</td>\n",
       "      <td>...</td>\n",
       "      <td>...</td>\n",
       "      <td>...</td>\n",
       "      <td>...</td>\n",
       "    </tr>\n",
       "    <tr>\n",
       "      <th>239</th>\n",
       "      <td>29.03</td>\n",
       "      <td>5.92</td>\n",
       "      <td>Male</td>\n",
       "      <td>No</td>\n",
       "      <td>Sat</td>\n",
       "      <td>Dinner</td>\n",
       "      <td>3</td>\n",
       "    </tr>\n",
       "    <tr>\n",
       "      <th>240</th>\n",
       "      <td>27.18</td>\n",
       "      <td>2.00</td>\n",
       "      <td>Female</td>\n",
       "      <td>Yes</td>\n",
       "      <td>Sat</td>\n",
       "      <td>Dinner</td>\n",
       "      <td>2</td>\n",
       "    </tr>\n",
       "    <tr>\n",
       "      <th>241</th>\n",
       "      <td>22.67</td>\n",
       "      <td>2.00</td>\n",
       "      <td>Male</td>\n",
       "      <td>Yes</td>\n",
       "      <td>Sat</td>\n",
       "      <td>Dinner</td>\n",
       "      <td>2</td>\n",
       "    </tr>\n",
       "    <tr>\n",
       "      <th>242</th>\n",
       "      <td>17.82</td>\n",
       "      <td>1.75</td>\n",
       "      <td>Male</td>\n",
       "      <td>No</td>\n",
       "      <td>Sat</td>\n",
       "      <td>Dinner</td>\n",
       "      <td>2</td>\n",
       "    </tr>\n",
       "    <tr>\n",
       "      <th>243</th>\n",
       "      <td>18.78</td>\n",
       "      <td>3.00</td>\n",
       "      <td>Female</td>\n",
       "      <td>No</td>\n",
       "      <td>Thur</td>\n",
       "      <td>Dinner</td>\n",
       "      <td>2</td>\n",
       "    </tr>\n",
       "  </tbody>\n",
       "</table>\n",
       "<p>244 rows × 7 columns</p>\n",
       "</div>"
      ],
      "text/plain": [
       "     total_bill   tip     sex smoker   day    time  size\n",
       "0         16.99  1.01  Female     No   Sun  Dinner     2\n",
       "1         10.34  1.66    Male     No   Sun  Dinner     3\n",
       "2         21.01  3.50    Male     No   Sun  Dinner     3\n",
       "3         23.68  3.31    Male     No   Sun  Dinner     2\n",
       "4         24.59  3.61  Female     No   Sun  Dinner     4\n",
       "..          ...   ...     ...    ...   ...     ...   ...\n",
       "239       29.03  5.92    Male     No   Sat  Dinner     3\n",
       "240       27.18  2.00  Female    Yes   Sat  Dinner     2\n",
       "241       22.67  2.00    Male    Yes   Sat  Dinner     2\n",
       "242       17.82  1.75    Male     No   Sat  Dinner     2\n",
       "243       18.78  3.00  Female     No  Thur  Dinner     2\n",
       "\n",
       "[244 rows x 7 columns]"
      ]
     },
     "metadata": {},
     "execution_count": 2
    }
   ],
   "metadata": {}
  },
  {
   "cell_type": "markdown",
   "source": [
    "\r\n",
    "## Creating Dummy Variable"
   ],
   "metadata": {}
  },
  {
   "cell_type": "code",
   "execution_count": 4,
   "source": [
    "tips_dummy = pd.get_dummies(tips, columns = ['sex', 'smoker', 'day', 'time'], drop_first = True)\r\n",
    "tips_dummy"
   ],
   "outputs": [
    {
     "output_type": "execute_result",
     "data": {
      "text/html": [
       "<div>\n",
       "<style scoped>\n",
       "    .dataframe tbody tr th:only-of-type {\n",
       "        vertical-align: middle;\n",
       "    }\n",
       "\n",
       "    .dataframe tbody tr th {\n",
       "        vertical-align: top;\n",
       "    }\n",
       "\n",
       "    .dataframe thead th {\n",
       "        text-align: right;\n",
       "    }\n",
       "</style>\n",
       "<table border=\"1\" class=\"dataframe\">\n",
       "  <thead>\n",
       "    <tr style=\"text-align: right;\">\n",
       "      <th></th>\n",
       "      <th>total_bill</th>\n",
       "      <th>tip</th>\n",
       "      <th>size</th>\n",
       "      <th>sex_Female</th>\n",
       "      <th>smoker_No</th>\n",
       "      <th>day_Fri</th>\n",
       "      <th>day_Sat</th>\n",
       "      <th>day_Sun</th>\n",
       "      <th>time_Dinner</th>\n",
       "    </tr>\n",
       "  </thead>\n",
       "  <tbody>\n",
       "    <tr>\n",
       "      <th>0</th>\n",
       "      <td>16.99</td>\n",
       "      <td>1.01</td>\n",
       "      <td>2</td>\n",
       "      <td>1</td>\n",
       "      <td>1</td>\n",
       "      <td>0</td>\n",
       "      <td>0</td>\n",
       "      <td>1</td>\n",
       "      <td>1</td>\n",
       "    </tr>\n",
       "    <tr>\n",
       "      <th>1</th>\n",
       "      <td>10.34</td>\n",
       "      <td>1.66</td>\n",
       "      <td>3</td>\n",
       "      <td>0</td>\n",
       "      <td>1</td>\n",
       "      <td>0</td>\n",
       "      <td>0</td>\n",
       "      <td>1</td>\n",
       "      <td>1</td>\n",
       "    </tr>\n",
       "    <tr>\n",
       "      <th>2</th>\n",
       "      <td>21.01</td>\n",
       "      <td>3.50</td>\n",
       "      <td>3</td>\n",
       "      <td>0</td>\n",
       "      <td>1</td>\n",
       "      <td>0</td>\n",
       "      <td>0</td>\n",
       "      <td>1</td>\n",
       "      <td>1</td>\n",
       "    </tr>\n",
       "    <tr>\n",
       "      <th>3</th>\n",
       "      <td>23.68</td>\n",
       "      <td>3.31</td>\n",
       "      <td>2</td>\n",
       "      <td>0</td>\n",
       "      <td>1</td>\n",
       "      <td>0</td>\n",
       "      <td>0</td>\n",
       "      <td>1</td>\n",
       "      <td>1</td>\n",
       "    </tr>\n",
       "    <tr>\n",
       "      <th>4</th>\n",
       "      <td>24.59</td>\n",
       "      <td>3.61</td>\n",
       "      <td>4</td>\n",
       "      <td>1</td>\n",
       "      <td>1</td>\n",
       "      <td>0</td>\n",
       "      <td>0</td>\n",
       "      <td>1</td>\n",
       "      <td>1</td>\n",
       "    </tr>\n",
       "    <tr>\n",
       "      <th>...</th>\n",
       "      <td>...</td>\n",
       "      <td>...</td>\n",
       "      <td>...</td>\n",
       "      <td>...</td>\n",
       "      <td>...</td>\n",
       "      <td>...</td>\n",
       "      <td>...</td>\n",
       "      <td>...</td>\n",
       "      <td>...</td>\n",
       "    </tr>\n",
       "    <tr>\n",
       "      <th>239</th>\n",
       "      <td>29.03</td>\n",
       "      <td>5.92</td>\n",
       "      <td>3</td>\n",
       "      <td>0</td>\n",
       "      <td>1</td>\n",
       "      <td>0</td>\n",
       "      <td>1</td>\n",
       "      <td>0</td>\n",
       "      <td>1</td>\n",
       "    </tr>\n",
       "    <tr>\n",
       "      <th>240</th>\n",
       "      <td>27.18</td>\n",
       "      <td>2.00</td>\n",
       "      <td>2</td>\n",
       "      <td>1</td>\n",
       "      <td>0</td>\n",
       "      <td>0</td>\n",
       "      <td>1</td>\n",
       "      <td>0</td>\n",
       "      <td>1</td>\n",
       "    </tr>\n",
       "    <tr>\n",
       "      <th>241</th>\n",
       "      <td>22.67</td>\n",
       "      <td>2.00</td>\n",
       "      <td>2</td>\n",
       "      <td>0</td>\n",
       "      <td>0</td>\n",
       "      <td>0</td>\n",
       "      <td>1</td>\n",
       "      <td>0</td>\n",
       "      <td>1</td>\n",
       "    </tr>\n",
       "    <tr>\n",
       "      <th>242</th>\n",
       "      <td>17.82</td>\n",
       "      <td>1.75</td>\n",
       "      <td>2</td>\n",
       "      <td>0</td>\n",
       "      <td>1</td>\n",
       "      <td>0</td>\n",
       "      <td>1</td>\n",
       "      <td>0</td>\n",
       "      <td>1</td>\n",
       "    </tr>\n",
       "    <tr>\n",
       "      <th>243</th>\n",
       "      <td>18.78</td>\n",
       "      <td>3.00</td>\n",
       "      <td>2</td>\n",
       "      <td>1</td>\n",
       "      <td>1</td>\n",
       "      <td>0</td>\n",
       "      <td>0</td>\n",
       "      <td>0</td>\n",
       "      <td>1</td>\n",
       "    </tr>\n",
       "  </tbody>\n",
       "</table>\n",
       "<p>244 rows × 9 columns</p>\n",
       "</div>"
      ],
      "text/plain": [
       "     total_bill   tip  size  sex_Female  smoker_No  day_Fri  day_Sat  day_Sun  \\\n",
       "0         16.99  1.01     2           1          1        0        0        1   \n",
       "1         10.34  1.66     3           0          1        0        0        1   \n",
       "2         21.01  3.50     3           0          1        0        0        1   \n",
       "3         23.68  3.31     2           0          1        0        0        1   \n",
       "4         24.59  3.61     4           1          1        0        0        1   \n",
       "..          ...   ...   ...         ...        ...      ...      ...      ...   \n",
       "239       29.03  5.92     3           0          1        0        1        0   \n",
       "240       27.18  2.00     2           1          0        0        1        0   \n",
       "241       22.67  2.00     2           0          0        0        1        0   \n",
       "242       17.82  1.75     2           0          1        0        1        0   \n",
       "243       18.78  3.00     2           1          1        0        0        0   \n",
       "\n",
       "     time_Dinner  \n",
       "0              1  \n",
       "1              1  \n",
       "2              1  \n",
       "3              1  \n",
       "4              1  \n",
       "..           ...  \n",
       "239            1  \n",
       "240            1  \n",
       "241            1  \n",
       "242            1  \n",
       "243            1  \n",
       "\n",
       "[244 rows x 9 columns]"
      ]
     },
     "metadata": {},
     "execution_count": 4
    }
   ],
   "metadata": {}
  },
  {
   "cell_type": "code",
   "execution_count": 5,
   "source": [
    "tips_dummy.columns"
   ],
   "outputs": [
    {
     "output_type": "execute_result",
     "data": {
      "text/plain": [
       "Index(['total_bill', 'tip', 'size', 'sex_Female', 'smoker_No', 'day_Fri',\n",
       "       'day_Sat', 'day_Sun', 'time_Dinner'],\n",
       "      dtype='object')"
      ]
     },
     "metadata": {},
     "execution_count": 5
    }
   ],
   "metadata": {}
  },
  {
   "cell_type": "markdown",
   "source": [
    "\r\n",
    "## Model"
   ],
   "metadata": {}
  },
  {
   "cell_type": "code",
   "execution_count": 8,
   "source": [
    "fitur = ['total_bill', 'size', 'sex_Female', 'smoker_No', 'day_Fri',\r\n",
    "       'day_Sat', 'day_Sun', 'time_Dinner'] # X variable\r\n",
    "target = 'tip' # y variable\r\n",
    "model = sm.OLS(tips_dummy[target], sm.add_constant(tips_dummy[fitur])) # model definition\r\n",
    "result = model.fit() # fitting model"
   ],
   "outputs": [],
   "metadata": {}
  },
  {
   "cell_type": "code",
   "execution_count": 9,
   "source": [
    "print(result.summary()) # ols regression"
   ],
   "outputs": [
    {
     "output_type": "stream",
     "name": "stdout",
     "text": [
      "                            OLS Regression Results                            \n",
      "==============================================================================\n",
      "Dep. Variable:                    tip   R-squared:                       0.470\n",
      "Model:                            OLS   Adj. R-squared:                  0.452\n",
      "Method:                 Least Squares   F-statistic:                     26.06\n",
      "Date:                Wed, 07 Jul 2021   Prob (F-statistic):           1.20e-28\n",
      "Time:                        15:18:22   Log-Likelihood:                -347.48\n",
      "No. Observations:                 244   AIC:                             713.0\n",
      "Df Residuals:                     235   BIC:                             744.4\n",
      "Df Model:                           8                                         \n",
      "Covariance Type:            nonrobust                                         \n",
      "===============================================================================\n",
      "                  coef    std err          t      P>|t|      [0.025      0.975]\n",
      "-------------------------------------------------------------------------------\n",
      "const           0.5908      0.256      2.310      0.022       0.087       1.095\n",
      "total_bill      0.0945      0.010      9.841      0.000       0.076       0.113\n",
      "size            0.1760      0.090      1.966      0.051      -0.000       0.352\n",
      "sex_Female      0.0324      0.142      0.229      0.819      -0.247       0.311\n",
      "smoker_No       0.0864      0.147      0.589      0.556      -0.202       0.375\n",
      "day_Fri         0.1623      0.393      0.412      0.680      -0.613       0.937\n",
      "day_Sat         0.0408      0.471      0.087      0.931      -0.886       0.968\n",
      "day_Sun         0.1368      0.472      0.290      0.772      -0.793       1.066\n",
      "time_Dinner    -0.0681      0.445     -0.153      0.878      -0.944       0.808\n",
      "==============================================================================\n",
      "Omnibus:                       27.860   Durbin-Watson:                   2.096\n",
      "Prob(Omnibus):                  0.000   Jarque-Bera (JB):               52.555\n",
      "Skew:                           0.607   Prob(JB):                     3.87e-12\n",
      "Kurtosis:                       4.923   Cond. No.                         281.\n",
      "==============================================================================\n",
      "\n",
      "Notes:\n",
      "[1] Standard Errors assume that the covariance matrix of the errors is correctly specified.\n"
     ]
    }
   ],
   "metadata": {}
  },
  {
   "cell_type": "markdown",
   "source": [
    "**Summary Result point:**\n",
    "1. Adj. R-Square = 45.2 % : It means the model can explain 45.2 % variance value from tips, the rest explained by other variable that not included in model.\n",
    "2. Prob (F-Statistics) = F-Test = 1.20e-28 : Less than alpha(0.05), it means there is one independent variable has a significant effect on dependent variable (1.20e-28 < 0.05)\n",
    "3. Prob. Coef for every variable = Bo and B1     \n",
    "    - Bo p-value : 0.022 < 0.05, reject Ho: it means we need intercept in model     \n",
    "    - B1 p-value : 0.000 < 0.05, reject Ho: it means total_bill has positive effect on tips\n",
    "    - B2 p-value : 0.051 < 0.05, reject Ho: it means size has positive effect on tips\n",
    "    - B3 p-value : 0.819 > 0.05, accept Ho\n",
    "    - B4 p-value : 0.556 > 0.05, accept Ho\n",
    "    - B5 p-value : 0.680 > 0.05, accept Ho\n",
    "    - B6 p-value : 0.931 > 0.05, accept Ho\n",
    "    - B7 p-value : 0.772 > 0.05, accept Ho\n",
    "    - B8 p-value : 0.878 > 0.05, accept Ho\n",
    "4. Coef for every variable = T-Test Prob from Bo, B1\n",
    "    tips = 0.5908 + 0.0945 total_bill + 0.1760 size + 0.0324 sex_Female + 0.0864 smoker_No + 0.1623 day_Fri + 0.0408 day_Sat + 0.1368 day_Sun + -0.0681 time_Dinner\n",
    "    - Bo : 0.5908, tip value when total_bill = 0 and size = 0\n",
    "    - B1 : 0.0945, for every 10 dollars increase in total_bill, tips will increase by approximately 0.927 dollars. (This interpretation only accepted when total_bill 3.07 - 50.81 dollars)\n",
    "    - B2 : 0.1760, for every 1 person increase in size, tips will increase by approximately 0.1760 dollars (This interpretation only accepted when size 1 - 6 persons)\n",
    "    - B3 : 0.0324, average tip from Female is higher 0.0324 dollar than average tip from Male\n",
    "    - B4 : 0.0864, average tip from Non Smoker is higher 0.0864 dollar than average tip from Smoker\n",
    "    - B5 : 0.1623, average tip in Friday is higher 0.1623 dollar than average tip in Thursday\n",
    "    - B6 : 0.0408, average tip in Saturday is higher 0.0408 dollar than average tip in Thursday\n",
    "    - B7 : 0.1368, average tip in Sunday is higher 0.1368 dollar than average tip in Thursday\n",
    "    - B8 : -0.0681, average tip in Dinner time is lower 0.0681 dollar than average tip in Lunch time\n",
    "    "
   ],
   "metadata": {}
  },
  {
   "cell_type": "markdown",
   "source": [
    "\r\n",
    "## Model Diagnostics and Multicollinearity\r\n",
    "> ### Normality Assumption"
   ],
   "metadata": {}
  },
  {
   "cell_type": "code",
   "execution_count": 13,
   "source": [
    "plt.figure(figsize=(10,10))\r\n",
    "sns.displot(result.resid) # Residual histogram\r\n",
    "plt.show()"
   ],
   "outputs": [
    {
     "output_type": "display_data",
     "data": {
      "text/plain": [
       "<Figure size 720x720 with 0 Axes>"
      ]
     },
     "metadata": {}
    },
    {
     "output_type": "display_data",
     "data": {
      "image/png": "[encoded data removed]",
      "text/plain": [
       "<Figure size 360x360 with 1 Axes>"
      ]
     },
     "metadata": {
      "needs_background": "light"
     }
    }
   ],
   "metadata": {}
  },
  {
   "cell_type": "code",
   "execution_count": 14,
   "source": [
    "sm.qqplot(result.resid, line = '45') # qqplot residual\r\n",
    "plt.show() "
   ],
   "outputs": [
    {
     "output_type": "display_data",
     "data": {
      "image/png": "[encoded data removed]",
      "text/plain": [
       "<Figure size 432x288 with 1 Axes>"
      ]
     },
     "metadata": {
      "needs_background": "light"
     }
    }
   ],
   "metadata": {}
  },
  {
   "cell_type": "markdown",
   "source": [
    "Histogram looks normally distribute, we assume the assumptions are met\r\n",
    "> ### Gauss-Markov Assumption\r\n",
    "    1. Error mean = 0\r\n",
    "    2. Error not correlated\r\n",
    "    3. Error variance homogeneous "
   ],
   "metadata": {}
  },
  {
   "cell_type": "code",
   "execution_count": 15,
   "source": [
    "plt.figure(figsize = (10,10))\r\n",
    "sns.scatterplot(x = result.fittedvalues, y = result.resid)\r\n",
    "sns.lineplot(result.fittedvalues, 0)\r\n",
    "plt.xlabel('Fitted Values', fontsize = 20)\r\n",
    "plt.ylabel('Residuals', fontsize = 20)\r\n",
    "plt.show()"
   ],
   "outputs": [
    {
     "output_type": "stream",
     "name": "stderr",
     "text": [
      "C:\\Users\\user\\Anaconda3\\lib\\site-packages\\seaborn\\_decorators.py:43: FutureWarning: Pass the following variables as keyword args: x, y. From version 0.12, the only valid positional argument will be `data`, and passing other arguments without an explicit keyword will result in an error or misinterpretation.\n",
      "  FutureWarning\n"
     ]
    },
    {
     "output_type": "display_data",
     "data": {
      "image/png": "[encoded data removed]",
      "text/plain": [
       "<Figure size 720x720 with 1 Axes>"
      ]
     },
     "metadata": {
      "needs_background": "light"
     }
    }
   ],
   "metadata": {}
  },
  {
   "cell_type": "markdown",
   "source": [
    "1. Error mean = 0 : assumptions are considered fulfilled\r\n",
    "2. Error not correlated : assumptions are considered fulfilled because no pattern\r\n",
    "3. Error variance homogeneous : indicated homoscedasticity problem\r\n",
    "> ### Multicollinearity"
   ],
   "metadata": {}
  },
  {
   "cell_type": "code",
   "execution_count": 16,
   "source": [
    "from statsmodels.stats.outliers_influence import variance_inflation_factor # vif "
   ],
   "outputs": [],
   "metadata": {}
  },
  {
   "cell_type": "code",
   "execution_count": 24,
   "source": [
    "def calc_vif(x): # Function to calculate vif\r\n",
    "    vif = pd.DataFrame()\r\n",
    "    vif['variables'] = x.columns\r\n",
    "    vif['VIF'] = [variance_inflation_factor(x.values, i) for i in range(x.shape[1])]\r\n",
    "    return vif"
   ],
   "outputs": [],
   "metadata": {}
  },
  {
   "cell_type": "code",
   "execution_count": 30,
   "source": [
    "calc_vif(tips_dummy[fitur]) # vif calculation for fitur"
   ],
   "outputs": [
    {
     "output_type": "execute_result",
     "data": {
      "text/html": [
       "<div>\n",
       "<style scoped>\n",
       "    .dataframe tbody tr th:only-of-type {\n",
       "        vertical-align: middle;\n",
       "    }\n",
       "\n",
       "    .dataframe tbody tr th {\n",
       "        vertical-align: top;\n",
       "    }\n",
       "\n",
       "    .dataframe thead th {\n",
       "        text-align: right;\n",
       "    }\n",
       "</style>\n",
       "<table border=\"1\" class=\"dataframe\">\n",
       "  <thead>\n",
       "    <tr style=\"text-align: right;\">\n",
       "      <th></th>\n",
       "      <th>variables</th>\n",
       "      <th>VIF</th>\n",
       "    </tr>\n",
       "  </thead>\n",
       "  <tbody>\n",
       "    <tr>\n",
       "      <th>0</th>\n",
       "      <td>total_bill</td>\n",
       "      <td>3.670370</td>\n",
       "    </tr>\n",
       "    <tr>\n",
       "      <th>1</th>\n",
       "      <td>sex_Female</td>\n",
       "      <td>1.439580</td>\n",
       "    </tr>\n",
       "    <tr>\n",
       "      <th>2</th>\n",
       "      <td>smoker_No</td>\n",
       "      <td>2.228945</td>\n",
       "    </tr>\n",
       "    <tr>\n",
       "      <th>3</th>\n",
       "      <td>day_Fri</td>\n",
       "      <td>1.175956</td>\n",
       "    </tr>\n",
       "    <tr>\n",
       "      <th>4</th>\n",
       "      <td>day_Sat</td>\n",
       "      <td>1.985433</td>\n",
       "    </tr>\n",
       "    <tr>\n",
       "      <th>5</th>\n",
       "      <td>day_Sun</td>\n",
       "      <td>2.068751</td>\n",
       "    </tr>\n",
       "  </tbody>\n",
       "</table>\n",
       "</div>"
      ],
      "text/plain": [
       "    variables       VIF\n",
       "0  total_bill  3.670370\n",
       "1  sex_Female  1.439580\n",
       "2   smoker_No  2.228945\n",
       "3     day_Fri  1.175956\n",
       "4     day_Sat  1.985433\n",
       "5     day_Sun  2.068751"
      ]
     },
     "metadata": {},
     "execution_count": 30
    }
   ],
   "metadata": {}
  },
  {
   "cell_type": "markdown",
   "source": [
    "There is an indication of fatal multicollinearity because VIF > 10\r\n",
    "### Assumption Assessment\r\n",
    "1. Normality Assumption: if we refer to the histogram, the residual seemed normally distributed\r\n",
    "2. Gauss-Markov:\r\n",
    "    - Error mean = 0 : we considered fulfilled, model residuals gather around zero. So beta value and prediction value not biased.\r\n",
    "    - Error not correlated : we considered fulfilled, no certain pattern in residual plot. So R-Sq and p-value T-Test not biased\r\n",
    "    - Error variance homogeneous : we considered unfulfilled because indicated homoscedasticity problem, so unstable prediction result and regression parameter estimate. Solution use other model.\r\n",
    "3. Multicollinearity: VIF not acceptable. Actually, we only need either total_bill or size. time_Dinner has the highest value of VIF, so it's reasonable if we excluded time_Dinner from the model"
   ],
   "metadata": {}
  },
  {
   "cell_type": "markdown",
   "source": [
    "\r\n",
    "## Model Improvement\r\n",
    "Model need to improve the model because of multicollinearity problem by excluding time_Dinner"
   ],
   "metadata": {}
  },
  {
   "cell_type": "code",
   "execution_count": 26,
   "source": [
    "fitur = ['total_bill', 'sex_Female', 'smoker_No', 'day_Fri', 'day_Sat', 'day_Sun'] # X variable\r\n",
    "target = 'tip' # y vaiable\r\n",
    "sm_lm = sm.OLS(tips_dummy[target], sm.add_constant(tips_dummy[fitur])) # model definition\r\n",
    "result = sm_lm.fit() # fitting model"
   ],
   "outputs": [],
   "metadata": {}
  },
  {
   "cell_type": "code",
   "execution_count": 27,
   "source": [
    "print(result.summary()) # ols regression"
   ],
   "outputs": [
    {
     "output_type": "stream",
     "name": "stdout",
     "text": [
      "                            OLS Regression Results                            \n",
      "==============================================================================\n",
      "Dep. Variable:                    tip   R-squared:                       0.461\n",
      "Model:                            OLS   Adj. R-squared:                  0.448\n",
      "Method:                 Least Squares   F-statistic:                     33.81\n",
      "Date:                Wed, 07 Jul 2021   Prob (F-statistic):           2.35e-29\n",
      "Time:                        15:43:55   Log-Likelihood:                -349.51\n",
      "No. Observations:                 244   AIC:                             713.0\n",
      "Df Residuals:                     237   BIC:                             737.5\n",
      "Df Model:                           6                                         \n",
      "Covariance Type:            nonrobust                                         \n",
      "==============================================================================\n",
      "                 coef    std err          t      P>|t|      [0.025      0.975]\n",
      "------------------------------------------------------------------------------\n",
      "const          0.7819      0.238      3.285      0.001       0.313       1.251\n",
      "total_bill     0.1057      0.008     13.858      0.000       0.091       0.121\n",
      "sex_Female     0.0377      0.142      0.265      0.791      -0.242       0.318\n",
      "smoker_No      0.1394      0.144      0.966      0.335      -0.145       0.423\n",
      "day_Fri        0.0928      0.280      0.332      0.740      -0.459       0.644\n",
      "day_Sat       -0.0335      0.176     -0.190      0.849      -0.381       0.314\n",
      "day_Sun        0.0969      0.182      0.532      0.595      -0.262       0.456\n",
      "==============================================================================\n",
      "Omnibus:                       24.459   Durbin-Watson:                   2.144\n",
      "Prob(Omnibus):                  0.000   Jarque-Bera (JB):               45.543\n",
      "Skew:                           0.540   Prob(JB):                     1.29e-10\n",
      "Kurtosis:                       4.821   Cond. No.                         114.\n",
      "==============================================================================\n",
      "\n",
      "Notes:\n",
      "[1] Standard Errors assume that the covariance matrix of the errors is correctly specified.\n"
     ]
    }
   ],
   "metadata": {}
  },
  {
   "cell_type": "code",
   "execution_count": 28,
   "source": [
    "calc_vif(tips_dummy[fitur]) # vif calulation after model improvement"
   ],
   "outputs": [
    {
     "output_type": "execute_result",
     "data": {
      "text/html": [
       "<div>\n",
       "<style scoped>\n",
       "    .dataframe tbody tr th:only-of-type {\n",
       "        vertical-align: middle;\n",
       "    }\n",
       "\n",
       "    .dataframe tbody tr th {\n",
       "        vertical-align: top;\n",
       "    }\n",
       "\n",
       "    .dataframe thead th {\n",
       "        text-align: right;\n",
       "    }\n",
       "</style>\n",
       "<table border=\"1\" class=\"dataframe\">\n",
       "  <thead>\n",
       "    <tr style=\"text-align: right;\">\n",
       "      <th></th>\n",
       "      <th>variables</th>\n",
       "      <th>VIF</th>\n",
       "    </tr>\n",
       "  </thead>\n",
       "  <tbody>\n",
       "    <tr>\n",
       "      <th>0</th>\n",
       "      <td>total_bill</td>\n",
       "      <td>3.670370</td>\n",
       "    </tr>\n",
       "    <tr>\n",
       "      <th>1</th>\n",
       "      <td>sex_Female</td>\n",
       "      <td>1.439580</td>\n",
       "    </tr>\n",
       "    <tr>\n",
       "      <th>2</th>\n",
       "      <td>smoker_No</td>\n",
       "      <td>2.228945</td>\n",
       "    </tr>\n",
       "    <tr>\n",
       "      <th>3</th>\n",
       "      <td>day_Fri</td>\n",
       "      <td>1.175956</td>\n",
       "    </tr>\n",
       "    <tr>\n",
       "      <th>4</th>\n",
       "      <td>day_Sat</td>\n",
       "      <td>1.985433</td>\n",
       "    </tr>\n",
       "    <tr>\n",
       "      <th>5</th>\n",
       "      <td>day_Sun</td>\n",
       "      <td>2.068751</td>\n",
       "    </tr>\n",
       "  </tbody>\n",
       "</table>\n",
       "</div>"
      ],
      "text/plain": [
       "    variables       VIF\n",
       "0  total_bill  3.670370\n",
       "1  sex_Female  1.439580\n",
       "2   smoker_No  2.228945\n",
       "3     day_Fri  1.175956\n",
       "4     day_Sat  1.985433\n",
       "5     day_Sun  2.068751"
      ]
     },
     "metadata": {},
     "execution_count": 28
    }
   ],
   "metadata": {}
  },
  {
   "cell_type": "markdown",
   "source": [
    "VIF is acceptable because VIF < 4     \n",
    "**Result Interpretation:**\n",
    "1. Adj. R-Square = 44.8 % : It means the model can explain 44.8 % variance value from tips, the rest explained by other variable that not included in model.\n",
    "2. Prob (F-Statistics) = F-Test = 2.35e-29 : Less than alpha(0.05), it means there is one independent variable has a significant effect on dependent variable (2.35e-29 < 0.05)\n",
    "3. Prob. Coef for every variable = Bo and B1     \n",
    "    - Bo p-value : 0.001 < 0.05, reject Ho: it means we need intercept in model     \n",
    "    - B1 p-value : 0.000 < 0.05, reject Ho: it means total_bill has positive effect on tips\n",
    "    - B2 p-value : 0.791 > 0.05, accept Ho\n",
    "    - B3 p-value : 0.335 > 0.05, accept Ho\n",
    "    - B4 p-value : 0.740 > 0.05, accept Ho\n",
    "    - B5 p-value : 0.849 > 0.05, accept Ho\n",
    "    - B6 p-value : 0.595 > 0.05, accept Ho\n",
    "4. Coef for every variable = T-Test Prob from Bo, B1\n",
    "    tips = 0.7819 + 0.1057 total_bill + 0.0377 sex_Female + 0.1394 smoker_No + 0.0928 day_Fri + -0.0335 day_Sat + 0.0969 day_Sun\n",
    "    - Bo : 0.7819, tip value when total_bill = 0 and size = 0\n",
    "    - B1 : 0.1057, for every 10 dollars increase in total_bill, tips will increase by approximately 1.057 dollars. (This interpretation only accepted when total_bill 3.07 - 50.81 dollars)\n",
    "    - B2 : 0.0377, average tip from Female is higher 0.0377 dollar than average tip from Male\n",
    "    - B3 : 0.1394, average tip from Non Smoker is higher 0.1394 dollar than average tip from Smoker\n",
    "    - B4 : 0.0928, average tip in Friday is higher 0.0928 dollar than average tip in Thursday\n",
    "    - B5 : -0.0335, average tip in Saturday is lower 0.0335 dollar than average tip in Thursday\n",
    "    - B6 : 0.0969, average tip in Sunday is higher 0.0969 dollar than average tip in Thursday\n",
    "    "
   ],
   "metadata": {}
  }
 ],
 "metadata": {
  "kernelspec": {
   "name": "python3",
   "display_name": "Python 3.7.3 64-bit ('base': conda)"
  },
  "language_info": {
   "codemirror_mode": {
    "name": "ipython",
    "version": 3
   },
   "file_extension": ".py",
   "mimetype": "text/x-python",
   "name": "python",
   "nbconvert_exporter": "python",
   "pygments_lexer": "ipython3",
   "version": "3.7.3"
  },
  "interpreter": {
   "hash": "5f292722d6d50c2426abae6fd15a85386b49c5393ec98f1c35f79e4e4dd7448b"
  }
 },
 "nbformat": 4,
 "nbformat_minor": 5
}