{
 "cells": [
  {
   "cell_type": "markdown",
   "id": "5e49013c-0a82-44c8-a4f9-c065abb68174",
   "metadata": {},
   "source": [
    "# Model Evaluation 1\n",
    "Analyze data : bankloan.csv\n",
    "default as Target\n",
    "Random state 2020, data splitting 80:20 stratified\n",
    "1. Modeling compute accuracy, recall, and another metrics using Stratified CV 5 fold:\n",
    "    - Logistic Regression (solver liblinear)\n",
    "    - KNN (k = 5)\n",
    "    - Decision Tree (criterion entropy, max_depth 5)\n",
    "2. Compute recall, precision, f1 score and make ROC, PRC from logistic regression in test\n",
    "3. Simple hyperparameter tuning: (optimize C) optimized by f1 and using training 60%, validation 20%, test 20%\n",
    "4. Compare the result (before and after)\n",
    "5. Grid Search CV hyperparameter tuning: (optimize C and max_iter) optimized by tf1 and using stratified CV 5 fold\n",
    "6. Compare the result (before and after)\n",
    "\n",
    "> ## Library and Data"
   ]
  },
  {
   "cell_type": "code",
   "execution_count": 1,
   "id": "dd33beac-e7aa-48f0-9de5-82c2fe84b435",
   "metadata": {},
   "outputs": [],
   "source": [
    "# dataframe\n",
    "import pandas as pd\n",
    "import numpy as np\n",
    "\n",
    "# model \n",
    "from sklearn.linear_model import LogisticRegression\n",
    "from sklearn.neighbors import KNeighborsClassifier\n",
    "from sklearn.tree import DecisionTreeClassifier\n",
    "\n",
    "# evaluation\n",
    "from sklearn.model_selection import train_test_split\n",
    "from sklearn.metrics import confusion_matrix, classification_report, f1_score, recall_score, precision_score\n",
    "\n",
    "from sklearn.model_selection import GridSearchCV\n",
    "from sklearn.model_selection import cross_val_score, StratifiedKFold\n",
    "import warnings\n",
    "\n",
    "# visualization\n",
    "import matplotlib.pyplot as plt\n",
    "import seaborn as sns\n",
    "\n",
    "# result visualization\n",
    "from sklearn.metrics import plot_roc_curve, plot_precision_recall_curve\n"
   ]
  },
  {
   "cell_type": "code",
   "execution_count": 2,
   "id": "f3cdac3e-1197-4bf2-b9a8-e660452a5d0a",
   "metadata": {},
   "outputs": [
    {
     "data": {
      "text/html": [
       "<div>\n",
       "<style scoped>\n",
       "    .dataframe tbody tr th:only-of-type {\n",
       "        vertical-align: middle;\n",
       "    }\n",
       "\n",
       "    .dataframe tbody tr th {\n",
       "        vertical-align: top;\n",
       "    }\n",
       "\n",
       "    .dataframe thead th {\n",
       "        text-align: right;\n",
       "    }\n",
       "</style>\n",
       "<table border=\"1\" class=\"dataframe\">\n",
       "  <thead>\n",
       "    <tr style=\"text-align: right;\">\n",
       "      <th></th>\n",
       "      <th>age</th>\n",
       "      <th>ed</th>\n",
       "      <th>employ</th>\n",
       "      <th>address</th>\n",
       "      <th>income</th>\n",
       "      <th>debtinc</th>\n",
       "      <th>creddebt</th>\n",
       "      <th>othdebt</th>\n",
       "      <th>default</th>\n",
       "    </tr>\n",
       "  </thead>\n",
       "  <tbody>\n",
       "    <tr>\n",
       "      <th>0</th>\n",
       "      <td>41</td>\n",
       "      <td>3</td>\n",
       "      <td>17</td>\n",
       "      <td>12</td>\n",
       "      <td>176</td>\n",
       "      <td>9.3</td>\n",
       "      <td>11.359392</td>\n",
       "      <td>5.008608</td>\n",
       "      <td>1</td>\n",
       "    </tr>\n",
       "    <tr>\n",
       "      <th>1</th>\n",
       "      <td>27</td>\n",
       "      <td>1</td>\n",
       "      <td>10</td>\n",
       "      <td>6</td>\n",
       "      <td>31</td>\n",
       "      <td>17.3</td>\n",
       "      <td>1.362202</td>\n",
       "      <td>4.000798</td>\n",
       "      <td>0</td>\n",
       "    </tr>\n",
       "    <tr>\n",
       "      <th>2</th>\n",
       "      <td>40</td>\n",
       "      <td>1</td>\n",
       "      <td>15</td>\n",
       "      <td>14</td>\n",
       "      <td>55</td>\n",
       "      <td>5.5</td>\n",
       "      <td>0.856075</td>\n",
       "      <td>2.168925</td>\n",
       "      <td>0</td>\n",
       "    </tr>\n",
       "    <tr>\n",
       "      <th>3</th>\n",
       "      <td>41</td>\n",
       "      <td>1</td>\n",
       "      <td>15</td>\n",
       "      <td>14</td>\n",
       "      <td>120</td>\n",
       "      <td>2.9</td>\n",
       "      <td>2.658720</td>\n",
       "      <td>0.821280</td>\n",
       "      <td>0</td>\n",
       "    </tr>\n",
       "    <tr>\n",
       "      <th>4</th>\n",
       "      <td>24</td>\n",
       "      <td>2</td>\n",
       "      <td>2</td>\n",
       "      <td>0</td>\n",
       "      <td>28</td>\n",
       "      <td>17.3</td>\n",
       "      <td>1.787436</td>\n",
       "      <td>3.056564</td>\n",
       "      <td>1</td>\n",
       "    </tr>\n",
       "    <tr>\n",
       "      <th>...</th>\n",
       "      <td>...</td>\n",
       "      <td>...</td>\n",
       "      <td>...</td>\n",
       "      <td>...</td>\n",
       "      <td>...</td>\n",
       "      <td>...</td>\n",
       "      <td>...</td>\n",
       "      <td>...</td>\n",
       "      <td>...</td>\n",
       "    </tr>\n",
       "    <tr>\n",
       "      <th>695</th>\n",
       "      <td>36</td>\n",
       "      <td>2</td>\n",
       "      <td>6</td>\n",
       "      <td>15</td>\n",
       "      <td>27</td>\n",
       "      <td>4.6</td>\n",
       "      <td>0.262062</td>\n",
       "      <td>0.979938</td>\n",
       "      <td>1</td>\n",
       "    </tr>\n",
       "    <tr>\n",
       "      <th>696</th>\n",
       "      <td>29</td>\n",
       "      <td>2</td>\n",
       "      <td>6</td>\n",
       "      <td>4</td>\n",
       "      <td>21</td>\n",
       "      <td>11.5</td>\n",
       "      <td>0.369495</td>\n",
       "      <td>2.045505</td>\n",
       "      <td>0</td>\n",
       "    </tr>\n",
       "    <tr>\n",
       "      <th>697</th>\n",
       "      <td>33</td>\n",
       "      <td>1</td>\n",
       "      <td>15</td>\n",
       "      <td>3</td>\n",
       "      <td>32</td>\n",
       "      <td>7.6</td>\n",
       "      <td>0.491264</td>\n",
       "      <td>1.940736</td>\n",
       "      <td>0</td>\n",
       "    </tr>\n",
       "    <tr>\n",
       "      <th>698</th>\n",
       "      <td>45</td>\n",
       "      <td>1</td>\n",
       "      <td>19</td>\n",
       "      <td>22</td>\n",
       "      <td>77</td>\n",
       "      <td>8.4</td>\n",
       "      <td>2.302608</td>\n",
       "      <td>4.165392</td>\n",
       "      <td>0</td>\n",
       "    </tr>\n",
       "    <tr>\n",
       "      <th>699</th>\n",
       "      <td>37</td>\n",
       "      <td>1</td>\n",
       "      <td>12</td>\n",
       "      <td>14</td>\n",
       "      <td>44</td>\n",
       "      <td>14.7</td>\n",
       "      <td>2.994684</td>\n",
       "      <td>3.473316</td>\n",
       "      <td>0</td>\n",
       "    </tr>\n",
       "  </tbody>\n",
       "</table>\n",
       "<p>700 rows × 9 columns</p>\n",
       "</div>"
      ],
      "text/plain": [
       "     age  ed  employ  address  income  debtinc   creddebt   othdebt  default\n",
       "0     41   3      17       12     176      9.3  11.359392  5.008608        1\n",
       "1     27   1      10        6      31     17.3   1.362202  4.000798        0\n",
       "2     40   1      15       14      55      5.5   0.856075  2.168925        0\n",
       "3     41   1      15       14     120      2.9   2.658720  0.821280        0\n",
       "4     24   2       2        0      28     17.3   1.787436  3.056564        1\n",
       "..   ...  ..     ...      ...     ...      ...        ...       ...      ...\n",
       "695   36   2       6       15      27      4.6   0.262062  0.979938        1\n",
       "696   29   2       6        4      21     11.5   0.369495  2.045505        0\n",
       "697   33   1      15        3      32      7.6   0.491264  1.940736        0\n",
       "698   45   1      19       22      77      8.4   2.302608  4.165392        0\n",
       "699   37   1      12       14      44     14.7   2.994684  3.473316        0\n",
       "\n",
       "[700 rows x 9 columns]"
      ]
     },
     "execution_count": 2,
     "metadata": {},
     "output_type": "execute_result"
    }
   ],
   "source": [
    "bankloan = pd.read_csv(r'C:\\Users\\user\\Documents\\Data Science\\MODUL 3\\Metrics _ Classification\\bankloan.csv')\n",
    "bankloan"
   ]
  },
  {
   "cell_type": "markdown",
   "id": "a8564b72-7f4e-49ee-b801-a01fd41c7f2b",
   "metadata": {},
   "source": [
    "> ## Data Splitting"
   ]
  },
  {
   "cell_type": "code",
   "execution_count": 3,
   "id": "9c0d25e5-d025-4932-b7ac-c166ace634bc",
   "metadata": {},
   "outputs": [],
   "source": [
    "feature = ['employ', 'debtinc', 'creddebt', 'othdebt']\n",
    "x = bankloan[feature]\n",
    "y = bankloan['default']"
   ]
  },
  {
   "cell_type": "code",
   "execution_count": 4,
   "id": "998eb749-09b4-4956-9928-b5d8e9e933c4",
   "metadata": {},
   "outputs": [],
   "source": [
    "x_trainval, x_test, y_trainval, y_test = train_test_split(x, y, stratify = y, test_size = 0.2, random_state = 2020) # keep the proportions on train (default = 15%) and test the same"
   ]
  },
  {
   "cell_type": "markdown",
   "id": "555a8cef-7112-425a-9897-f353e1b532a3",
   "metadata": {},
   "source": [
    "> ## Modeling : Benchmark\n",
    "- Logistic Regression (solver liblinear)\n",
    "- KNN (k = 5)\n",
    "- Decision Tree (criterion entropy, max_depth 5)\n",
    "\n",
    "Calculate metrics with 5 fold cross validation"
   ]
  },
  {
   "cell_type": "code",
   "execution_count": 5,
   "id": "0ac9f17e-13ee-473e-8463-8cf394b4c508",
   "metadata": {},
   "outputs": [],
   "source": [
    "logreg = LogisticRegression(solver = 'liblinear', random_state = 2020)\n",
    "knn = KNeighborsClassifier(n_neighbors = 5)\n",
    "tree = DecisionTreeClassifier(criterion = 'entropy', max_depth = 5, random_state = 2020)"
   ]
  },
  {
   "cell_type": "code",
   "execution_count": 6,
   "id": "777ae185-9ccc-4fcd-9c2c-16a591d0d0a8",
   "metadata": {},
   "outputs": [],
   "source": [
    "def model_evaluation(model, metrics):\n",
    "    skfold = StratifiedKFold(n_splits = 5)\n",
    "    model_cv = cross_val_score(model, x_trainval, y_trainval, cv = skfold, scoring = metrics)\n",
    "    \n",
    "    print('cross validation: ', model_cv)\n",
    "    print('mean cross validation: ', model_cv.mean())\n",
    "    print('std cross validation: ', model_cv.std())"
   ]
  },
  {
   "cell_type": "code",
   "execution_count": 7,
   "id": "336945a7-6a0d-4825-908b-dcf7955cf5dc",
   "metadata": {},
   "outputs": [
    {
     "name": "stdout",
     "output_type": "stream",
     "text": [
      "cross validation:  [0.56603774 0.43902439 0.65384615 0.53061224 0.52830189]\n",
      "mean cross validation:  0.543564482325905\n",
      "std cross validation:  0.06927688261828344\n"
     ]
    }
   ],
   "source": [
    "# Logreg\n",
    "model_evaluation(logreg, 'f1')"
   ]
  },
  {
   "cell_type": "code",
   "execution_count": 8,
   "id": "21faea5d-bae9-4da4-8adf-5a2b3deca299",
   "metadata": {},
   "outputs": [
    {
     "name": "stdout",
     "output_type": "stream",
     "text": [
      "cross validation:  [0.46153846 0.36       0.44897959 0.35897436 0.33333333]\n",
      "mean cross validation:  0.3925651491365777\n",
      "std cross validation:  0.05222479352609521\n"
     ]
    }
   ],
   "source": [
    "# KNN\n",
    "model_evaluation(knn, 'f1')"
   ]
  },
  {
   "cell_type": "code",
   "execution_count": 9,
   "id": "df39fb34-ee94-4a49-909b-8de62eddb64e",
   "metadata": {},
   "outputs": [
    {
     "name": "stdout",
     "output_type": "stream",
     "text": [
      "cross validation:  [0.66666667 0.36363636 0.55319149 0.27027027 0.48      ]\n",
      "mean cross validation:  0.46675295798700056\n",
      "std cross validation:  0.13917691859588774\n"
     ]
    }
   ],
   "source": [
    "# Tree\n",
    "model_evaluation(tree, 'f1')"
   ]
  },
  {
   "cell_type": "markdown",
   "id": "91d000ec-6efb-4395-89b6-43dec90147c7",
   "metadata": {},
   "source": [
    "> ## Model Performance in Test"
   ]
  },
  {
   "cell_type": "code",
   "execution_count": 10,
   "id": "b1140683-c272-43fa-aedb-b4e5242eb971",
   "metadata": {},
   "outputs": [
    {
     "data": {
      "text/plain": [
       "LogisticRegression(solver='liblinear')"
      ]
     },
     "execution_count": 10,
     "metadata": {},
     "output_type": "execute_result"
    }
   ],
   "source": [
    "logreg = LogisticRegression(solver = 'liblinear')\n",
    "logreg.fit(x_trainval, y_trainval)"
   ]
  },
  {
   "cell_type": "code",
   "execution_count": 11,
   "id": "2ae8d41c-c655-47a0-a438-36fef9965603",
   "metadata": {},
   "outputs": [],
   "source": [
    "y_pred  = logreg.predict(x_test)"
   ]
  },
  {
   "cell_type": "code",
   "execution_count": 12,
   "id": "bd44df74-904a-4b51-9629-8f23ef326833",
   "metadata": {},
   "outputs": [
    {
     "name": "stdout",
     "output_type": "stream",
     "text": [
      "recall score : 0.4864864864864865\n",
      "precision score : 0.782608695652174\n",
      "f1 score : 0.6000000000000001\n"
     ]
    }
   ],
   "source": [
    "print('recall score :', recall_score(y_test, y_pred)) # default 1\n",
    "print('precision score :', precision_score(y_test, y_pred)) # default 1\n",
    "print('f1 score :', f1_score(y_test, y_pred)) # default 1"
   ]
  },
  {
   "cell_type": "code",
   "execution_count": 13,
   "id": "a24e66bc-3777-4482-a56c-c268f38d28e3",
   "metadata": {},
   "outputs": [
    {
     "name": "stdout",
     "output_type": "stream",
     "text": [
      "              precision    recall  f1-score   support\n",
      "\n",
      "           0       0.84      0.95      0.89       103\n",
      "           1       0.78      0.49      0.60        37\n",
      "\n",
      "    accuracy                           0.83       140\n",
      "   macro avg       0.81      0.72      0.75       140\n",
      "weighted avg       0.82      0.83      0.81       140\n",
      "\n"
     ]
    }
   ],
   "source": [
    "print(classification_report(y_test, y_pred))"
   ]
  },
  {
   "cell_type": "code",
   "execution_count": 14,
   "id": "830dc793-7a40-4940-8f48-63782a449077",
   "metadata": {},
   "outputs": [
    {
     "data": {
      "text/plain": [
       "<sklearn.metrics._plot.roc_curve.RocCurveDisplay at 0x18d7f84b438>"
      ]
     },
     "execution_count": 14,
     "metadata": {},
     "output_type": "execute_result"
    },
    {
     "data": {
      "image/png": "[encoded data removed]",
      "text/plain": [
       "<Figure size 432x288 with 1 Axes>"
      ]
     },
     "metadata": {
      "needs_background": "light"
     },
     "output_type": "display_data"
    }
   ],
   "source": [
    "plot_roc_curve(logreg, x_test, y_test)"
   ]
  },
  {
   "cell_type": "code",
   "execution_count": 15,
   "id": "deb02d9c-61fc-41b9-ad12-356d2783fdc3",
   "metadata": {},
   "outputs": [
    {
     "data": {
      "text/plain": [
       "<sklearn.metrics._plot.precision_recall_curve.PrecisionRecallDisplay at 0x18d00016240>"
      ]
     },
     "execution_count": 15,
     "metadata": {},
     "output_type": "execute_result"
    },
    {
     "data": {
      "image/png": "[encoded data removed]",
      "text/plain": [
       "<Figure size 432x288 with 1 Axes>"
      ]
     },
     "metadata": {
      "needs_background": "light"
     },
     "output_type": "display_data"
    }
   ],
   "source": [
    "plot_precision_recall_curve(logreg, x_test, y_test)"
   ]
  },
  {
   "cell_type": "markdown",
   "id": "74f4d155-f7ab-4b5c-a502-62c12a62bd7b",
   "metadata": {},
   "source": [
    "> ## Simple Hyperparamater Tuning for Logistic Regression"
   ]
  },
  {
   "cell_type": "markdown",
   "id": "e5b3b1a4-b62c-4100-ad82-a3fcb5a94456",
   "metadata": {},
   "source": [
    "Simple hyperparameter tuning: (optimize C) optimized by f1 and using training 60%, validation 20%, test 20%"
   ]
  },
  {
   "cell_type": "code",
   "execution_count": 16,
   "id": "91921c64-f67c-4fd4-b3da-1840c735adbc",
   "metadata": {},
   "outputs": [],
   "source": [
    "x_train, x_val, y_train, y_val = train_test_split(x_trainval, y_trainval, stratify = y_trainval, test_size = 140, random_state = 20)"
   ]
  },
  {
   "cell_type": "code",
   "execution_count": 17,
   "id": "a09a5a37-b257-40f5-826c-f500e40af215",
   "metadata": {},
   "outputs": [],
   "source": [
    "hyperparam_c = [1000, 100, 10, 1, 0.1, 0.01, 0.001, 0.0001]\n",
    "best_score = 0\n",
    "val_score = []\n",
    "\n",
    "for i in hyperparam_c:\n",
    "    # fitting model \n",
    "    logreg = LogisticRegression(solver = 'liblinear', C = i)\n",
    "    logreg.fit(x_train, y_train)\n",
    "    \n",
    "    # score calculated\n",
    "    y_pred_val = logreg.predict(x_val)\n",
    "    score_tmp = f1_score(y_val, y_pred_val)\n",
    "    \n",
    "    # choose best score\n",
    "    if score_tmp > best_score:\n",
    "        best_score = score_tmp\n",
    "        best_param = i"
   ]
  },
  {
   "cell_type": "code",
   "execution_count": 18,
   "id": "ffa0e93a-4e75-4a49-b9b5-051678ba8086",
   "metadata": {},
   "outputs": [
    {
     "name": "stdout",
     "output_type": "stream",
     "text": [
      "Best score : 0.676056338028169\n",
      "Best hyperparam : 0.1\n"
     ]
    }
   ],
   "source": [
    "print('Best score :', best_score)\n",
    "print('Best hyperparam :', best_param)"
   ]
  },
  {
   "cell_type": "markdown",
   "id": "607f4330-9030-4167-95ee-90cdb8414c72",
   "metadata": {},
   "source": [
    "> ## Compare Result"
   ]
  },
  {
   "cell_type": "code",
   "execution_count": 19,
   "id": "839fe61b-6bd2-4a8f-9a0a-b7943d4ffd1e",
   "metadata": {},
   "outputs": [],
   "source": [
    "logreg_after = LogisticRegression(solver = 'liblinear', C = 0.1)\n",
    "logreg_before = LogisticRegression(solver = 'liblinear', C = 1)"
   ]
  },
  {
   "cell_type": "code",
   "execution_count": 20,
   "id": "984a551f-065c-4da1-a0c4-960334b33ad2",
   "metadata": {},
   "outputs": [
    {
     "name": "stdout",
     "output_type": "stream",
     "text": [
      "              precision    recall  f1-score   support\n",
      "\n",
      "           0       0.84      0.95      0.89       103\n",
      "           1       0.78      0.49      0.60        37\n",
      "\n",
      "    accuracy                           0.83       140\n",
      "   macro avg       0.81      0.72      0.75       140\n",
      "weighted avg       0.82      0.83      0.81       140\n",
      "\n"
     ]
    }
   ],
   "source": [
    "logreg_before.fit(x_trainval, y_trainval)\n",
    "y_pred = logreg_before.predict(x_test)\n",
    "print(classification_report(y_test, y_pred))"
   ]
  },
  {
   "cell_type": "code",
   "execution_count": 21,
   "id": "302f80f5-77bb-4be6-96de-f29eb061070c",
   "metadata": {},
   "outputs": [
    {
     "name": "stdout",
     "output_type": "stream",
     "text": [
      "              precision    recall  f1-score   support\n",
      "\n",
      "           0       0.83      0.93      0.88       103\n",
      "           1       0.72      0.49      0.58        37\n",
      "\n",
      "    accuracy                           0.81       140\n",
      "   macro avg       0.78      0.71      0.73       140\n",
      "weighted avg       0.80      0.81      0.80       140\n",
      "\n"
     ]
    }
   ],
   "source": [
    "logreg_after.fit(x_trainval, y_trainval)\n",
    "y_pred = logreg_after.predict(x_test)\n",
    "print(classification_report(y_test, y_pred))"
   ]
  },
  {
   "cell_type": "markdown",
   "id": "2c3e024d-08c5-436c-8601-a575b53b6271",
   "metadata": {},
   "source": [
    "1. Improvement in validation score not significant\n",
    "2. C score not good enough, solution change C value\n",
    "3. Test Set coincidentally hard to predict\n",
    "    \n",
    "train - val - test : for big data (millions) -> use spark"
   ]
  },
  {
   "cell_type": "markdown",
   "id": "0fcb3a4d-a2b4-4253-acd3-8e0051fa1a6f",
   "metadata": {},
   "source": [
    "______\n",
    "> ## Simple Hyperparamater Tuning for Logistic Regression with Grid Search (Cross Validation)\n",
    "\n",
    "Grid Search CV hyperparameter tuning: (optimize C and max_iter) optimized by tf1 and using stratified CV 5 fold"
   ]
  },
  {
   "cell_type": "code",
   "execution_count": 22,
   "id": "7b9ab7ed-ad58-4e24-a275-6d41bafe8431",
   "metadata": {},
   "outputs": [],
   "source": [
    "hyperparam_c = {\n",
    "    'C':[1000, 500, 100, 50, 10, 5, 1, 0.5, 0.1, 0.05, 0.01, 0.005, 0.001, 0.0005, 0.0001],\n",
    "    'max_iter':[100, 200, 300, 400, 500, 1000]\n",
    "}\n",
    "\n",
    " # C = 1 is our benchmark\n",
    "skfold = StratifiedKFold(n_splits = 5) # every split have the same default proportion\n",
    "logreg = LogisticRegression(solver = 'liblinear', random_state = 2020)\n",
    "\n",
    "grid_search = GridSearchCV(\n",
    "    logreg, \n",
    "    param_grid = hyperparam_c, \n",
    "    cv = skfold, \n",
    "    scoring = 'f1', \n",
    "    n_jobs = -1\n",
    ")"
   ]
  },
  {
   "cell_type": "code",
   "execution_count": 23,
   "id": "d4d7d940-476b-4cd7-b27d-5e6fe182cca7",
   "metadata": {},
   "outputs": [
    {
     "data": {
      "text/plain": [
       "GridSearchCV(cv=StratifiedKFold(n_splits=5, random_state=None, shuffle=False),\n",
       "             estimator=LogisticRegression(random_state=2020,\n",
       "                                          solver='liblinear'),\n",
       "             n_jobs=-1,\n",
       "             param_grid={'C': [1000, 500, 100, 50, 10, 5, 1, 0.5, 0.1, 0.05,\n",
       "                               0.01, 0.005, 0.001, 0.0005, 0.0001],\n",
       "                         'max_iter': [100, 200, 300, 400, 500, 1000]},\n",
       "             scoring='f1')"
      ]
     },
     "execution_count": 23,
     "metadata": {},
     "output_type": "execute_result"
    }
   ],
   "source": [
    "grid_search.fit(x_trainval, y_trainval)"
   ]
  },
  {
   "cell_type": "code",
   "execution_count": 24,
   "id": "1dbf6e8b-9c71-42da-a342-9aafd8a7ef9d",
   "metadata": {},
   "outputs": [
    {
     "data": {
      "text/plain": [
       "{'C': 0.05, 'max_iter': 100}"
      ]
     },
     "execution_count": 24,
     "metadata": {},
     "output_type": "execute_result"
    }
   ],
   "source": [
    " grid_search.best_params_"
   ]
  },
  {
   "cell_type": "code",
   "execution_count": 26,
   "id": "fa9ccea8-feec-46f9-8fc4-b245f5da2ef4",
   "metadata": {},
   "outputs": [
    {
     "data": {
      "text/plain": [
       "0.5563225088777649"
      ]
     },
     "execution_count": 26,
     "metadata": {},
     "output_type": "execute_result"
    }
   ],
   "source": [
    "grid_search.best_score_"
   ]
  },
  {
   "cell_type": "code",
   "execution_count": 32,
   "id": "36693872-c8b7-4c63-8d41-551d5c8b442a",
   "metadata": {},
   "outputs": [],
   "source": [
    "hasil_cv = pd.DataFrame(grid_search.cv_results_)"
   ]
  },
  {
   "cell_type": "code",
   "execution_count": 35,
   "id": "1686a2f0-f381-45fb-8b3f-90772897a46f",
   "metadata": {},
   "outputs": [
    {
     "data": {
      "text/html": [
       "<div>\n",
       "<style scoped>\n",
       "    .dataframe tbody tr th:only-of-type {\n",
       "        vertical-align: middle;\n",
       "    }\n",
       "\n",
       "    .dataframe tbody tr th {\n",
       "        vertical-align: top;\n",
       "    }\n",
       "\n",
       "    .dataframe thead th {\n",
       "        text-align: right;\n",
       "    }\n",
       "</style>\n",
       "<table border=\"1\" class=\"dataframe\">\n",
       "  <thead>\n",
       "    <tr style=\"text-align: right;\">\n",
       "      <th></th>\n",
       "      <th>mean_fit_time</th>\n",
       "      <th>std_fit_time</th>\n",
       "      <th>mean_score_time</th>\n",
       "      <th>std_score_time</th>\n",
       "      <th>param_C</th>\n",
       "      <th>param_max_iter</th>\n",
       "      <th>params</th>\n",
       "      <th>split0_test_score</th>\n",
       "      <th>split1_test_score</th>\n",
       "      <th>split2_test_score</th>\n",
       "      <th>split3_test_score</th>\n",
       "      <th>split4_test_score</th>\n",
       "      <th>mean_test_score</th>\n",
       "      <th>std_test_score</th>\n",
       "      <th>rank_test_score</th>\n",
       "    </tr>\n",
       "  </thead>\n",
       "  <tbody>\n",
       "    <tr>\n",
       "      <th>54</th>\n",
       "      <td>0.007386</td>\n",
       "      <td>0.002803</td>\n",
       "      <td>0.029035</td>\n",
       "      <td>0.032853</td>\n",
       "      <td>0.05</td>\n",
       "      <td>100</td>\n",
       "      <td>{'C': 0.05, 'max_iter': 100}</td>\n",
       "      <td>0.528302</td>\n",
       "      <td>0.530612</td>\n",
       "      <td>0.607143</td>\n",
       "      <td>0.56</td>\n",
       "      <td>0.555556</td>\n",
       "      <td>0.556323</td>\n",
       "      <td>0.028436</td>\n",
       "      <td>1</td>\n",
       "    </tr>\n",
       "    <tr>\n",
       "      <th>55</th>\n",
       "      <td>0.018176</td>\n",
       "      <td>0.014421</td>\n",
       "      <td>0.017424</td>\n",
       "      <td>0.024390</td>\n",
       "      <td>0.05</td>\n",
       "      <td>200</td>\n",
       "      <td>{'C': 0.05, 'max_iter': 200}</td>\n",
       "      <td>0.528302</td>\n",
       "      <td>0.530612</td>\n",
       "      <td>0.607143</td>\n",
       "      <td>0.56</td>\n",
       "      <td>0.555556</td>\n",
       "      <td>0.556323</td>\n",
       "      <td>0.028436</td>\n",
       "      <td>1</td>\n",
       "    </tr>\n",
       "    <tr>\n",
       "      <th>56</th>\n",
       "      <td>0.019191</td>\n",
       "      <td>0.015057</td>\n",
       "      <td>0.029443</td>\n",
       "      <td>0.041482</td>\n",
       "      <td>0.05</td>\n",
       "      <td>300</td>\n",
       "      <td>{'C': 0.05, 'max_iter': 300}</td>\n",
       "      <td>0.528302</td>\n",
       "      <td>0.530612</td>\n",
       "      <td>0.607143</td>\n",
       "      <td>0.56</td>\n",
       "      <td>0.555556</td>\n",
       "      <td>0.556323</td>\n",
       "      <td>0.028436</td>\n",
       "      <td>1</td>\n",
       "    </tr>\n",
       "    <tr>\n",
       "      <th>57</th>\n",
       "      <td>0.008788</td>\n",
       "      <td>0.005132</td>\n",
       "      <td>0.004988</td>\n",
       "      <td>0.000631</td>\n",
       "      <td>0.05</td>\n",
       "      <td>400</td>\n",
       "      <td>{'C': 0.05, 'max_iter': 400}</td>\n",
       "      <td>0.528302</td>\n",
       "      <td>0.530612</td>\n",
       "      <td>0.607143</td>\n",
       "      <td>0.56</td>\n",
       "      <td>0.555556</td>\n",
       "      <td>0.556323</td>\n",
       "      <td>0.028436</td>\n",
       "      <td>1</td>\n",
       "    </tr>\n",
       "    <tr>\n",
       "      <th>58</th>\n",
       "      <td>0.006597</td>\n",
       "      <td>0.001736</td>\n",
       "      <td>0.020811</td>\n",
       "      <td>0.026048</td>\n",
       "      <td>0.05</td>\n",
       "      <td>500</td>\n",
       "      <td>{'C': 0.05, 'max_iter': 500}</td>\n",
       "      <td>0.528302</td>\n",
       "      <td>0.530612</td>\n",
       "      <td>0.607143</td>\n",
       "      <td>0.56</td>\n",
       "      <td>0.555556</td>\n",
       "      <td>0.556323</td>\n",
       "      <td>0.028436</td>\n",
       "      <td>1</td>\n",
       "    </tr>\n",
       "    <tr>\n",
       "      <th>59</th>\n",
       "      <td>0.006204</td>\n",
       "      <td>0.000409</td>\n",
       "      <td>0.007214</td>\n",
       "      <td>0.004540</td>\n",
       "      <td>0.05</td>\n",
       "      <td>1000</td>\n",
       "      <td>{'C': 0.05, 'max_iter': 1000}</td>\n",
       "      <td>0.528302</td>\n",
       "      <td>0.530612</td>\n",
       "      <td>0.607143</td>\n",
       "      <td>0.56</td>\n",
       "      <td>0.555556</td>\n",
       "      <td>0.556323</td>\n",
       "      <td>0.028436</td>\n",
       "      <td>1</td>\n",
       "    </tr>\n",
       "  </tbody>\n",
       "</table>\n",
       "</div>"
      ],
      "text/plain": [
       "    mean_fit_time  std_fit_time  mean_score_time  std_score_time param_C  \\\n",
       "54       0.007386      0.002803         0.029035        0.032853    0.05   \n",
       "55       0.018176      0.014421         0.017424        0.024390    0.05   \n",
       "56       0.019191      0.015057         0.029443        0.041482    0.05   \n",
       "57       0.008788      0.005132         0.004988        0.000631    0.05   \n",
       "58       0.006597      0.001736         0.020811        0.026048    0.05   \n",
       "59       0.006204      0.000409         0.007214        0.004540    0.05   \n",
       "\n",
       "   param_max_iter                         params  split0_test_score  \\\n",
       "54            100   {'C': 0.05, 'max_iter': 100}           0.528302   \n",
       "55            200   {'C': 0.05, 'max_iter': 200}           0.528302   \n",
       "56            300   {'C': 0.05, 'max_iter': 300}           0.528302   \n",
       "57            400   {'C': 0.05, 'max_iter': 400}           0.528302   \n",
       "58            500   {'C': 0.05, 'max_iter': 500}           0.528302   \n",
       "59           1000  {'C': 0.05, 'max_iter': 1000}           0.528302   \n",
       "\n",
       "    split1_test_score  split2_test_score  split3_test_score  \\\n",
       "54           0.530612           0.607143               0.56   \n",
       "55           0.530612           0.607143               0.56   \n",
       "56           0.530612           0.607143               0.56   \n",
       "57           0.530612           0.607143               0.56   \n",
       "58           0.530612           0.607143               0.56   \n",
       "59           0.530612           0.607143               0.56   \n",
       "\n",
       "    split4_test_score  mean_test_score  std_test_score  rank_test_score  \n",
       "54           0.555556         0.556323        0.028436                1  \n",
       "55           0.555556         0.556323        0.028436                1  \n",
       "56           0.555556         0.556323        0.028436                1  \n",
       "57           0.555556         0.556323        0.028436                1  \n",
       "58           0.555556         0.556323        0.028436                1  \n",
       "59           0.555556         0.556323        0.028436                1  "
      ]
     },
     "execution_count": 35,
     "metadata": {},
     "output_type": "execute_result"
    }
   ],
   "source": [
    "hasil_cv[hasil_cv['rank_test_score'] < 3]"
   ]
  },
  {
   "cell_type": "code",
   "execution_count": 40,
   "id": "fc622409-78b0-4d52-a350-e9f15ae8c29c",
   "metadata": {},
   "outputs": [
    {
     "data": {
      "text/html": [
       "<div>\n",
       "<style scoped>\n",
       "    .dataframe tbody tr th:only-of-type {\n",
       "        vertical-align: middle;\n",
       "    }\n",
       "\n",
       "    .dataframe tbody tr th {\n",
       "        vertical-align: top;\n",
       "    }\n",
       "\n",
       "    .dataframe thead th {\n",
       "        text-align: right;\n",
       "    }\n",
       "</style>\n",
       "<table border=\"1\" class=\"dataframe\">\n",
       "  <thead>\n",
       "    <tr style=\"text-align: right;\">\n",
       "      <th></th>\n",
       "      <th>mean_fit_time</th>\n",
       "      <th>std_fit_time</th>\n",
       "      <th>mean_score_time</th>\n",
       "      <th>std_score_time</th>\n",
       "      <th>param_C</th>\n",
       "      <th>param_max_iter</th>\n",
       "      <th>params</th>\n",
       "      <th>split0_test_score</th>\n",
       "      <th>split1_test_score</th>\n",
       "      <th>split2_test_score</th>\n",
       "      <th>split3_test_score</th>\n",
       "      <th>split4_test_score</th>\n",
       "      <th>mean_test_score</th>\n",
       "      <th>std_test_score</th>\n",
       "      <th>rank_test_score</th>\n",
       "    </tr>\n",
       "  </thead>\n",
       "  <tbody>\n",
       "    <tr>\n",
       "      <th>36</th>\n",
       "      <td>0.011989</td>\n",
       "      <td>0.006321</td>\n",
       "      <td>0.01324</td>\n",
       "      <td>0.015025</td>\n",
       "      <td>1</td>\n",
       "      <td>100</td>\n",
       "      <td>{'C': 1, 'max_iter': 100}</td>\n",
       "      <td>0.566038</td>\n",
       "      <td>0.439024</td>\n",
       "      <td>0.653846</td>\n",
       "      <td>0.530612</td>\n",
       "      <td>0.528302</td>\n",
       "      <td>0.543564</td>\n",
       "      <td>0.069277</td>\n",
       "      <td>55</td>\n",
       "    </tr>\n",
       "  </tbody>\n",
       "</table>\n",
       "</div>"
      ],
      "text/plain": [
       "    mean_fit_time  std_fit_time  mean_score_time  std_score_time param_C  \\\n",
       "36       0.011989      0.006321          0.01324        0.015025       1   \n",
       "\n",
       "   param_max_iter                     params  split0_test_score  \\\n",
       "36            100  {'C': 1, 'max_iter': 100}           0.566038   \n",
       "\n",
       "    split1_test_score  split2_test_score  split3_test_score  \\\n",
       "36           0.439024           0.653846           0.530612   \n",
       "\n",
       "    split4_test_score  mean_test_score  std_test_score  rank_test_score  \n",
       "36           0.528302         0.543564        0.069277               55  "
      ]
     },
     "execution_count": 40,
     "metadata": {},
     "output_type": "execute_result"
    }
   ],
   "source": [
    "hasil_cv[(hasil_cv['param_C'] == 1)&(hasil_cv['param_max_iter'] == 100)]"
   ]
  },
  {
   "cell_type": "code",
   "execution_count": 41,
   "id": "f4a696e3-91b4-41c3-9eca-001b194db529",
   "metadata": {},
   "outputs": [
    {
     "data": {
      "text/html": [
       "<div>\n",
       "<style scoped>\n",
       "    .dataframe tbody tr th:only-of-type {\n",
       "        vertical-align: middle;\n",
       "    }\n",
       "\n",
       "    .dataframe tbody tr th {\n",
       "        vertical-align: top;\n",
       "    }\n",
       "\n",
       "    .dataframe thead th {\n",
       "        text-align: right;\n",
       "    }\n",
       "</style>\n",
       "<table border=\"1\" class=\"dataframe\">\n",
       "  <thead>\n",
       "    <tr style=\"text-align: right;\">\n",
       "      <th></th>\n",
       "      <th>mean_fit_time</th>\n",
       "      <th>std_fit_time</th>\n",
       "      <th>mean_score_time</th>\n",
       "      <th>std_score_time</th>\n",
       "      <th>param_C</th>\n",
       "      <th>param_max_iter</th>\n",
       "      <th>params</th>\n",
       "      <th>split0_test_score</th>\n",
       "      <th>split1_test_score</th>\n",
       "      <th>split2_test_score</th>\n",
       "      <th>split3_test_score</th>\n",
       "      <th>split4_test_score</th>\n",
       "      <th>mean_test_score</th>\n",
       "      <th>std_test_score</th>\n",
       "      <th>rank_test_score</th>\n",
       "    </tr>\n",
       "  </thead>\n",
       "  <tbody>\n",
       "    <tr>\n",
       "      <th>54</th>\n",
       "      <td>0.007386</td>\n",
       "      <td>0.002803</td>\n",
       "      <td>0.029035</td>\n",
       "      <td>0.032853</td>\n",
       "      <td>0.05</td>\n",
       "      <td>100</td>\n",
       "      <td>{'C': 0.05, 'max_iter': 100}</td>\n",
       "      <td>0.528302</td>\n",
       "      <td>0.530612</td>\n",
       "      <td>0.607143</td>\n",
       "      <td>0.56</td>\n",
       "      <td>0.555556</td>\n",
       "      <td>0.556323</td>\n",
       "      <td>0.028436</td>\n",
       "      <td>1</td>\n",
       "    </tr>\n",
       "  </tbody>\n",
       "</table>\n",
       "</div>"
      ],
      "text/plain": [
       "    mean_fit_time  std_fit_time  mean_score_time  std_score_time param_C  \\\n",
       "54       0.007386      0.002803         0.029035        0.032853    0.05   \n",
       "\n",
       "   param_max_iter                        params  split0_test_score  \\\n",
       "54            100  {'C': 0.05, 'max_iter': 100}           0.528302   \n",
       "\n",
       "    split1_test_score  split2_test_score  split3_test_score  \\\n",
       "54           0.530612           0.607143               0.56   \n",
       "\n",
       "    split4_test_score  mean_test_score  std_test_score  rank_test_score  \n",
       "54           0.555556         0.556323        0.028436                1  "
      ]
     },
     "execution_count": 41,
     "metadata": {},
     "output_type": "execute_result"
    }
   ],
   "source": [
    "hasil_cv[(hasil_cv['param_C'] == 0.05)&(hasil_cv['param_max_iter'] == 100)]"
   ]
  },
  {
   "cell_type": "markdown",
   "id": "f4b97d6a-576b-47fb-bc62-9ccb44485dd7",
   "metadata": {},
   "source": [
    "> ## Compared Result Before and After"
   ]
  },
  {
   "cell_type": "code",
   "execution_count": 36,
   "id": "31ebaab4-26c3-4a64-92ff-966e1a444c85",
   "metadata": {},
   "outputs": [],
   "source": [
    "logreg_after = LogisticRegression(solver = 'liblinear', C = 0.05)\n",
    "logreg_before = LogisticRegression(solver = 'liblinear', C = 1)"
   ]
  },
  {
   "cell_type": "code",
   "execution_count": 37,
   "id": "8f9e8182-1893-4f49-be1d-dadd4a253149",
   "metadata": {},
   "outputs": [
    {
     "name": "stdout",
     "output_type": "stream",
     "text": [
      "              precision    recall  f1-score   support\n",
      "\n",
      "           0       0.84      0.95      0.89       103\n",
      "           1       0.78      0.49      0.60        37\n",
      "\n",
      "    accuracy                           0.83       140\n",
      "   macro avg       0.81      0.72      0.75       140\n",
      "weighted avg       0.82      0.83      0.81       140\n",
      "\n"
     ]
    }
   ],
   "source": [
    "# Before\n",
    "logreg_before.fit(x_trainval, y_trainval)\n",
    "y_pred = logreg_before.predict(x_test)\n",
    "print(classification_report(y_test, y_pred))"
   ]
  },
  {
   "cell_type": "code",
   "execution_count": 38,
   "id": "80af23a7-2ad7-41b8-8607-78ec19bfa9c0",
   "metadata": {},
   "outputs": [
    {
     "name": "stdout",
     "output_type": "stream",
     "text": [
      "              precision    recall  f1-score   support\n",
      "\n",
      "           0       0.84      0.91      0.87       103\n",
      "           1       0.68      0.51      0.58        37\n",
      "\n",
      "    accuracy                           0.81       140\n",
      "   macro avg       0.76      0.71      0.73       140\n",
      "weighted avg       0.80      0.81      0.80       140\n",
      "\n"
     ]
    }
   ],
   "source": [
    "# After\n",
    "logreg_after.fit(x_trainval, y_trainval)\n",
    "y_pred = logreg_after.predict(x_test)\n",
    "print(classification_report(y_test, y_pred))"
   ]
  },
  {
   "cell_type": "markdown",
   "id": "7c71e344-d3e6-4748-a2c8-e20f40d8b23c",
   "metadata": {},
   "source": [
    "1. Improvement in validation score not significant\n",
    "2. Hyperparam score not good enough, solution change hyperparam value\n",
    "3. Test Set coincidentally hard to predict (random_state = 2020)"
   ]
  },
  {
   "cell_type": "code",
   "execution_count": null,
   "id": "c0e321d7-8f0d-4611-bde2-97c427290074",
   "metadata": {},
   "outputs": [],
   "source": []
  }
 ],
 "metadata": {
  "kernelspec": {
   "display_name": "Python 3",
   "language": "python",
   "name": "python3"
  },
  "language_info": {
   "codemirror_mode": {
    "name": "ipython",
    "version": 3
   },
   "file_extension": ".py",
   "mimetype": "text/x-python",
   "name": "python",
   "nbconvert_exporter": "python",
   "pygments_lexer": "ipython3",
   "version": "3.7.3"
  }
 },
 "nbformat": 4,
 "nbformat_minor": 5
}
