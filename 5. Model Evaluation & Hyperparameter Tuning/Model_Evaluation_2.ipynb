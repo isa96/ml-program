{
 "cells": [
  {
   "cell_type": "markdown",
   "id": "a5e45c5b-0f32-4d92-954c-45046811453f",
   "metadata": {},
   "source": [
    "# Model Evaluation 2\n",
    "Analyze : tips data from seaborn\n",
    "Features : Total Bill, sex, smoker, day and time\n",
    "Target : Tips\n",
    "\n",
    "Preprocess :\n",
    "1. One Hot Encoding : smoker, day, time\n",
    "2. No Treatment : numerical\n",
    "\n",
    "Random state 2020, splitting 80:20\n",
    "1. Model Linear Regression and Tree (criterion mse, max_depth 5) compute R2 using 5-fold CV\n",
    "2. Model decision tree (criterion mse, max_depth 5) compute mse in test\n",
    "3. Do hyperparameter tuning (Randomized Search) for decision tree (optimize criterion, min sample leaf, max depth) optimized by mse and using CV 5-fold\n",
    "4. Compare the result (before and after) in test set"
   ]
  },
  {
   "cell_type": "markdown",
   "id": "1d3e260f-8a69-49d7-9e8c-9fd83edd26e0",
   "metadata": {},
   "source": [
    "> ## Library and Data"
   ]
  },
  {
   "cell_type": "code",
   "execution_count": 1,
   "id": "a9fe71ca-6d51-46be-8d52-fd78100cfabf",
   "metadata": {},
   "outputs": [],
   "source": [
    "# dataframe\n",
    "import pandas as pd\n",
    "import numpy as np\n",
    "\n",
    "# model \n",
    "from sklearn.linear_model import LinearRegression\n",
    "from sklearn.tree import DecisionTreeRegressor\n",
    "\n",
    "# evaluation\n",
    "from sklearn.model_selection import train_test_split\n",
    "from sklearn.metrics import mean_squared_error, r2_score\n",
    "\n",
    "from sklearn.model_selection import cross_val_score, RandomizedSearchCV\n",
    "\n",
    "\n",
    "# visualization\n",
    "import matplotlib.pyplot as plt\n",
    "import seaborn as sns"
   ]
  },
  {
   "cell_type": "code",
   "execution_count": 2,
   "id": "170e84ef-adec-4c2e-817e-434f204be8b7",
   "metadata": {},
   "outputs": [
    {
     "data": {
      "text/html": [
       "<div>\n",
       "<style scoped>\n",
       "    .dataframe tbody tr th:only-of-type {\n",
       "        vertical-align: middle;\n",
       "    }\n",
       "\n",
       "    .dataframe tbody tr th {\n",
       "        vertical-align: top;\n",
       "    }\n",
       "\n",
       "    .dataframe thead th {\n",
       "        text-align: right;\n",
       "    }\n",
       "</style>\n",
       "<table border=\"1\" class=\"dataframe\">\n",
       "  <thead>\n",
       "    <tr style=\"text-align: right;\">\n",
       "      <th></th>\n",
       "      <th>total_bill</th>\n",
       "      <th>tip</th>\n",
       "      <th>sex</th>\n",
       "      <th>smoker</th>\n",
       "      <th>day</th>\n",
       "      <th>time</th>\n",
       "      <th>size</th>\n",
       "    </tr>\n",
       "  </thead>\n",
       "  <tbody>\n",
       "    <tr>\n",
       "      <th>0</th>\n",
       "      <td>16.99</td>\n",
       "      <td>1.01</td>\n",
       "      <td>Female</td>\n",
       "      <td>No</td>\n",
       "      <td>Sun</td>\n",
       "      <td>Dinner</td>\n",
       "      <td>2</td>\n",
       "    </tr>\n",
       "    <tr>\n",
       "      <th>1</th>\n",
       "      <td>10.34</td>\n",
       "      <td>1.66</td>\n",
       "      <td>Male</td>\n",
       "      <td>No</td>\n",
       "      <td>Sun</td>\n",
       "      <td>Dinner</td>\n",
       "      <td>3</td>\n",
       "    </tr>\n",
       "    <tr>\n",
       "      <th>2</th>\n",
       "      <td>21.01</td>\n",
       "      <td>3.50</td>\n",
       "      <td>Male</td>\n",
       "      <td>No</td>\n",
       "      <td>Sun</td>\n",
       "      <td>Dinner</td>\n",
       "      <td>3</td>\n",
       "    </tr>\n",
       "    <tr>\n",
       "      <th>3</th>\n",
       "      <td>23.68</td>\n",
       "      <td>3.31</td>\n",
       "      <td>Male</td>\n",
       "      <td>No</td>\n",
       "      <td>Sun</td>\n",
       "      <td>Dinner</td>\n",
       "      <td>2</td>\n",
       "    </tr>\n",
       "    <tr>\n",
       "      <th>4</th>\n",
       "      <td>24.59</td>\n",
       "      <td>3.61</td>\n",
       "      <td>Female</td>\n",
       "      <td>No</td>\n",
       "      <td>Sun</td>\n",
       "      <td>Dinner</td>\n",
       "      <td>4</td>\n",
       "    </tr>\n",
       "    <tr>\n",
       "      <th>...</th>\n",
       "      <td>...</td>\n",
       "      <td>...</td>\n",
       "      <td>...</td>\n",
       "      <td>...</td>\n",
       "      <td>...</td>\n",
       "      <td>...</td>\n",
       "      <td>...</td>\n",
       "    </tr>\n",
       "    <tr>\n",
       "      <th>239</th>\n",
       "      <td>29.03</td>\n",
       "      <td>5.92</td>\n",
       "      <td>Male</td>\n",
       "      <td>No</td>\n",
       "      <td>Sat</td>\n",
       "      <td>Dinner</td>\n",
       "      <td>3</td>\n",
       "    </tr>\n",
       "    <tr>\n",
       "      <th>240</th>\n",
       "      <td>27.18</td>\n",
       "      <td>2.00</td>\n",
       "      <td>Female</td>\n",
       "      <td>Yes</td>\n",
       "      <td>Sat</td>\n",
       "      <td>Dinner</td>\n",
       "      <td>2</td>\n",
       "    </tr>\n",
       "    <tr>\n",
       "      <th>241</th>\n",
       "      <td>22.67</td>\n",
       "      <td>2.00</td>\n",
       "      <td>Male</td>\n",
       "      <td>Yes</td>\n",
       "      <td>Sat</td>\n",
       "      <td>Dinner</td>\n",
       "      <td>2</td>\n",
       "    </tr>\n",
       "    <tr>\n",
       "      <th>242</th>\n",
       "      <td>17.82</td>\n",
       "      <td>1.75</td>\n",
       "      <td>Male</td>\n",
       "      <td>No</td>\n",
       "      <td>Sat</td>\n",
       "      <td>Dinner</td>\n",
       "      <td>2</td>\n",
       "    </tr>\n",
       "    <tr>\n",
       "      <th>243</th>\n",
       "      <td>18.78</td>\n",
       "      <td>3.00</td>\n",
       "      <td>Female</td>\n",
       "      <td>No</td>\n",
       "      <td>Thur</td>\n",
       "      <td>Dinner</td>\n",
       "      <td>2</td>\n",
       "    </tr>\n",
       "  </tbody>\n",
       "</table>\n",
       "<p>244 rows × 7 columns</p>\n",
       "</div>"
      ],
      "text/plain": [
       "     total_bill   tip     sex smoker   day    time  size\n",
       "0         16.99  1.01  Female     No   Sun  Dinner     2\n",
       "1         10.34  1.66    Male     No   Sun  Dinner     3\n",
       "2         21.01  3.50    Male     No   Sun  Dinner     3\n",
       "3         23.68  3.31    Male     No   Sun  Dinner     2\n",
       "4         24.59  3.61  Female     No   Sun  Dinner     4\n",
       "..          ...   ...     ...    ...   ...     ...   ...\n",
       "239       29.03  5.92    Male     No   Sat  Dinner     3\n",
       "240       27.18  2.00  Female    Yes   Sat  Dinner     2\n",
       "241       22.67  2.00    Male    Yes   Sat  Dinner     2\n",
       "242       17.82  1.75    Male     No   Sat  Dinner     2\n",
       "243       18.78  3.00  Female     No  Thur  Dinner     2\n",
       "\n",
       "[244 rows x 7 columns]"
      ]
     },
     "execution_count": 2,
     "metadata": {},
     "output_type": "execute_result"
    }
   ],
   "source": [
    "tips = sns.load_dataset('tips')\n",
    "tips"
   ]
  },
  {
   "cell_type": "markdown",
   "id": "1837393c-e270-4276-b5b0-b956a6202b48",
   "metadata": {},
   "source": [
    "> ## Data Splitting"
   ]
  },
  {
   "cell_type": "code",
   "execution_count": 3,
   "id": "17503ec6-ac60-4c9e-9497-3dfda780dc05",
   "metadata": {},
   "outputs": [],
   "source": [
    "x = tips[['total_bill', 'sex', 'smoker', 'day', 'time']]\n",
    "x = pd.get_dummies(x, drop_first = True) # One Hot Encoding\n",
    "y = tips['tip']"
   ]
  },
  {
   "cell_type": "code",
   "execution_count": 4,
   "id": "4973b9f5-abc4-4e46-9ff7-fcb5b97153ba",
   "metadata": {},
   "outputs": [],
   "source": [
    "x_train, x_test, y_train, y_test = train_test_split(x, \n",
    "                y, \n",
    "                test_size = 0.2,\n",
    "                random_state = 2020)"
   ]
  },
  {
   "cell_type": "markdown",
   "id": "3c15a2e7-f9d1-4d56-b815-4289d663c3f1",
   "metadata": {},
   "source": [
    "> ## Model : Benchmark"
   ]
  },
  {
   "cell_type": "code",
   "execution_count": 5,
   "id": "9c4ae7c7-5882-4913-a575-a99ca5b64cff",
   "metadata": {},
   "outputs": [],
   "source": [
    "tree = DecisionTreeRegressor(criterion = 'mse', max_depth = 5, random_state = 2020)\n",
    "linreg = LinearRegression()"
   ]
  },
  {
   "cell_type": "code",
   "execution_count": 6,
   "id": "0afcca56-c257-4f1d-8995-3012af205da7",
   "metadata": {},
   "outputs": [],
   "source": [
    "tree_cv = cross_val_score(tree, x_train, y_train, scoring = 'r2')"
   ]
  },
  {
   "cell_type": "code",
   "execution_count": 7,
   "id": "144e74f9-611f-49fc-b571-bcb8c747934d",
   "metadata": {},
   "outputs": [
    {
     "name": "stdout",
     "output_type": "stream",
     "text": [
      "cross validation:  [0.11865437 0.09663697 0.13388799 0.60844872 0.41722998]\n",
      "mean cross validation:  0.27497160666626597\n",
      "std cross validation:  0.2037583555823742\n"
     ]
    }
   ],
   "source": [
    "print('cross validation: ',tree_cv)\n",
    "print('mean cross validation: ', tree_cv.mean())\n",
    "print('std cross validation: ', tree_cv.std())"
   ]
  },
  {
   "cell_type": "code",
   "execution_count": 8,
   "id": "7fc64307-e8d3-4b38-b585-2906c49df1bc",
   "metadata": {},
   "outputs": [],
   "source": [
    "linreg_cv = cross_val_score(linreg, x_train, y_train, scoring = 'r2')"
   ]
  },
  {
   "cell_type": "code",
   "execution_count": 9,
   "id": "92610c3c-cd72-4d3e-9a71-983b3a5c3904",
   "metadata": {},
   "outputs": [
    {
     "name": "stdout",
     "output_type": "stream",
     "text": [
      "cross validation:  [0.27243371 0.18984475 0.31816682 0.46456813 0.44769515]\n",
      "mean cross validation:  0.33854171153933316\n",
      "std cross validation:  0.10458807015801647\n"
     ]
    }
   ],
   "source": [
    "print('cross validation: ',linreg_cv)\n",
    "print('mean cross validation: ', linreg_cv.mean())\n",
    "print('std cross validation: ', linreg_cv.std())"
   ]
  },
  {
   "cell_type": "markdown",
   "id": "b3ed1be1-4dac-4623-aaab-50ea86acc1b5",
   "metadata": {},
   "source": [
    "> ## Tree Test Score"
   ]
  },
  {
   "cell_type": "code",
   "execution_count": 10,
   "id": "431554c8-bf6c-4626-ad77-9b1e37d14d46",
   "metadata": {},
   "outputs": [
    {
     "data": {
      "text/plain": [
       "DecisionTreeRegressor(max_depth=5, random_state=2020)"
      ]
     },
     "execution_count": 10,
     "metadata": {},
     "output_type": "execute_result"
    }
   ],
   "source": [
    "tree = DecisionTreeRegressor(criterion = 'mse', max_depth = 5, random_state = 2020)\n",
    "tree.fit(x_train, y_train)"
   ]
  },
  {
   "cell_type": "code",
   "execution_count": 11,
   "id": "8ef29997-27a1-4ebc-a7c2-30a455344db5",
   "metadata": {},
   "outputs": [
    {
     "data": {
      "text/plain": [
       "1.1723927020084088"
      ]
     },
     "execution_count": 11,
     "metadata": {},
     "output_type": "execute_result"
    }
   ],
   "source": [
    "y_pred = tree.predict(x_test)\n",
    "mean_squared_error(y_test, y_pred)"
   ]
  },
  {
   "cell_type": "markdown",
   "id": "480fb377-59fc-45b9-9c98-f2a5cad8f670",
   "metadata": {},
   "source": [
    "> ## Hyperparameter Tuning "
   ]
  },
  {
   "cell_type": "code",
   "execution_count": 12,
   "id": "5ca0da70-1cfc-4191-b654-316608fff78a",
   "metadata": {},
   "outputs": [
    {
     "data": {
      "text/plain": [
       "(195, 7)"
      ]
     },
     "execution_count": 12,
     "metadata": {},
     "output_type": "execute_result"
    }
   ],
   "source": [
    "x_train.shape"
   ]
  },
  {
   "cell_type": "code",
   "execution_count": 13,
   "id": "edecdd22-a5d7-426e-bd7b-f2fa60e0660d",
   "metadata": {},
   "outputs": [],
   "source": [
    "hyperparam = {\n",
    "    'min_samples_leaf':[10, 15, 20, 50], # 4\n",
    "    'max_depth':[2, 3], # 2\n",
    "    'criterion':['mse', 'mae'] # 2\n",
    "} \n",
    "# 16 combinations\n",
    "\n",
    "tree = DecisionTreeRegressor(criterion = 'mse', max_depth = 5, random_state = 2020)\n",
    "\n",
    "randomized_search = RandomizedSearchCV(tree,\n",
    "                   param_distributions = hyperparam,\n",
    "                   n_iter = 16, \n",
    "                   cv = 5,\n",
    "                   scoring = 'r2',\n",
    "                   random_state = 2020,\n",
    "                   n_jobs = -1\n",
    "                  )"
   ]
  },
  {
   "cell_type": "code",
   "execution_count": null,
   "id": "c5397947-f8ca-4d8a-82a8-e80df22db083",
   "metadata": {},
   "outputs": [],
   "source": [
    "randomized_search.fit(x_train, y_train)"
   ]
  },
  {
   "cell_type": "code",
   "execution_count": null,
   "id": "f2b16710-3237-4392-8c5c-b2bbe5399f27",
   "metadata": {},
   "outputs": [],
   "source": [
    "randomized_search.best_params_"
   ]
  },
  {
   "cell_type": "code",
   "execution_count": null,
   "id": "a0efefff-cd4c-47ee-b606-1846b843b59e",
   "metadata": {},
   "outputs": [],
   "source": [
    "randomized_search.best_score_"
   ]
  },
  {
   "cell_type": "code",
   "execution_count": null,
   "id": "c41ba819-c524-4585-a9d8-97f3e63aceba",
   "metadata": {},
   "outputs": [],
   "source": [
    "result_cv = pd.DataFrame(randomized_search.cv_results_)"
   ]
  },
  {
   "cell_type": "code",
   "execution_count": null,
   "id": "b1e1d99b-83a5-456e-b4bc-e4ece761ca67",
   "metadata": {},
   "outputs": [],
   "source": [
    "result_cv[result_cv['param_min_samples_leaf'] == 10]"
   ]
  },
  {
   "cell_type": "markdown",
   "id": "8ea25981-3aef-4498-b15d-ae331f37f744",
   "metadata": {},
   "source": [
    "> ## Compare LinReg Before & After"
   ]
  },
  {
   "cell_type": "code",
   "execution_count": null,
   "id": "0648886b-1929-48e4-bbbc-2edc4be0084f",
   "metadata": {},
   "outputs": [],
   "source": [
    "tree = DecisionTreeRegressor(criterion = 'mse', max_depth = 5, random_state = 2020)\n",
    "tree2 = DecisionTreeRegressor(criterion = 'mae', max_depth = 5, min_samples_leaf = 10, random_state = 2020)\n",
    "linreg = LinearRegression()"
   ]
  },
  {
   "cell_type": "code",
   "execution_count": null,
   "id": "0bb2aab0-0ce1-4bf6-bdf9-49093b5308bb",
   "metadata": {},
   "outputs": [],
   "source": [
    "def final_eval(model):\n",
    "    model.fit(x_train, y_train)\n",
    "    y_pred = model.predict(x_test)\n",
    "    print('mse :', mean_squared_error(y_test, y_pred))\n",
    "    print('r2 :', r2_score(y_test, y_pred))"
   ]
  },
  {
   "cell_type": "code",
   "execution_count": null,
   "id": "eb4c3738-d1cf-4efb-9f71-47b0bdd180d2",
   "metadata": {},
   "outputs": [],
   "source": [
    "final_eval(tree)"
   ]
  },
  {
   "cell_type": "code",
   "execution_count": null,
   "id": "a022c7a1-c88d-49f7-b968-0f38d1519ff5",
   "metadata": {},
   "outputs": [],
   "source": [
    "final_eval(tree2) # most stable"
   ]
  },
  {
   "cell_type": "code",
   "execution_count": null,
   "id": "07b32bdb-8637-414a-9c55-6c3f21f3f021",
   "metadata": {},
   "outputs": [],
   "source": [
    "final_eval(linreg)"
   ]
  }
 ],
 "metadata": {
  "kernelspec": {
   "display_name": "Python 3",
   "language": "python",
   "name": "python3"
  },
  "language_info": {
   "codemirror_mode": {
    "name": "ipython",
    "version": 3
   },
   "file_extension": ".py",
   "mimetype": "text/x-python",
   "name": "python",
   "nbconvert_exporter": "python",
   "pygments_lexer": "ipython3",
   "version": "3.7.3"
  }
 },
 "nbformat": 4,
 "nbformat_minor": 5
}
