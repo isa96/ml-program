{
 "cells": [
  {
   "cell_type": "markdown",
   "id": "a09d12b7-f9d0-4e42-aff7-aa6b774cf2e8",
   "metadata": {},
   "source": [
    "# Generalization, Underfitting, and Overfitting\n",
    "________\n",
    "## Model Complexity in KNN Clasifier\n",
    "Data : bankloan.csv\n",
    "- Apply KNN Clasifier\n",
    "    - Target : Default\n",
    "    - Features : employ, debtinc, creddebt, othdebt\n",
    "- Using different k(1, 3, 5, 7, ..., 100): Apply scaling and validate the model using accuracy in 80% training data and 20% testing data\n",
    "- Compare accuracies obtained from training data and testing data\n",
    "   \n",
    "      \n",
    "> ### Data and Library"
   ]
  },
  {
   "cell_type": "code",
   "execution_count": 1,
   "id": "6e68f9eb-a4e1-42b7-84bf-92b61a453eeb",
   "metadata": {},
   "outputs": [],
   "source": [
    "# dataframe\n",
    "import pandas as pd\n",
    "import numpy as np\n",
    "\n",
    "# visualization\n",
    "import seaborn as sns\n",
    "import matplotlib.pyplot as plt\n",
    "\n",
    "from sklearn.datasets import load_boston\n",
    "\n",
    "# pre-processing and splitting\n",
    "from sklearn.preprocessing import MinMaxScaler\n",
    "from sklearn.model_selection import train_test_split\n",
    "\n",
    "# KNN\n",
    "from sklearn.neighbors import KNeighborsClassifier\n",
    "from sklearn.tree import DecisionTreeClassifier\n",
    "from sklearn.linear_model import LogisticRegression, LinearRegression, Lasso, Ridge\n",
    "\n",
    "# metrics and performance measurement\n",
    "from sklearn.metrics import accuracy_score\n",
    "from sklearn.metrics import mean_squared_error\n",
    "\n",
    "import warnings\n",
    "warnings.filterwarnings('ignore')"
   ]
  },
  {
   "cell_type": "code",
   "execution_count": 2,
   "id": "c8c905b9-c09c-4db2-bb4d-6c4d82059292",
   "metadata": {},
   "outputs": [
    {
     "data": {
      "text/html": [
       "<div>\n",
       "<style scoped>\n",
       "    .dataframe tbody tr th:only-of-type {\n",
       "        vertical-align: middle;\n",
       "    }\n",
       "\n",
       "    .dataframe tbody tr th {\n",
       "        vertical-align: top;\n",
       "    }\n",
       "\n",
       "    .dataframe thead th {\n",
       "        text-align: right;\n",
       "    }\n",
       "</style>\n",
       "<table border=\"1\" class=\"dataframe\">\n",
       "  <thead>\n",
       "    <tr style=\"text-align: right;\">\n",
       "      <th></th>\n",
       "      <th>age</th>\n",
       "      <th>ed</th>\n",
       "      <th>employ</th>\n",
       "      <th>address</th>\n",
       "      <th>income</th>\n",
       "      <th>debtinc</th>\n",
       "      <th>creddebt</th>\n",
       "      <th>othdebt</th>\n",
       "      <th>default</th>\n",
       "    </tr>\n",
       "  </thead>\n",
       "  <tbody>\n",
       "    <tr>\n",
       "      <th>0</th>\n",
       "      <td>41</td>\n",
       "      <td>3</td>\n",
       "      <td>17</td>\n",
       "      <td>12</td>\n",
       "      <td>176</td>\n",
       "      <td>9.3</td>\n",
       "      <td>11.359392</td>\n",
       "      <td>5.008608</td>\n",
       "      <td>1</td>\n",
       "    </tr>\n",
       "    <tr>\n",
       "      <th>1</th>\n",
       "      <td>27</td>\n",
       "      <td>1</td>\n",
       "      <td>10</td>\n",
       "      <td>6</td>\n",
       "      <td>31</td>\n",
       "      <td>17.3</td>\n",
       "      <td>1.362202</td>\n",
       "      <td>4.000798</td>\n",
       "      <td>0</td>\n",
       "    </tr>\n",
       "    <tr>\n",
       "      <th>2</th>\n",
       "      <td>40</td>\n",
       "      <td>1</td>\n",
       "      <td>15</td>\n",
       "      <td>14</td>\n",
       "      <td>55</td>\n",
       "      <td>5.5</td>\n",
       "      <td>0.856075</td>\n",
       "      <td>2.168925</td>\n",
       "      <td>0</td>\n",
       "    </tr>\n",
       "    <tr>\n",
       "      <th>3</th>\n",
       "      <td>41</td>\n",
       "      <td>1</td>\n",
       "      <td>15</td>\n",
       "      <td>14</td>\n",
       "      <td>120</td>\n",
       "      <td>2.9</td>\n",
       "      <td>2.658720</td>\n",
       "      <td>0.821280</td>\n",
       "      <td>0</td>\n",
       "    </tr>\n",
       "    <tr>\n",
       "      <th>4</th>\n",
       "      <td>24</td>\n",
       "      <td>2</td>\n",
       "      <td>2</td>\n",
       "      <td>0</td>\n",
       "      <td>28</td>\n",
       "      <td>17.3</td>\n",
       "      <td>1.787436</td>\n",
       "      <td>3.056564</td>\n",
       "      <td>1</td>\n",
       "    </tr>\n",
       "  </tbody>\n",
       "</table>\n",
       "</div>"
      ],
      "text/plain": [
       "   age  ed  employ  address  income  debtinc   creddebt   othdebt  default\n",
       "0   41   3      17       12     176      9.3  11.359392  5.008608        1\n",
       "1   27   1      10        6      31     17.3   1.362202  4.000798        0\n",
       "2   40   1      15       14      55      5.5   0.856075  2.168925        0\n",
       "3   41   1      15       14     120      2.9   2.658720  0.821280        0\n",
       "4   24   2       2        0      28     17.3   1.787436  3.056564        1"
      ]
     },
     "execution_count": 2,
     "metadata": {},
     "output_type": "execute_result"
    }
   ],
   "source": [
    "bank = pd.read_csv(r'C:\\Users\\user\\Documents\\Data Science\\MODUL 3\\What is Classification_\\bankloan.csv')\n",
    "bank.head()"
   ]
  },
  {
   "cell_type": "code",
   "execution_count": 3,
   "id": "0970e3bb-480a-41ad-a65f-36340477d056",
   "metadata": {},
   "outputs": [],
   "source": [
    "x = bank[['employ', 'debtinc', 'creddebt', 'othdebt']]\n",
    "y = bank['default']"
   ]
  },
  {
   "cell_type": "markdown",
   "id": "55b816cb-b9d6-4250-b619-8d04d40c65ba",
   "metadata": {},
   "source": [
    "> ### Data Splitting\n",
    "data : 0 = 90%, 1 = 10%    \n",
    "train (80) : 0 = 90%, 1 = 10%   \n",
    "test (80) : 0 = 90%, 1 = 10%   "
   ]
  },
  {
   "cell_type": "code",
   "execution_count": 4,
   "id": "6234a335-baaf-438b-ba9b-96a6aea08a76",
   "metadata": {},
   "outputs": [],
   "source": [
    "x_train, x_test, y_train, y_test = train_test_split(x, y, test_size = 0.2, random_state = 2020, stratify = y)"
   ]
  },
  {
   "cell_type": "markdown",
   "id": "62d67f12-294e-4cc2-b44f-1ab3bf687bd3",
   "metadata": {},
   "source": [
    "> ### Scaling\n",
    "measurement accuracy more valid"
   ]
  },
  {
   "cell_type": "code",
   "execution_count": 5,
   "id": "f89e3048-3e10-4b6c-a8d3-efec4e1ca644",
   "metadata": {},
   "outputs": [],
   "source": [
    "scaler = MinMaxScaler()\n",
    "scaler.fit(x_train)\n",
    "x_train_scaled = scaler.transform(x_train)\n",
    "x_test_scaled = scaler.transform(x_test)"
   ]
  },
  {
   "cell_type": "markdown",
   "id": "2ca33224-e2c9-4f23-9350-cb0cf8a0d830",
   "metadata": {},
   "source": [
    "> ### Generalization Performance"
   ]
  },
  {
   "cell_type": "code",
   "execution_count": 6,
   "id": "840f4bf7-b47e-4914-a2b4-bff03e227ddc",
   "metadata": {},
   "outputs": [],
   "source": [
    "k = range(1, 100, 2) # 1 3 5 7 .... 99\n",
    "testing_accuracies = []\n",
    "training_accuracies = []\n",
    "score = 0\n",
    "\n",
    "for i in k:\n",
    "    # Fitting Model\n",
    "    knn = KNeighborsClassifier(n_neighbors = i)\n",
    "    knn.fit(x_train_scaled, y_train)\n",
    "    \n",
    "    # Test Accuracies\n",
    "    y_pred_train = knn.predict(x_train_scaled)\n",
    "    acc_train = accuracy_score(y_train, y_pred_train)\n",
    "    training_accuracies.append(acc_train)\n",
    "    \n",
    "    # Train Accuracies\n",
    "    y_pred_test = knn.predict(x_test_scaled)\n",
    "    acc_test = accuracy_score(y_test, y_pred_test)\n",
    "    testing_accuracies.append(acc_test)\n",
    "    \n",
    "    # Choose best k\n",
    "    if score < acc_test:\n",
    "        score = acc_test\n",
    "        best_k = i"
   ]
  },
  {
   "cell_type": "code",
   "execution_count": 7,
   "id": "4c37ebb7-daab-436a-9f9e-5018f1afb993",
   "metadata": {},
   "outputs": [
    {
     "name": "stdout",
     "output_type": "stream",
     "text": [
      "Best k factor : 31\n",
      "Score : 82.85714285714286\n"
     ]
    }
   ],
   "source": [
    "print('Best k factor :', best_k)\n",
    "print('Score :', score*100)"
   ]
  },
  {
   "cell_type": "code",
   "execution_count": 8,
   "id": "d467cd76-2d4a-4e95-b645-b8684e1458ba",
   "metadata": {},
   "outputs": [
    {
     "data": {
      "image/png": "[encoded data removed]",
      "text/plain": [
       "<Figure size 864x720 with 1 Axes>"
      ]
     },
     "metadata": {
      "needs_background": "light"
     },
     "output_type": "display_data"
    }
   ],
   "source": [
    "plt.figure(figsize = (12,10))\n",
    "sns.lineplot(k, testing_accuracies)\n",
    "sns.scatterplot(k, testing_accuracies)\n",
    "sns.lineplot(k, training_accuracies)\n",
    "sns.scatterplot(k, training_accuracies)\n",
    "plt.legend(['Testing Accuracy', 'Training Accuracy'], fontsize=15)\n",
    "plt.xlabel('factor k', fontsize = 15)\n",
    "plt.ylabel('accuracy', fontsize = 15)\n",
    "plt.show()"
   ]
  },
  {
   "cell_type": "markdown",
   "id": "de2eed50-5d5a-4b1f-87bd-3fb4ae4ec7ae",
   "metadata": {},
   "source": [
    "\n",
    "1. Best k factor, k = 31 with accuracy 82.5 %\n",
    "2. k = 1 : score train 100% & score test 70%. Which means k = 1 have very bad accuracy in test dataset\n",
    "3. For k below 31, the ML method is getting overfitting while for k greater than 31 the ML method is getting underfitting\n",
    "________________\n",
    "## Model Complexity in Decision Tree\n",
    "Data : bankloan.csv\n",
    "How :\n",
    "- Apply decision tree clasification method (max_depth = 2)\n",
    "    - target : default\n",
    "    - features : employ, debtinc, creddebt, othdebt\n",
    "- Using different maximum depth of the tree (1, 2, 3, ..., 25) : Validate the model using 80% training data and 20% in test data\n",
    "- Compare accuracies obtained from training data and testing data\n",
    "- Try another hyperparameter such as minimum samples split, minimum samples leaf, etc\n",
    "- Check the tree: is there any difference whether we applied scaling or not?\n",
    "\n",
    "> ### Data and Library"
   ]
  },
  {
   "cell_type": "code",
   "execution_count": 9,
   "id": "389a660e-237a-4d07-a405-b1797f85bff3",
   "metadata": {},
   "outputs": [
    {
     "data": {
      "text/html": [
       "<div>\n",
       "<style scoped>\n",
       "    .dataframe tbody tr th:only-of-type {\n",
       "        vertical-align: middle;\n",
       "    }\n",
       "\n",
       "    .dataframe tbody tr th {\n",
       "        vertical-align: top;\n",
       "    }\n",
       "\n",
       "    .dataframe thead th {\n",
       "        text-align: right;\n",
       "    }\n",
       "</style>\n",
       "<table border=\"1\" class=\"dataframe\">\n",
       "  <thead>\n",
       "    <tr style=\"text-align: right;\">\n",
       "      <th></th>\n",
       "      <th>age</th>\n",
       "      <th>ed</th>\n",
       "      <th>employ</th>\n",
       "      <th>address</th>\n",
       "      <th>income</th>\n",
       "      <th>debtinc</th>\n",
       "      <th>creddebt</th>\n",
       "      <th>othdebt</th>\n",
       "      <th>default</th>\n",
       "    </tr>\n",
       "  </thead>\n",
       "  <tbody>\n",
       "    <tr>\n",
       "      <th>0</th>\n",
       "      <td>41</td>\n",
       "      <td>3</td>\n",
       "      <td>17</td>\n",
       "      <td>12</td>\n",
       "      <td>176</td>\n",
       "      <td>9.3</td>\n",
       "      <td>11.359392</td>\n",
       "      <td>5.008608</td>\n",
       "      <td>1</td>\n",
       "    </tr>\n",
       "    <tr>\n",
       "      <th>1</th>\n",
       "      <td>27</td>\n",
       "      <td>1</td>\n",
       "      <td>10</td>\n",
       "      <td>6</td>\n",
       "      <td>31</td>\n",
       "      <td>17.3</td>\n",
       "      <td>1.362202</td>\n",
       "      <td>4.000798</td>\n",
       "      <td>0</td>\n",
       "    </tr>\n",
       "    <tr>\n",
       "      <th>2</th>\n",
       "      <td>40</td>\n",
       "      <td>1</td>\n",
       "      <td>15</td>\n",
       "      <td>14</td>\n",
       "      <td>55</td>\n",
       "      <td>5.5</td>\n",
       "      <td>0.856075</td>\n",
       "      <td>2.168925</td>\n",
       "      <td>0</td>\n",
       "    </tr>\n",
       "    <tr>\n",
       "      <th>3</th>\n",
       "      <td>41</td>\n",
       "      <td>1</td>\n",
       "      <td>15</td>\n",
       "      <td>14</td>\n",
       "      <td>120</td>\n",
       "      <td>2.9</td>\n",
       "      <td>2.658720</td>\n",
       "      <td>0.821280</td>\n",
       "      <td>0</td>\n",
       "    </tr>\n",
       "    <tr>\n",
       "      <th>4</th>\n",
       "      <td>24</td>\n",
       "      <td>2</td>\n",
       "      <td>2</td>\n",
       "      <td>0</td>\n",
       "      <td>28</td>\n",
       "      <td>17.3</td>\n",
       "      <td>1.787436</td>\n",
       "      <td>3.056564</td>\n",
       "      <td>1</td>\n",
       "    </tr>\n",
       "  </tbody>\n",
       "</table>\n",
       "</div>"
      ],
      "text/plain": [
       "   age  ed  employ  address  income  debtinc   creddebt   othdebt  default\n",
       "0   41   3      17       12     176      9.3  11.359392  5.008608        1\n",
       "1   27   1      10        6      31     17.3   1.362202  4.000798        0\n",
       "2   40   1      15       14      55      5.5   0.856075  2.168925        0\n",
       "3   41   1      15       14     120      2.9   2.658720  0.821280        0\n",
       "4   24   2       2        0      28     17.3   1.787436  3.056564        1"
      ]
     },
     "execution_count": 9,
     "metadata": {},
     "output_type": "execute_result"
    }
   ],
   "source": [
    "bank.head()"
   ]
  },
  {
   "cell_type": "code",
   "execution_count": 10,
   "id": "627afdf5-59f6-4d5c-bf5c-a659bd0aead7",
   "metadata": {},
   "outputs": [],
   "source": [
    "from sklearn.tree import DecisionTreeClassifier"
   ]
  },
  {
   "cell_type": "markdown",
   "id": "b00eb592-f89c-4aea-9da4-09dbeb424b86",
   "metadata": {},
   "source": [
    "> ### Generalization Performance"
   ]
  },
  {
   "cell_type": "code",
   "execution_count": 11,
   "id": "e431bb6e-a135-41b1-bed8-9938654705be",
   "metadata": {},
   "outputs": [],
   "source": [
    "# Using max_depth\n",
    "\n",
    "depth = range(1, 26) # 1 3 5 7 .... 99\n",
    "testing_accuracies = []\n",
    "training_accuracies = []\n",
    "score = 0\n",
    "\n",
    "for i in depth:\n",
    "    # Fitting Model\n",
    "    tree = DecisionTreeClassifier(max_depth = i, criterion = 'entropy')\n",
    "    tree.fit(x_train, y_train)\n",
    "    \n",
    "    # Test Accuracies\n",
    "    y_pred_train = tree.predict(x_train)\n",
    "    acc_train = accuracy_score(y_train, y_pred_train)\n",
    "    training_accuracies.append(acc_train)\n",
    "    \n",
    "    # Train Accuracies\n",
    "    y_pred_test = tree.predict(x_test)\n",
    "    acc_test = accuracy_score(y_test, y_pred_test)\n",
    "    testing_accuracies.append(acc_test)\n",
    "    \n",
    "    # Choose best depth\n",
    "    if score < acc_test:\n",
    "        score = acc_test\n",
    "        best_depth = i"
   ]
  },
  {
   "cell_type": "code",
   "execution_count": 12,
   "id": "63cfc39c-6941-4da3-b17d-a4d8498f6fc7",
   "metadata": {},
   "outputs": [
    {
     "name": "stdout",
     "output_type": "stream",
     "text": [
      "Best depth : 8\n",
      "Score : 78.57142857142857\n"
     ]
    }
   ],
   "source": [
    "print('Best depth :', best_depth)\n",
    "print('Score :', score*100)"
   ]
  },
  {
   "cell_type": "code",
   "execution_count": 13,
   "id": "63fb9a64-04b5-472d-b198-d691c8279baf",
   "metadata": {},
   "outputs": [
    {
     "data": {
      "image/png": "[encoded data removed]",
      "text/plain": [
       "<Figure size 864x720 with 1 Axes>"
      ]
     },
     "metadata": {
      "needs_background": "light"
     },
     "output_type": "display_data"
    }
   ],
   "source": [
    "plt.figure(figsize = (12,10))\n",
    "sns.lineplot(depth, testing_accuracies)\n",
    "sns.scatterplot(depth, testing_accuracies)\n",
    "sns.lineplot(depth, training_accuracies)\n",
    "sns.scatterplot(depth, training_accuracies)\n",
    "plt.legend(['Testing Accuracy', 'Training Accuracy'], fontsize=15)\n",
    "plt.xlabel('depth', fontsize = 15)\n",
    "plt.ylabel('accuracy', fontsize = 15)\n",
    "plt.show()"
   ]
  },
  {
   "cell_type": "markdown",
   "id": "24868757-fa2c-4e39-a5a1-31b7cae25800",
   "metadata": {},
   "source": [
    "1. Best Max Depth = 8, with accuracy 78.5 %\n",
    "2. The deeper depth of the tree, the testing accuracy getting higher or method getting overfitting\n",
    "3. Testing score have low accuracy score or method too underfitting\n",
    "4. When the max depth 25, the accuracy in training set almost 100 %, while in test set the accuracy is very bad\n",
    "\n",
    "Factor : \n",
    "- Decision trees tend to produce overfitting models\n",
    "- When the depth is higher, the training set reaches 100 % accuracy while the test score is getting worse\n",
    "\n",
    "Conclusion :\n",
    "- Determination of the max depth should not be too low -> Underfitting\n",
    "- Determination of the max depth should not be too high -> Overfitting\n",
    "\n",
    "> ### Other "
   ]
  },
  {
   "cell_type": "code",
   "execution_count": 14,
   "id": "1519abb0-758e-445e-8e79-42510ee55976",
   "metadata": {},
   "outputs": [],
   "source": [
    "# Using min_samples_leaf\n",
    "\n",
    "depth = range(1, 26) # 1 3 5 7 .... 99\n",
    "testing_accuracies = []\n",
    "training_accuracies = []\n",
    "score = 0\n",
    "\n",
    "for i in depth:\n",
    "    # Fitting Model\n",
    "    tree = DecisionTreeClassifier(min_samples_leaf = i, criterion = 'entropy')\n",
    "    tree.fit(x_train, y_train)\n",
    "    \n",
    "    # Test Accuracies\n",
    "    y_pred_train = tree.predict(x_train)\n",
    "    acc_train = accuracy_score(y_train, y_pred_train)\n",
    "    training_accuracies.append(acc_train)\n",
    "    \n",
    "    # Train Accuracies\n",
    "    y_pred_test = tree.predict(x_test)\n",
    "    acc_test = accuracy_score(y_test, y_pred_test)\n",
    "    testing_accuracies.append(acc_test)\n",
    "    \n",
    "    # Choose best depth\n",
    "    if score < acc_test:\n",
    "        score = acc_test\n",
    "        best_leaf= i"
   ]
  },
  {
   "cell_type": "code",
   "execution_count": 15,
   "id": "6591aa00-03f9-47b5-9a02-1e17f4064882",
   "metadata": {},
   "outputs": [
    {
     "name": "stdout",
     "output_type": "stream",
     "text": [
      "Best depth : 9\n",
      "Score : 78.57142857142857\n"
     ]
    }
   ],
   "source": [
    "print('Best depth :', best_leaf)\n",
    "print('Score :', score*100)"
   ]
  },
  {
   "cell_type": "code",
   "execution_count": 16,
   "id": "8fbb1b66-0bda-4506-b262-9523a7782da3",
   "metadata": {},
   "outputs": [
    {
     "data": {
      "image/png": "[encoded data removed]",
      "text/plain": [
       "<Figure size 576x432 with 1 Axes>"
      ]
     },
     "metadata": {
      "needs_background": "light"
     },
     "output_type": "display_data"
    }
   ],
   "source": [
    "plt.figure(figsize = (8,6))\n",
    "sns.lineplot(depth, testing_accuracies)\n",
    "sns.scatterplot(depth, testing_accuracies)\n",
    "sns.lineplot(depth, training_accuracies)\n",
    "sns.scatterplot(depth, training_accuracies)\n",
    "plt.legend(['Testing Accuracy', 'Training Accuracy'], fontsize=15)\n",
    "plt.xlabel('depth', fontsize = 15)\n",
    "plt.ylabel('accuracy', fontsize = 15)\n",
    "plt.show()"
   ]
  },
  {
   "cell_type": "markdown",
   "id": "ff25ea66-f12b-4d46-8387-c29fa2674917",
   "metadata": {},
   "source": [
    "________\n",
    "## Model Complexity in Ridge\n",
    "Data : boston dataset from sklearn\n",
    "How :\n",
    "- Apply Ridge Regression\n",
    "    - target : target (house price)\n",
    "    - features : CRIM, ZN, INDUS, CHAS, NOX, RM, AGE, DIS, RAD, TAX, PTRATIO, B, LSTAT, MEDV\n",
    "- Using different alpha (100000, 10000, 1000, 100, 10, 1, 0.1, 0.001): Validate the model using mse in 80 % training data 20 % testing data\n",
    "- Compare mse obtained from training data and testing data\n",
    "\n",
    "> ### Data and Library"
   ]
  },
  {
   "cell_type": "code",
   "execution_count": 38,
   "id": "d6d8676d-59f5-4da0-9b55-5e4312528992",
   "metadata": {},
   "outputs": [],
   "source": [
    "# Dataset\n",
    "from sklearn.datasets import load_boston \n",
    "\n",
    "# Model\n",
    "from sklearn.linear_model import Ridge, Lasso\n",
    "\n",
    "# Metrics\n",
    "from sklearn.metrics import mean_squared_error"
   ]
  },
  {
   "cell_type": "code",
   "execution_count": 18,
   "id": "55d28314-5f36-4af6-b242-60d2d96845fe",
   "metadata": {},
   "outputs": [
    {
     "data": {
      "text/plain": [
       "dict_keys(['data', 'target', 'feature_names', 'DESCR', 'filename'])"
      ]
     },
     "execution_count": 18,
     "metadata": {},
     "output_type": "execute_result"
    }
   ],
   "source": [
    "boston = load_boston()\n",
    "boston.keys()"
   ]
  },
  {
   "cell_type": "code",
   "execution_count": 20,
   "id": "69a80786-482a-4d68-a5fb-65100f34aa38",
   "metadata": {},
   "outputs": [
    {
     "data": {
      "text/html": [
       "<div>\n",
       "<style scoped>\n",
       "    .dataframe tbody tr th:only-of-type {\n",
       "        vertical-align: middle;\n",
       "    }\n",
       "\n",
       "    .dataframe tbody tr th {\n",
       "        vertical-align: top;\n",
       "    }\n",
       "\n",
       "    .dataframe thead th {\n",
       "        text-align: right;\n",
       "    }\n",
       "</style>\n",
       "<table border=\"1\" class=\"dataframe\">\n",
       "  <thead>\n",
       "    <tr style=\"text-align: right;\">\n",
       "      <th></th>\n",
       "      <th>CRIM</th>\n",
       "      <th>ZN</th>\n",
       "      <th>INDUS</th>\n",
       "      <th>CHAS</th>\n",
       "      <th>NOX</th>\n",
       "      <th>RM</th>\n",
       "      <th>AGE</th>\n",
       "      <th>DIS</th>\n",
       "      <th>RAD</th>\n",
       "      <th>TAX</th>\n",
       "      <th>PTRATIO</th>\n",
       "      <th>B</th>\n",
       "      <th>LSTAT</th>\n",
       "      <th>y</th>\n",
       "    </tr>\n",
       "  </thead>\n",
       "  <tbody>\n",
       "    <tr>\n",
       "      <th>0</th>\n",
       "      <td>0.00632</td>\n",
       "      <td>18.0</td>\n",
       "      <td>2.31</td>\n",
       "      <td>0.0</td>\n",
       "      <td>0.538</td>\n",
       "      <td>6.575</td>\n",
       "      <td>65.2</td>\n",
       "      <td>4.0900</td>\n",
       "      <td>1.0</td>\n",
       "      <td>296.0</td>\n",
       "      <td>15.3</td>\n",
       "      <td>396.90</td>\n",
       "      <td>4.98</td>\n",
       "      <td>24.0</td>\n",
       "    </tr>\n",
       "    <tr>\n",
       "      <th>1</th>\n",
       "      <td>0.02731</td>\n",
       "      <td>0.0</td>\n",
       "      <td>7.07</td>\n",
       "      <td>0.0</td>\n",
       "      <td>0.469</td>\n",
       "      <td>6.421</td>\n",
       "      <td>78.9</td>\n",
       "      <td>4.9671</td>\n",
       "      <td>2.0</td>\n",
       "      <td>242.0</td>\n",
       "      <td>17.8</td>\n",
       "      <td>396.90</td>\n",
       "      <td>9.14</td>\n",
       "      <td>21.6</td>\n",
       "    </tr>\n",
       "    <tr>\n",
       "      <th>2</th>\n",
       "      <td>0.02729</td>\n",
       "      <td>0.0</td>\n",
       "      <td>7.07</td>\n",
       "      <td>0.0</td>\n",
       "      <td>0.469</td>\n",
       "      <td>7.185</td>\n",
       "      <td>61.1</td>\n",
       "      <td>4.9671</td>\n",
       "      <td>2.0</td>\n",
       "      <td>242.0</td>\n",
       "      <td>17.8</td>\n",
       "      <td>392.83</td>\n",
       "      <td>4.03</td>\n",
       "      <td>34.7</td>\n",
       "    </tr>\n",
       "    <tr>\n",
       "      <th>3</th>\n",
       "      <td>0.03237</td>\n",
       "      <td>0.0</td>\n",
       "      <td>2.18</td>\n",
       "      <td>0.0</td>\n",
       "      <td>0.458</td>\n",
       "      <td>6.998</td>\n",
       "      <td>45.8</td>\n",
       "      <td>6.0622</td>\n",
       "      <td>3.0</td>\n",
       "      <td>222.0</td>\n",
       "      <td>18.7</td>\n",
       "      <td>394.63</td>\n",
       "      <td>2.94</td>\n",
       "      <td>33.4</td>\n",
       "    </tr>\n",
       "    <tr>\n",
       "      <th>4</th>\n",
       "      <td>0.06905</td>\n",
       "      <td>0.0</td>\n",
       "      <td>2.18</td>\n",
       "      <td>0.0</td>\n",
       "      <td>0.458</td>\n",
       "      <td>7.147</td>\n",
       "      <td>54.2</td>\n",
       "      <td>6.0622</td>\n",
       "      <td>3.0</td>\n",
       "      <td>222.0</td>\n",
       "      <td>18.7</td>\n",
       "      <td>396.90</td>\n",
       "      <td>5.33</td>\n",
       "      <td>36.2</td>\n",
       "    </tr>\n",
       "  </tbody>\n",
       "</table>\n",
       "</div>"
      ],
      "text/plain": [
       "      CRIM    ZN  INDUS  CHAS    NOX     RM   AGE     DIS  RAD    TAX  \\\n",
       "0  0.00632  18.0   2.31   0.0  0.538  6.575  65.2  4.0900  1.0  296.0   \n",
       "1  0.02731   0.0   7.07   0.0  0.469  6.421  78.9  4.9671  2.0  242.0   \n",
       "2  0.02729   0.0   7.07   0.0  0.469  7.185  61.1  4.9671  2.0  242.0   \n",
       "3  0.03237   0.0   2.18   0.0  0.458  6.998  45.8  6.0622  3.0  222.0   \n",
       "4  0.06905   0.0   2.18   0.0  0.458  7.147  54.2  6.0622  3.0  222.0   \n",
       "\n",
       "   PTRATIO       B  LSTAT     y  \n",
       "0     15.3  396.90   4.98  24.0  \n",
       "1     17.8  396.90   9.14  21.6  \n",
       "2     17.8  392.83   4.03  34.7  \n",
       "3     18.7  394.63   2.94  33.4  \n",
       "4     18.7  396.90   5.33  36.2  "
      ]
     },
     "execution_count": 20,
     "metadata": {},
     "output_type": "execute_result"
    }
   ],
   "source": [
    "df_boston = pd.DataFrame(data = boston['data'], columns = boston['feature_names'])\n",
    "df_boston['y'] = pd.Series(boston['target'])\n",
    "df_boston.head()"
   ]
  },
  {
   "cell_type": "markdown",
   "id": "05d217cb-c99a-41ab-879e-edd5e90359e5",
   "metadata": {},
   "source": [
    "- y        price range (in thousand dollars)\n",
    "- CRIM     per capita crime rate by town\n",
    "- ZN       proportion of residential land zoned for lots over 25,000 sq.ft.\n",
    "- INDUS    proportion of non-retail business acres per town\n",
    "- CHAS     Charles River dummy variable (= 1 if tract bounds river; 0 otherwise)\n",
    "- NOX      nitric oxides concentration (parts per 10 million)\n",
    "- RM       average number of rooms per dwelling\n",
    "- AGE      proportion of owner-occupied units built prior to 1940\n",
    "- DIS      weighted distances to five Boston employment centres\n",
    "- RAD      index of accessibility to radial highways\n",
    "- TAX      full-value property-tax rate per \\$10,000\n",
    "- PTRATIO  pupil-teacher ratio by town\n",
    "- B        1000(Bk - 0.63)<sup>2</sup> where Bk is the proportion of black people by town\n",
    "- LSTAT    (%) lower status of the population\n",
    "- MEDV     Median value of owner-occupied homes in \\$1000's"
   ]
  },
  {
   "cell_type": "markdown",
   "id": "34087a51-1291-4ee7-acc3-bb64cb79caf6",
   "metadata": {},
   "source": [
    "> ### Data Splitting"
   ]
  },
  {
   "cell_type": "code",
   "execution_count": 25,
   "id": "a3a384f2-66d9-4326-8306-1e26d8c74210",
   "metadata": {},
   "outputs": [],
   "source": [
    "x = df_boston.drop(columns = 'y')\n",
    "y = df_boston['y']"
   ]
  },
  {
   "cell_type": "code",
   "execution_count": 26,
   "id": "43a0aa07-ee67-45fd-8e6a-a1c2175cec4a",
   "metadata": {},
   "outputs": [],
   "source": [
    "x_train, x_test, y_train, y_test = train_test_split(x, y, test_size = 0.2, random_state = 1899)"
   ]
  },
  {
   "cell_type": "markdown",
   "id": "49677527-ddf2-45b1-a1a1-ab84350ab3c6",
   "metadata": {},
   "source": [
    "> ### Scaling"
   ]
  },
  {
   "cell_type": "code",
   "execution_count": 28,
   "id": "0ed739e1-51ba-4d73-8d1c-9912fe524437",
   "metadata": {},
   "outputs": [],
   "source": [
    "scaler = MinMaxScaler()\n",
    "scaler.fit(x_train)\n",
    "x_train_scaled = scaler.transform(x_train)\n",
    "x_test_scaled = scaler.transform(x_test)"
   ]
  },
  {
   "cell_type": "markdown",
   "id": "9c7a7f4c-de8d-4afe-bf9a-a40692b6952a",
   "metadata": {},
   "source": [
    "> ### Ridge Regression"
   ]
  },
  {
   "cell_type": "code",
   "execution_count": 32,
   "id": "ebbc49e1-9bfd-4c48-8c92-6fc30ad9845f",
   "metadata": {},
   "outputs": [],
   "source": [
    "hyperparam_a = [100000, 10000, 10000, 100, 10, 1, 0.1, 0.01, 0.0001, 0.00001, 0.000001]\n",
    "test_mse = []\n",
    "train_mse = []\n",
    "score = 1000\n",
    "\n",
    "for i in hyperparam_a:\n",
    "    # training model\n",
    "    ridge = Ridge(alpha = i)\n",
    "    ridge.fit(x_train_scaled, y_train)\n",
    "    \n",
    "    # score train\n",
    "    y_pred_train = ridge.predict(x_train_scaled)\n",
    "    mse_train = mean_squared_error(y_train, y_pred_train)\n",
    "    train_mse.append(mse_train)\n",
    "    \n",
    "    # score test\n",
    "    y_pred_test = ridge.predict(x_test_scaled)\n",
    "    mse_test = mean_squared_error(y_test, y_pred_test)\n",
    "    test_mse.append(mse_test) \n",
    "    \n",
    "    # best score\n",
    "    if score > mse_test:\n",
    "        score = mse_test\n",
    "        best_alpha = i"
   ]
  },
  {
   "cell_type": "code",
   "execution_count": 33,
   "id": "fd1c05e2-92f6-4ea4-8862-887546b69cdd",
   "metadata": {},
   "outputs": [
    {
     "name": "stdout",
     "output_type": "stream",
     "text": [
      "best alpha : 1\n",
      "mse score : 27.6868788803617\n"
     ]
    }
   ],
   "source": [
    "print('best alpha :', best_alpha)\n",
    "print('mse score :', score)"
   ]
  },
  {
   "cell_type": "code",
   "execution_count": 36,
   "id": "bdf2f5aa-cca7-4201-ad1f-c51b06a633b9",
   "metadata": {},
   "outputs": [
    {
     "data": {
      "image/png": "[encoded data removed]",
      "text/plain": [
       "<Figure size 864x720 with 1 Axes>"
      ]
     },
     "metadata": {
      "needs_background": "light"
     },
     "output_type": "display_data"
    }
   ],
   "source": [
    "plt.figure(figsize = (12,10))\n",
    "length =  range(len(hyperparam_a))\n",
    "sns.lineplot(length, test_mse)\n",
    "sns.scatterplot(length, test_mse)\n",
    "sns.lineplot(length, train_mse)\n",
    "sns.scatterplot(length, train_mse)\n",
    "plt.legend(['Test MSE', 'Train MSE'], fontsize=15)\n",
    "plt.xlabel('hyperparam alpha', fontsize = 15)\n",
    "plt.ylabel('accuracy', fontsize = 15)\n",
    "plt.xticks(length, hyperparam_a)\n",
    "plt.show()"
   ]
  },
  {
   "cell_type": "markdown",
   "id": "e0897a8d-8bf5-4c36-b8dc-644bd91c683b",
   "metadata": {},
   "source": [
    "1. alpha > 1 (100000, 10000, 1000, 100, 10) : model underfitting, mse train or mse test value have great value\n",
    "2. alpha downtrend, model generalization good\n",
    "3. best alpha = 1\n",
    "4. alpha < 1 (0.1, 0.001, 0.0001, 0.00001) : model overfitting, mse train have a good value but mse test have a bad value"
   ]
  },
  {
   "cell_type": "code",
   "execution_count": 37,
   "id": "81fd7659-fa18-4879-ad2a-54c6c475f82f",
   "metadata": {},
   "outputs": [
    {
     "data": {
      "text/html": [
       "<div>\n",
       "<style scoped>\n",
       "    .dataframe tbody tr th:only-of-type {\n",
       "        vertical-align: middle;\n",
       "    }\n",
       "\n",
       "    .dataframe tbody tr th {\n",
       "        vertical-align: top;\n",
       "    }\n",
       "\n",
       "    .dataframe thead th {\n",
       "        text-align: right;\n",
       "    }\n",
       "</style>\n",
       "<table border=\"1\" class=\"dataframe\">\n",
       "  <thead>\n",
       "    <tr style=\"text-align: right;\">\n",
       "      <th></th>\n",
       "      <th>alpha</th>\n",
       "      <th>score_train</th>\n",
       "      <th>score_test</th>\n",
       "    </tr>\n",
       "  </thead>\n",
       "  <tbody>\n",
       "    <tr>\n",
       "      <th>0</th>\n",
       "      <td>100000.000000</td>\n",
       "      <td>84.542598</td>\n",
       "      <td>83.858801</td>\n",
       "    </tr>\n",
       "    <tr>\n",
       "      <th>1</th>\n",
       "      <td>10000.000000</td>\n",
       "      <td>83.709846</td>\n",
       "      <td>82.969277</td>\n",
       "    </tr>\n",
       "    <tr>\n",
       "      <th>2</th>\n",
       "      <td>10000.000000</td>\n",
       "      <td>83.709846</td>\n",
       "      <td>82.969277</td>\n",
       "    </tr>\n",
       "    <tr>\n",
       "      <th>3</th>\n",
       "      <td>100.000000</td>\n",
       "      <td>54.172112</td>\n",
       "      <td>51.428245</td>\n",
       "    </tr>\n",
       "    <tr>\n",
       "      <th>4</th>\n",
       "      <td>10.000000</td>\n",
       "      <td>28.680369</td>\n",
       "      <td>28.878246</td>\n",
       "    </tr>\n",
       "    <tr>\n",
       "      <th>5</th>\n",
       "      <td>1.000000</td>\n",
       "      <td>21.012610</td>\n",
       "      <td>27.686879</td>\n",
       "    </tr>\n",
       "    <tr>\n",
       "      <th>6</th>\n",
       "      <td>0.100000</td>\n",
       "      <td>20.669433</td>\n",
       "      <td>28.627257</td>\n",
       "    </tr>\n",
       "    <tr>\n",
       "      <th>7</th>\n",
       "      <td>0.010000</td>\n",
       "      <td>20.664355</td>\n",
       "      <td>28.761537</td>\n",
       "    </tr>\n",
       "    <tr>\n",
       "      <th>8</th>\n",
       "      <td>0.000100</td>\n",
       "      <td>20.664301</td>\n",
       "      <td>28.776948</td>\n",
       "    </tr>\n",
       "    <tr>\n",
       "      <th>9</th>\n",
       "      <td>0.000010</td>\n",
       "      <td>20.664301</td>\n",
       "      <td>28.777089</td>\n",
       "    </tr>\n",
       "    <tr>\n",
       "      <th>10</th>\n",
       "      <td>0.000001</td>\n",
       "      <td>20.664301</td>\n",
       "      <td>28.777103</td>\n",
       "    </tr>\n",
       "  </tbody>\n",
       "</table>\n",
       "</div>"
      ],
      "text/plain": [
       "            alpha  score_train  score_test\n",
       "0   100000.000000    84.542598   83.858801\n",
       "1    10000.000000    83.709846   82.969277\n",
       "2    10000.000000    83.709846   82.969277\n",
       "3      100.000000    54.172112   51.428245\n",
       "4       10.000000    28.680369   28.878246\n",
       "5        1.000000    21.012610   27.686879\n",
       "6        0.100000    20.669433   28.627257\n",
       "7        0.010000    20.664355   28.761537\n",
       "8        0.000100    20.664301   28.776948\n",
       "9        0.000010    20.664301   28.777089\n",
       "10       0.000001    20.664301   28.777103"
      ]
     },
     "execution_count": 37,
     "metadata": {},
     "output_type": "execute_result"
    }
   ],
   "source": [
    "pd.DataFrame({\n",
    "    'alpha':hyperparam_a,\n",
    "    'score_train': train_mse,\n",
    "    'score_test': test_mse\n",
    "})"
   ]
  },
  {
   "cell_type": "markdown",
   "id": "a7820f9f-d866-4330-a12e-e1dc8eac0c0e",
   "metadata": {},
   "source": [
    "1. too large alpha value : underfitting\n",
    "2. too small alpha value : overfitting\n",
    "3. optimal alpha value : 1 for this case and mse value : 27.688\n",
    "4. sweet spot : may happen when train slightly better than test"
   ]
  },
  {
   "cell_type": "markdown",
   "id": "0c32c4f0-6f21-43a1-941d-19a91f24446c",
   "metadata": {},
   "source": [
    "________\n",
    "## Model Complexity in Lasso\n",
    "Data : boston dataset from sklearn\n",
    "How :\n",
    "- Apply Ridge Regression\n",
    "    - target : target (house price)\n",
    "    - features : CRIM, ZN, INDUS, CHAS, NOX, RM, AGE, DIS, RAD, TAX, PTRATIO, B, LSTAT, MEDV\n",
    "- Using different alpha (100000, 10000, 1000, 100, 10, 1, 0.1, 0.001): Validate the model using mse in 80 % training data 20 % testing data\n",
    "- Compare mse obtained from training data and testing data\n",
    "\n",
    "> ### Lasso Regression"
   ]
  },
  {
   "cell_type": "code",
   "execution_count": 39,
   "id": "92c8621b-6ac9-4da6-90e2-3037925c39f1",
   "metadata": {},
   "outputs": [],
   "source": [
    "hyperparam_a = [100000, 10000, 10000, 100, 10, 1, 0.1, 0.01, 0.0001, 0.00001, 0.000001]\n",
    "test_mse = []\n",
    "train_mse = []\n",
    "score = 1000\n",
    "\n",
    "for i in hyperparam_a:\n",
    "    # training model\n",
    "    lasso = Lasso(alpha = i)\n",
    "    lasso.fit(x_train_scaled, y_train)\n",
    "    \n",
    "    # score train\n",
    "    y_pred_train = lasso.predict(x_train_scaled)\n",
    "    mse_train = mean_squared_error(y_train, y_pred_train)\n",
    "    train_mse.append(mse_train)\n",
    "    \n",
    "    # score test\n",
    "    y_pred_test = lasso.predict(x_test_scaled)\n",
    "    mse_test = mean_squared_error(y_test, y_pred_test)\n",
    "    test_mse.append(mse_test) \n",
    "    \n",
    "    # best score\n",
    "    if score > mse_test:\n",
    "        score = mse_test\n",
    "        best_alpha = i"
   ]
  },
  {
   "cell_type": "code",
   "execution_count": 40,
   "id": "07a54aab-8618-492f-b919-5460add84197",
   "metadata": {},
   "outputs": [
    {
     "name": "stdout",
     "output_type": "stream",
     "text": [
      "best alpha : 0.0001\n",
      "mse score : 28.776327959979053\n"
     ]
    }
   ],
   "source": [
    "print('best alpha :', best_alpha)\n",
    "print('mse score :', score)"
   ]
  },
  {
   "cell_type": "code",
   "execution_count": 41,
   "id": "bcf5612d-b769-4da9-84c5-5253f657e374",
   "metadata": {},
   "outputs": [
    {
     "data": {
      "image/png": "[encoded data removed]",
      "text/plain": [
       "<Figure size 864x720 with 1 Axes>"
      ]
     },
     "metadata": {
      "needs_background": "light"
     },
     "output_type": "display_data"
    }
   ],
   "source": [
    "plt.figure(figsize = (12,10))\n",
    "length =  range(len(hyperparam_a))\n",
    "sns.lineplot(length, test_mse)\n",
    "sns.scatterplot(length, test_mse)\n",
    "sns.lineplot(length, train_mse)\n",
    "sns.scatterplot(length, train_mse)\n",
    "plt.legend(['Test MSE', 'Train MSE'], fontsize=15)\n",
    "plt.xlabel('hyperparam alpha', fontsize = 15)\n",
    "plt.ylabel('accuracy', fontsize = 15)\n",
    "plt.xticks(length, hyperparam_a)\n",
    "plt.show()"
   ]
  },
  {
   "cell_type": "markdown",
   "id": "5cb0fe9a-3116-48f6-afbd-7279b290b8fc",
   "metadata": {},
   "source": [
    "1. alpha > 0.0001 (100000, 10000, 1000, 100, 10, 1, 0.1, 0.001) : model underfitting, mse train or mse test value have great value\n",
    "2. alpha downtrend, model generalization good\n",
    "3. best alpha = 0.0001, mse = 28.7763\n",
    "4. alpha < 0.0001 (0.00001) : model overfitting, mse train have a good value but mse test have a bad value"
   ]
  },
  {
   "cell_type": "code",
   "execution_count": 42,
   "id": "8e997661-985a-4c55-b9e6-302dde8f7813",
   "metadata": {},
   "outputs": [
    {
     "data": {
      "text/html": [
       "<div>\n",
       "<style scoped>\n",
       "    .dataframe tbody tr th:only-of-type {\n",
       "        vertical-align: middle;\n",
       "    }\n",
       "\n",
       "    .dataframe tbody tr th {\n",
       "        vertical-align: top;\n",
       "    }\n",
       "\n",
       "    .dataframe thead th {\n",
       "        text-align: right;\n",
       "    }\n",
       "</style>\n",
       "<table border=\"1\" class=\"dataframe\">\n",
       "  <thead>\n",
       "    <tr style=\"text-align: right;\">\n",
       "      <th></th>\n",
       "      <th>alpha</th>\n",
       "      <th>score_train</th>\n",
       "      <th>score_test</th>\n",
       "    </tr>\n",
       "  </thead>\n",
       "  <tbody>\n",
       "    <tr>\n",
       "      <th>0</th>\n",
       "      <td>100000.000000</td>\n",
       "      <td>84.637191</td>\n",
       "      <td>83.959835</td>\n",
       "    </tr>\n",
       "    <tr>\n",
       "      <th>1</th>\n",
       "      <td>10000.000000</td>\n",
       "      <td>84.637191</td>\n",
       "      <td>83.959835</td>\n",
       "    </tr>\n",
       "    <tr>\n",
       "      <th>2</th>\n",
       "      <td>10000.000000</td>\n",
       "      <td>84.637191</td>\n",
       "      <td>83.959835</td>\n",
       "    </tr>\n",
       "    <tr>\n",
       "      <th>3</th>\n",
       "      <td>100.000000</td>\n",
       "      <td>84.637191</td>\n",
       "      <td>83.959835</td>\n",
       "    </tr>\n",
       "    <tr>\n",
       "      <th>4</th>\n",
       "      <td>10.000000</td>\n",
       "      <td>84.637191</td>\n",
       "      <td>83.959835</td>\n",
       "    </tr>\n",
       "    <tr>\n",
       "      <th>5</th>\n",
       "      <td>1.000000</td>\n",
       "      <td>65.273673</td>\n",
       "      <td>63.081291</td>\n",
       "    </tr>\n",
       "    <tr>\n",
       "      <th>6</th>\n",
       "      <td>0.100000</td>\n",
       "      <td>24.374053</td>\n",
       "      <td>31.660629</td>\n",
       "    </tr>\n",
       "    <tr>\n",
       "      <th>7</th>\n",
       "      <td>0.010000</td>\n",
       "      <td>20.759526</td>\n",
       "      <td>28.859161</td>\n",
       "    </tr>\n",
       "    <tr>\n",
       "      <th>8</th>\n",
       "      <td>0.000100</td>\n",
       "      <td>20.664313</td>\n",
       "      <td>28.776328</td>\n",
       "    </tr>\n",
       "    <tr>\n",
       "      <th>9</th>\n",
       "      <td>0.000010</td>\n",
       "      <td>20.664301</td>\n",
       "      <td>28.777025</td>\n",
       "    </tr>\n",
       "    <tr>\n",
       "      <th>10</th>\n",
       "      <td>0.000001</td>\n",
       "      <td>20.664301</td>\n",
       "      <td>28.777097</td>\n",
       "    </tr>\n",
       "  </tbody>\n",
       "</table>\n",
       "</div>"
      ],
      "text/plain": [
       "            alpha  score_train  score_test\n",
       "0   100000.000000    84.637191   83.959835\n",
       "1    10000.000000    84.637191   83.959835\n",
       "2    10000.000000    84.637191   83.959835\n",
       "3      100.000000    84.637191   83.959835\n",
       "4       10.000000    84.637191   83.959835\n",
       "5        1.000000    65.273673   63.081291\n",
       "6        0.100000    24.374053   31.660629\n",
       "7        0.010000    20.759526   28.859161\n",
       "8        0.000100    20.664313   28.776328\n",
       "9        0.000010    20.664301   28.777025\n",
       "10       0.000001    20.664301   28.777097"
      ]
     },
     "execution_count": 42,
     "metadata": {},
     "output_type": "execute_result"
    }
   ],
   "source": [
    "pd.DataFrame({\n",
    "    'alpha':hyperparam_a,\n",
    "    'score_train': train_mse,\n",
    "    'score_test': test_mse\n",
    "})"
   ]
  }
 ],
 "metadata": {
  "kernelspec": {
   "display_name": "Python 3",
   "language": "python",
   "name": "python3"
  },
  "language_info": {
   "codemirror_mode": {
    "name": "ipython",
    "version": 3
   },
   "file_extension": ".py",
   "mimetype": "text/x-python",
   "name": "python",
   "nbconvert_exporter": "python",
   "pygments_lexer": "ipython3",
   "version": "3.7.3"
  }
 },
 "nbformat": 4,
 "nbformat_minor": 5
}
