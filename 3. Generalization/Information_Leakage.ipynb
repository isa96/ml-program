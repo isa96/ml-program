{
 "cells": [
  {
   "cell_type": "markdown",
   "id": "e5321ee9-9a87-43c2-bf86-f08eb6755df5",
   "metadata": {},
   "source": [
    "# Information Leakage\n",
    "Data : \n",
    "- Generate Data\n",
    "    - y ~ normal(mean = 0, std = 1, n = 100)\n",
    "    - x ~ normal (mean = 0, std = 1, n = 100, dimension = 10000)\n",
    "    - y and x uncorrelated each other\n",
    "- Information Leakage\n",
    "    - modeling x and y using ridge + percentile feature selection (f statistics)\n",
    "    - do feature selection: apply fit and transform to x\n",
    "    - compute r-square using cross validation\n",
    "- No Information Leakage\n",
    "    - modeling x and y using ridge + percentile feature selection (f statistics)\n",
    "    - make pipeline: feature selection + regression\n",
    "    - compute r-square using cross validation\n",
    "\n",
    "> ## Library and Data"
   ]
  },
  {
   "cell_type": "code",
   "execution_count": 2,
   "id": "0e3a626d-b877-4dee-8ab7-461cabf7a033",
   "metadata": {},
   "outputs": [],
   "source": [
    "import pandas as pd\n",
    "import numpy as np"
   ]
  },
  {
   "cell_type": "code",
   "execution_count": 3,
   "id": "46bf40c2-e3b0-40e9-b6cf-197bcc9f9586",
   "metadata": {},
   "outputs": [],
   "source": [
    "rnd = np.random.RandomState(seed = 2020)\n",
    "x = rnd.normal(size = (100, 10000))\n",
    "y = rnd.normal(size = (100, 1))"
   ]
  },
  {
   "cell_type": "markdown",
   "id": "90b4c4a4-8a2a-46ab-9db5-0252d16fdda6",
   "metadata": {},
   "source": [
    "> ## Information Leakage"
   ]
  },
  {
   "cell_type": "code",
   "execution_count": 4,
   "id": "8ac9e4ab-675a-4634-8f0b-0d5335b650b7",
   "metadata": {},
   "outputs": [],
   "source": [
    "from sklearn.feature_selection import SelectPercentile, f_regression"
   ]
  },
  {
   "cell_type": "code",
   "execution_count": 6,
   "id": "63a03fbe-16ea-4252-8392-75b346bd6059",
   "metadata": {},
   "outputs": [
    {
     "name": "stderr",
     "output_type": "stream",
     "text": [
      "C:\\Users\\user\\Anaconda3\\lib\\site-packages\\sklearn\\utils\\validation.py:63: DataConversionWarning: A column-vector y was passed when a 1d array was expected. Please change the shape of y to (n_samples, ), for example using ravel().\n",
      "  return f(*args, **kwargs)\n"
     ]
    },
    {
     "data": {
      "text/plain": [
       "(100, 500)"
      ]
     },
     "execution_count": 6,
     "metadata": {},
     "output_type": "execute_result"
    }
   ],
   "source": [
    "select = SelectPercentile(score_func = f_regression, percentile = 5)\n",
    "x_selected = select.fit_transform(x, y)\n",
    "x_selected.shape"
   ]
  },
  {
   "cell_type": "code",
   "execution_count": 7,
   "id": "485c12e8-5b78-459c-9c6d-38a1688b2ed7",
   "metadata": {},
   "outputs": [],
   "source": [
    "from sklearn.model_selection import cross_val_score\n",
    "from sklearn.linear_model import Ridge"
   ]
  },
  {
   "cell_type": "code",
   "execution_count": 8,
   "id": "a4ff04bb-7a42-4b6f-a098-dbd64fa4aa49",
   "metadata": {},
   "outputs": [
    {
     "data": {
      "text/plain": [
       "array([0.92165345, 0.89445668, 0.92827414, 0.93088559, 0.91044624])"
      ]
     },
     "execution_count": 8,
     "metadata": {},
     "output_type": "execute_result"
    }
   ],
   "source": [
    "cross_val_score(Ridge(), x_selected, y, cv = 5)"
   ]
  },
  {
   "cell_type": "markdown",
   "id": "be4f5404-45b9-4f3f-ab70-e703eb6c72b4",
   "metadata": {},
   "source": [
    "> ## No Information Leakage"
   ]
  },
  {
   "cell_type": "code",
   "execution_count": 9,
   "id": "20a08529-b5d5-4503-9d87-8be6a8b7e4c8",
   "metadata": {},
   "outputs": [],
   "source": [
    "from sklearn.pipeline import Pipeline"
   ]
  },
  {
   "cell_type": "code",
   "execution_count": 11,
   "id": "47917b2e-1948-46ba-bfd6-ea3770da1719",
   "metadata": {},
   "outputs": [],
   "source": [
    "select = SelectPercentile(score_func = f_regression, percentile = 5)\n",
    "\n",
    "pipe_ridge = Pipeline([\n",
    "    ('select', select),\n",
    "    ('model', Ridge())\n",
    "])"
   ]
  },
  {
   "cell_type": "code",
   "execution_count": 12,
   "id": "9cdd9fa6-8e60-490b-832a-4396c383cf76",
   "metadata": {},
   "outputs": [
    {
     "name": "stderr",
     "output_type": "stream",
     "text": [
      "C:\\Users\\user\\Anaconda3\\lib\\site-packages\\sklearn\\utils\\validation.py:63: DataConversionWarning: A column-vector y was passed when a 1d array was expected. Please change the shape of y to (n_samples, ), for example using ravel().\n",
      "  return f(*args, **kwargs)\n",
      "C:\\Users\\user\\Anaconda3\\lib\\site-packages\\sklearn\\utils\\validation.py:63: DataConversionWarning: A column-vector y was passed when a 1d array was expected. Please change the shape of y to (n_samples, ), for example using ravel().\n",
      "  return f(*args, **kwargs)\n",
      "C:\\Users\\user\\Anaconda3\\lib\\site-packages\\sklearn\\utils\\validation.py:63: DataConversionWarning: A column-vector y was passed when a 1d array was expected. Please change the shape of y to (n_samples, ), for example using ravel().\n",
      "  return f(*args, **kwargs)\n",
      "C:\\Users\\user\\Anaconda3\\lib\\site-packages\\sklearn\\utils\\validation.py:63: DataConversionWarning: A column-vector y was passed when a 1d array was expected. Please change the shape of y to (n_samples, ), for example using ravel().\n",
      "  return f(*args, **kwargs)\n",
      "C:\\Users\\user\\Anaconda3\\lib\\site-packages\\sklearn\\utils\\validation.py:63: DataConversionWarning: A column-vector y was passed when a 1d array was expected. Please change the shape of y to (n_samples, ), for example using ravel().\n",
      "  return f(*args, **kwargs)\n"
     ]
    },
    {
     "data": {
      "text/plain": [
       "array([-0.0330359 , -0.07840338, -0.06731106, -0.04544685, -0.07314928])"
      ]
     },
     "execution_count": 12,
     "metadata": {},
     "output_type": "execute_result"
    }
   ],
   "source": [
    "cross_val_score(pipe_ridge, x, y, cv = 5)"
   ]
  }
 ],
 "metadata": {
  "kernelspec": {
   "display_name": "Python 3",
   "language": "python",
   "name": "python3"
  },
  "language_info": {
   "codemirror_mode": {
    "name": "ipython",
    "version": 3
   },
   "file_extension": ".py",
   "mimetype": "text/x-python",
   "name": "python",
   "nbconvert_exporter": "python",
   "pygments_lexer": "ipython3",
   "version": "3.7.3"
  }
 },
 "nbformat": 4,
 "nbformat_minor": 5
}
