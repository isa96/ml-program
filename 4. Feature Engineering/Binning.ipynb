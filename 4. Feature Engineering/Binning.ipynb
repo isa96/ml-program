{
 "cells": [
  {
   "cell_type": "markdown",
   "id": "06a00577-a81a-4f36-9d90-460ab6d534be",
   "metadata": {},
   "source": [
    "# Binning \n",
    "\n",
    "> ## Library"
   ]
  },
  {
   "cell_type": "code",
   "execution_count": 2,
   "id": "7adcf531-cf95-401e-9852-a045f1826f88",
   "metadata": {},
   "outputs": [],
   "source": [
    "import pandas as pd\n",
    "import numpy as np\n",
    "\n",
    "import matplotlib.pyplot as plt\n",
    "import seaborn as sns\n",
    "\n",
    "from sklearn.preprocessing import KBinsDiscretizer\n",
    "\n",
    "from sklearn.linear_model import LogisticRegression\n",
    "\n",
    "from sklearn.model_selection import train_test_split\n",
    "\n",
    "from sklearn.metrics import accuracy_score"
   ]
  },
  {
   "cell_type": "markdown",
   "id": "29969ae4-e60f-48e2-94a0-b0e8f26749d7",
   "metadata": {},
   "source": [
    "> ## Data"
   ]
  },
  {
   "cell_type": "code",
   "execution_count": 4,
   "id": "401a7c48-b097-4d78-a2d3-aa3cece72f55",
   "metadata": {},
   "outputs": [
    {
     "data": {
      "text/html": [
       "<div>\n",
       "<style scoped>\n",
       "    .dataframe tbody tr th:only-of-type {\n",
       "        vertical-align: middle;\n",
       "    }\n",
       "\n",
       "    .dataframe tbody tr th {\n",
       "        vertical-align: top;\n",
       "    }\n",
       "\n",
       "    .dataframe thead th {\n",
       "        text-align: right;\n",
       "    }\n",
       "</style>\n",
       "<table border=\"1\" class=\"dataframe\">\n",
       "  <thead>\n",
       "    <tr style=\"text-align: right;\">\n",
       "      <th></th>\n",
       "      <th>x</th>\n",
       "      <th>class</th>\n",
       "    </tr>\n",
       "  </thead>\n",
       "  <tbody>\n",
       "    <tr>\n",
       "      <th>0</th>\n",
       "      <td>51</td>\n",
       "      <td>0</td>\n",
       "    </tr>\n",
       "    <tr>\n",
       "      <th>1</th>\n",
       "      <td>19</td>\n",
       "      <td>1</td>\n",
       "    </tr>\n",
       "    <tr>\n",
       "      <th>2</th>\n",
       "      <td>66</td>\n",
       "      <td>1</td>\n",
       "    </tr>\n",
       "    <tr>\n",
       "      <th>3</th>\n",
       "      <td>35</td>\n",
       "      <td>0</td>\n",
       "    </tr>\n",
       "    <tr>\n",
       "      <th>4</th>\n",
       "      <td>64</td>\n",
       "      <td>1</td>\n",
       "    </tr>\n",
       "    <tr>\n",
       "      <th>...</th>\n",
       "      <td>...</td>\n",
       "      <td>...</td>\n",
       "    </tr>\n",
       "    <tr>\n",
       "      <th>1524</th>\n",
       "      <td>58</td>\n",
       "      <td>1</td>\n",
       "    </tr>\n",
       "    <tr>\n",
       "      <th>1525</th>\n",
       "      <td>64</td>\n",
       "      <td>1</td>\n",
       "    </tr>\n",
       "    <tr>\n",
       "      <th>1526</th>\n",
       "      <td>47</td>\n",
       "      <td>0</td>\n",
       "    </tr>\n",
       "    <tr>\n",
       "      <th>1527</th>\n",
       "      <td>26</td>\n",
       "      <td>1</td>\n",
       "    </tr>\n",
       "    <tr>\n",
       "      <th>1528</th>\n",
       "      <td>33</td>\n",
       "      <td>0</td>\n",
       "    </tr>\n",
       "  </tbody>\n",
       "</table>\n",
       "<p>1529 rows × 2 columns</p>\n",
       "</div>"
      ],
      "text/plain": [
       "       x  class\n",
       "0     51      0\n",
       "1     19      1\n",
       "2     66      1\n",
       "3     35      0\n",
       "4     64      1\n",
       "...   ..    ...\n",
       "1524  58      1\n",
       "1525  64      1\n",
       "1526  47      0\n",
       "1527  26      1\n",
       "1528  33      0\n",
       "\n",
       "[1529 rows x 2 columns]"
      ]
     },
     "execution_count": 4,
     "metadata": {},
     "output_type": "execute_result"
    }
   ],
   "source": [
    "disk = pd.read_csv(r'C:\\Users\\user\\Documents\\Data Science\\MODUL 3\\Scaling\\disk.csv')\n",
    "disk"
   ]
  },
  {
   "cell_type": "markdown",
   "id": "503e476b-8b2e-44e6-8454-13d97a61d590",
   "metadata": {},
   "source": [
    "> ## EDA"
   ]
  },
  {
   "cell_type": "code",
   "execution_count": 7,
   "id": "b259b211-74f3-44b1-b2a3-7e564d102fe4",
   "metadata": {},
   "outputs": [
    {
     "data": {
      "text/html": [
       "<div>\n",
       "<style scoped>\n",
       "    .dataframe tbody tr th:only-of-type {\n",
       "        vertical-align: middle;\n",
       "    }\n",
       "\n",
       "    .dataframe tbody tr th {\n",
       "        vertical-align: top;\n",
       "    }\n",
       "\n",
       "    .dataframe thead th {\n",
       "        text-align: right;\n",
       "    }\n",
       "</style>\n",
       "<table border=\"1\" class=\"dataframe\">\n",
       "  <thead>\n",
       "    <tr style=\"text-align: right;\">\n",
       "      <th></th>\n",
       "      <th>x</th>\n",
       "      <th>class</th>\n",
       "      <th>x_interval</th>\n",
       "    </tr>\n",
       "  </thead>\n",
       "  <tbody>\n",
       "    <tr>\n",
       "      <th>0</th>\n",
       "      <td>51</td>\n",
       "      <td>0</td>\n",
       "      <td>(46.0, 53.0]</td>\n",
       "    </tr>\n",
       "    <tr>\n",
       "      <th>1</th>\n",
       "      <td>19</td>\n",
       "      <td>1</td>\n",
       "      <td>(17.951, 25.0]</td>\n",
       "    </tr>\n",
       "    <tr>\n",
       "      <th>2</th>\n",
       "      <td>66</td>\n",
       "      <td>1</td>\n",
       "      <td>(60.0, 67.0]</td>\n",
       "    </tr>\n",
       "    <tr>\n",
       "      <th>3</th>\n",
       "      <td>35</td>\n",
       "      <td>0</td>\n",
       "      <td>(32.0, 39.0]</td>\n",
       "    </tr>\n",
       "    <tr>\n",
       "      <th>4</th>\n",
       "      <td>64</td>\n",
       "      <td>1</td>\n",
       "      <td>(60.0, 67.0]</td>\n",
       "    </tr>\n",
       "    <tr>\n",
       "      <th>...</th>\n",
       "      <td>...</td>\n",
       "      <td>...</td>\n",
       "      <td>...</td>\n",
       "    </tr>\n",
       "    <tr>\n",
       "      <th>1524</th>\n",
       "      <td>58</td>\n",
       "      <td>1</td>\n",
       "      <td>(53.0, 60.0]</td>\n",
       "    </tr>\n",
       "    <tr>\n",
       "      <th>1525</th>\n",
       "      <td>64</td>\n",
       "      <td>1</td>\n",
       "      <td>(60.0, 67.0]</td>\n",
       "    </tr>\n",
       "    <tr>\n",
       "      <th>1526</th>\n",
       "      <td>47</td>\n",
       "      <td>0</td>\n",
       "      <td>(46.0, 53.0]</td>\n",
       "    </tr>\n",
       "    <tr>\n",
       "      <th>1527</th>\n",
       "      <td>26</td>\n",
       "      <td>1</td>\n",
       "      <td>(25.0, 32.0]</td>\n",
       "    </tr>\n",
       "    <tr>\n",
       "      <th>1528</th>\n",
       "      <td>33</td>\n",
       "      <td>0</td>\n",
       "      <td>(32.0, 39.0]</td>\n",
       "    </tr>\n",
       "  </tbody>\n",
       "</table>\n",
       "<p>1529 rows × 3 columns</p>\n",
       "</div>"
      ],
      "text/plain": [
       "       x  class      x_interval\n",
       "0     51      0    (46.0, 53.0]\n",
       "1     19      1  (17.951, 25.0]\n",
       "2     66      1    (60.0, 67.0]\n",
       "3     35      0    (32.0, 39.0]\n",
       "4     64      1    (60.0, 67.0]\n",
       "...   ..    ...             ...\n",
       "1524  58      1    (53.0, 60.0]\n",
       "1525  64      1    (60.0, 67.0]\n",
       "1526  47      0    (46.0, 53.0]\n",
       "1527  26      1    (25.0, 32.0]\n",
       "1528  33      0    (32.0, 39.0]\n",
       "\n",
       "[1529 rows x 3 columns]"
      ]
     },
     "execution_count": 7,
     "metadata": {},
     "output_type": "execute_result"
    }
   ],
   "source": [
    "disk['x_interval'] = pd.cut(disk['x'], 7) # equal interval\n",
    "disk"
   ]
  },
  {
   "cell_type": "code",
   "execution_count": 9,
   "id": "157a8188-cf9c-4d86-a071-077abc089e7f",
   "metadata": {},
   "outputs": [
    {
     "data": {
      "text/html": [
       "<div>\n",
       "<style scoped>\n",
       "    .dataframe tbody tr th:only-of-type {\n",
       "        vertical-align: middle;\n",
       "    }\n",
       "\n",
       "    .dataframe tbody tr th {\n",
       "        vertical-align: top;\n",
       "    }\n",
       "\n",
       "    .dataframe thead th {\n",
       "        text-align: right;\n",
       "    }\n",
       "</style>\n",
       "<table border=\"1\" class=\"dataframe\">\n",
       "  <thead>\n",
       "    <tr style=\"text-align: right;\">\n",
       "      <th>class</th>\n",
       "      <th>0</th>\n",
       "      <th>1</th>\n",
       "    </tr>\n",
       "    <tr>\n",
       "      <th>x_interval</th>\n",
       "      <th></th>\n",
       "      <th></th>\n",
       "    </tr>\n",
       "  </thead>\n",
       "  <tbody>\n",
       "    <tr>\n",
       "      <th>(17.951, 25.0]</th>\n",
       "      <td>0.224670</td>\n",
       "      <td>0.775330</td>\n",
       "    </tr>\n",
       "    <tr>\n",
       "      <th>(25.0, 32.0]</th>\n",
       "      <td>0.537037</td>\n",
       "      <td>0.462963</td>\n",
       "    </tr>\n",
       "    <tr>\n",
       "      <th>(32.0, 39.0]</th>\n",
       "      <td>0.835616</td>\n",
       "      <td>0.164384</td>\n",
       "    </tr>\n",
       "    <tr>\n",
       "      <th>(39.0, 46.0]</th>\n",
       "      <td>0.846561</td>\n",
       "      <td>0.153439</td>\n",
       "    </tr>\n",
       "    <tr>\n",
       "      <th>(46.0, 53.0]</th>\n",
       "      <td>0.583673</td>\n",
       "      <td>0.416327</td>\n",
       "    </tr>\n",
       "    <tr>\n",
       "      <th>(53.0, 60.0]</th>\n",
       "      <td>0.302632</td>\n",
       "      <td>0.697368</td>\n",
       "    </tr>\n",
       "    <tr>\n",
       "      <th>(60.0, 67.0]</th>\n",
       "      <td>0.068293</td>\n",
       "      <td>0.931707</td>\n",
       "    </tr>\n",
       "  </tbody>\n",
       "</table>\n",
       "</div>"
      ],
      "text/plain": [
       "class                  0         1\n",
       "x_interval                        \n",
       "(17.951, 25.0]  0.224670  0.775330\n",
       "(25.0, 32.0]    0.537037  0.462963\n",
       "(32.0, 39.0]    0.835616  0.164384\n",
       "(39.0, 46.0]    0.846561  0.153439\n",
       "(46.0, 53.0]    0.583673  0.416327\n",
       "(53.0, 60.0]    0.302632  0.697368\n",
       "(60.0, 67.0]    0.068293  0.931707"
      ]
     },
     "execution_count": 9,
     "metadata": {},
     "output_type": "execute_result"
    }
   ],
   "source": [
    "pd.crosstab(disk['x_interval'], disk['class'], normalize = 0)"
   ]
  },
  {
   "cell_type": "code",
   "execution_count": 10,
   "id": "cd8e9dd2-0da2-4f4d-a1ba-83ba16092e54",
   "metadata": {},
   "outputs": [
    {
     "data": {
      "text/plain": [
       "<AxesSubplot:xlabel='x_interval'>"
      ]
     },
     "execution_count": 10,
     "metadata": {},
     "output_type": "execute_result"
    },
    {
     "data": {
      "image/png": "[encoded data removed]",
      "text/plain": [
       "<Figure size 432x288 with 1 Axes>"
      ]
     },
     "metadata": {
      "needs_background": "light"
     },
     "output_type": "display_data"
    }
   ],
   "source": [
    "pd.crosstab(disk['x_interval'], disk['class'], normalize = 0).plot(kind = 'bar', stacked = True)"
   ]
  },
  {
   "cell_type": "markdown",
   "id": "9c5f62a2-dfbe-401f-8bfa-b45966b693e9",
   "metadata": {},
   "source": [
    "1. Non-linear correlation = quadratic\n",
    "2. Linear models are less able to capture existing patterns : y = a + bx\n",
    "3. Solutin: discretization to capture existing pattern between x and y"
   ]
  },
  {
   "cell_type": "markdown",
   "id": "c50204ea-7f98-4d96-851b-75731ef26f1d",
   "metadata": {},
   "source": [
    "> ## Model without Binning"
   ]
  },
  {
   "cell_type": "code",
   "execution_count": 11,
   "id": "66d0194e-66e7-44fc-b867-57f6c2e453e2",
   "metadata": {},
   "outputs": [],
   "source": [
    "x = disk[['x']]\n",
    "y = disk['class']\n",
    "\n",
    "x_train, x_test, y_train, y_test = train_test_split(x, y, stratify = y, random_state = 2020)"
   ]
  },
  {
   "cell_type": "code",
   "execution_count": 12,
   "id": "5b7a7065-07c7-4771-8673-4fc50a7356cb",
   "metadata": {},
   "outputs": [
    {
     "data": {
      "text/plain": [
       "LogisticRegression()"
      ]
     },
     "execution_count": 12,
     "metadata": {},
     "output_type": "execute_result"
    }
   ],
   "source": [
    "logreg = LogisticRegression()\n",
    "logreg.fit(x_train, y_train)"
   ]
  },
  {
   "cell_type": "code",
   "execution_count": 13,
   "id": "50089210-3052-4c60-af81-8ce3c7a3e793",
   "metadata": {},
   "outputs": [
    {
     "data": {
      "text/plain": [
       "0.5822454308093995"
      ]
     },
     "execution_count": 13,
     "metadata": {},
     "output_type": "execute_result"
    }
   ],
   "source": [
    "y_pred = logreg.predict(x_test)\n",
    "accuracy_score(y_test, y_pred)"
   ]
  },
  {
   "cell_type": "markdown",
   "id": "8a2c5233-6c3d-4d55-aec8-23962650235c",
   "metadata": {},
   "source": [
    "> ## Model with Binning"
   ]
  },
  {
   "cell_type": "code",
   "execution_count": 21,
   "id": "946c6095-3fd3-40db-ad18-436bc03cf084",
   "metadata": {},
   "outputs": [],
   "source": [
    "discretize = KBinsDiscretizer(n_bins = 7, strategy = 'uniform', encode = 'onehot')\n",
    "x_train_disc = discretize.fit_transform(x_train)\n",
    "x_test_disc = discretize.transform(x_test)"
   ]
  },
  {
   "cell_type": "code",
   "execution_count": 22,
   "id": "e565ee02-7937-461a-8161-b30cc48616b5",
   "metadata": {},
   "outputs": [
    {
     "data": {
      "text/plain": [
       "LogisticRegression()"
      ]
     },
     "execution_count": 22,
     "metadata": {},
     "output_type": "execute_result"
    }
   ],
   "source": [
    "logreg = LogisticRegression()\n",
    "logreg.fit(x_train_disc, y_train)"
   ]
  },
  {
   "cell_type": "code",
   "execution_count": 23,
   "id": "0db04e48-d989-4e8c-83ad-650993fe244e",
   "metadata": {},
   "outputs": [
    {
     "data": {
      "text/plain": [
       "0.6997389033942559"
      ]
     },
     "execution_count": 23,
     "metadata": {},
     "output_type": "execute_result"
    }
   ],
   "source": [
    "y_pred = logreg.predict(x_test_disc)\n",
    "accuracy_score(y_test, y_pred)"
   ]
  },
  {
   "cell_type": "markdown",
   "id": "026b7f3a-b68d-421a-b6df-c396d0a1e57e",
   "metadata": {},
   "source": [
    "Accuracy increased in Model with Binning, because discretization can capture pattern between x and y.     \n",
    "ex : year old (x) with default rate     \n",
    "    1. young : high default rate      \n",
    "    2. ideal : lower default rate      \n",
    "    3. old : high default rate"
   ]
  },
  {
   "cell_type": "code",
   "execution_count": 24,
   "id": "8f708227-e09f-4875-8e08-ebb686cb138c",
   "metadata": {},
   "outputs": [
    {
     "data": {
      "text/plain": [
       "<AxesSubplot:xlabel='x_interval'>"
      ]
     },
     "execution_count": 24,
     "metadata": {},
     "output_type": "execute_result"
    },
    {
     "data": {
      "image/png": "[encoded data removed]",
      "text/plain": [
       "<Figure size 432x288 with 1 Axes>"
      ]
     },
     "metadata": {
      "needs_background": "light"
     },
     "output_type": "display_data"
    }
   ],
   "source": [
    "pd.crosstab(disk['x_interval'], disk['class'], normalize = 0).plot(kind = 'bar', stacked = True)"
   ]
  },
  {
   "cell_type": "markdown",
   "id": "afc1e8a4-32e2-4ef3-9059-406758f4ef32",
   "metadata": {},
   "source": [
    "0 = non default rate,\n",
    "1 = default rate"
   ]
  },
  {
   "cell_type": "code",
   "execution_count": null,
   "id": "be543709-41f6-4479-ad78-ecfb1858385a",
   "metadata": {},
   "outputs": [],
   "source": []
  },
  {
   "cell_type": "code",
   "execution_count": null,
   "id": "98722eb5-4ffb-436c-b8f5-00f6b5aba60f",
   "metadata": {},
   "outputs": [],
   "source": []
  },
  {
   "cell_type": "code",
   "execution_count": null,
   "id": "92dea147-d501-4552-a720-34dc25b3095e",
   "metadata": {},
   "outputs": [],
   "source": []
  }
 ],
 "metadata": {
  "kernelspec": {
   "display_name": "Python 3",
   "language": "python",
   "name": "python3"
  },
  "language_info": {
   "codemirror_mode": {
    "name": "ipython",
    "version": 3
   },
   "file_extension": ".py",
   "mimetype": "text/x-python",
   "name": "python",
   "nbconvert_exporter": "python",
   "pygments_lexer": "ipython3",
   "version": "3.7.3"
  }
 },
 "nbformat": 4,
 "nbformat_minor": 5
}
