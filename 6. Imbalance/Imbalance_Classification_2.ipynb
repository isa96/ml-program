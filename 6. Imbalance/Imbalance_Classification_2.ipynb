{
 "cells": [
  {
   "cell_type": "markdown",
   "id": "ecd2df57-e77f-4b09-9c2b-d242625f2f27",
   "metadata": {},
   "source": [
    "# Combine Cross Validation with Balancing Method\n",
    "Data : bankloan.csv\n",
    "- Build a logistics regression model\n",
    "    - Target : default\n",
    "    - Features : employ, debtinc, creddebt, othdebt\n",
    "- Random state 2020, ratio 80% : 20%\n",
    "- Modeling evaluate by f1 score and use stratified 5-fold CV:\n",
    "    - Penalized logistic regression\n",
    "    - Logistic regression with SMOTE\n",
    "- Which method is better?"
   ]
  },
  {
   "cell_type": "markdown",
   "id": "9b3e40fd-8249-48c0-9202-b9294e58d290",
   "metadata": {},
   "source": [
    "> ## Library and Data"
   ]
  },
  {
   "cell_type": "code",
   "execution_count": 1,
   "id": "a08bce12-dde4-4a58-a346-dc2884f66c61",
   "metadata": {},
   "outputs": [
    {
     "name": "stdout",
     "output_type": "stream",
     "text": [
      "Requirement already satisfied: imblearn in c:\\users\\user\\anaconda3\\lib\\site-packages (0.0)\n",
      "Requirement already satisfied: imbalanced-learn in c:\\users\\user\\anaconda3\\lib\\site-packages (from imblearn) (0.8.0)\n",
      "Requirement already satisfied: numpy>=1.13.3 in c:\\users\\user\\anaconda3\\lib\\site-packages (from imbalanced-learn->imblearn) (1.20.2)\n",
      "Requirement already satisfied: scipy>=0.19.1 in c:\\users\\user\\anaconda3\\lib\\site-packages (from imbalanced-learn->imblearn) (1.6.2)\n",
      "Requirement already satisfied: scikit-learn>=0.24 in c:\\users\\user\\anaconda3\\lib\\site-packages (from imbalanced-learn->imblearn) (0.24.2)\n",
      "Requirement already satisfied: joblib>=0.11 in c:\\users\\user\\anaconda3\\lib\\site-packages (from imbalanced-learn->imblearn) (1.0.1)\n",
      "Requirement already satisfied: threadpoolctl>=2.0.0 in c:\\users\\user\\anaconda3\\lib\\site-packages (from scikit-learn>=0.24->imbalanced-learn->imblearn) (2.1.0)\n"
     ]
    }
   ],
   "source": [
    "!pip install imblearn"
   ]
  },
  {
   "cell_type": "code",
   "execution_count": 18,
   "id": "3331dd4c-9b94-4d23-b4d2-8ba9603527ca",
   "metadata": {},
   "outputs": [],
   "source": [
    "import pandas as pd\n",
    "import numpy as np\n",
    "\n",
    "import seaborn as sns\n",
    "import matplotlib.pyplot as plt\n",
    "\n",
    "from sklearn.model_selection import train_test_split, cross_val_score, StratifiedKFold, GridSearchCV\n",
    "from imblearn.over_sampling import SMOTE, RandomOverSampler\n",
    "from imblearn.pipeline import Pipeline\n",
    "\n",
    "from sklearn.linear_model import LogisticRegression\n",
    "\n",
    "from sklearn.metrics import plot_roc_curve\n",
    "from sklearn.metrics import classification_report, f1_score\n",
    "\n",
    "import warnings\n",
    "warnings.filterwarnings('ignore')"
   ]
  },
  {
   "cell_type": "code",
   "execution_count": 3,
   "id": "0215b789-b18e-4d57-87fc-02304639795b",
   "metadata": {},
   "outputs": [
    {
     "data": {
      "text/html": [
       "<div>\n",
       "<style scoped>\n",
       "    .dataframe tbody tr th:only-of-type {\n",
       "        vertical-align: middle;\n",
       "    }\n",
       "\n",
       "    .dataframe tbody tr th {\n",
       "        vertical-align: top;\n",
       "    }\n",
       "\n",
       "    .dataframe thead th {\n",
       "        text-align: right;\n",
       "    }\n",
       "</style>\n",
       "<table border=\"1\" class=\"dataframe\">\n",
       "  <thead>\n",
       "    <tr style=\"text-align: right;\">\n",
       "      <th></th>\n",
       "      <th>age</th>\n",
       "      <th>ed</th>\n",
       "      <th>employ</th>\n",
       "      <th>address</th>\n",
       "      <th>income</th>\n",
       "      <th>debtinc</th>\n",
       "      <th>creddebt</th>\n",
       "      <th>othdebt</th>\n",
       "      <th>default</th>\n",
       "    </tr>\n",
       "  </thead>\n",
       "  <tbody>\n",
       "    <tr>\n",
       "      <th>0</th>\n",
       "      <td>41</td>\n",
       "      <td>3</td>\n",
       "      <td>17</td>\n",
       "      <td>12</td>\n",
       "      <td>176</td>\n",
       "      <td>9.3</td>\n",
       "      <td>11.359392</td>\n",
       "      <td>5.008608</td>\n",
       "      <td>1</td>\n",
       "    </tr>\n",
       "    <tr>\n",
       "      <th>1</th>\n",
       "      <td>27</td>\n",
       "      <td>1</td>\n",
       "      <td>10</td>\n",
       "      <td>6</td>\n",
       "      <td>31</td>\n",
       "      <td>17.3</td>\n",
       "      <td>1.362202</td>\n",
       "      <td>4.000798</td>\n",
       "      <td>0</td>\n",
       "    </tr>\n",
       "    <tr>\n",
       "      <th>2</th>\n",
       "      <td>40</td>\n",
       "      <td>1</td>\n",
       "      <td>15</td>\n",
       "      <td>14</td>\n",
       "      <td>55</td>\n",
       "      <td>5.5</td>\n",
       "      <td>0.856075</td>\n",
       "      <td>2.168925</td>\n",
       "      <td>0</td>\n",
       "    </tr>\n",
       "    <tr>\n",
       "      <th>3</th>\n",
       "      <td>41</td>\n",
       "      <td>1</td>\n",
       "      <td>15</td>\n",
       "      <td>14</td>\n",
       "      <td>120</td>\n",
       "      <td>2.9</td>\n",
       "      <td>2.658720</td>\n",
       "      <td>0.821280</td>\n",
       "      <td>0</td>\n",
       "    </tr>\n",
       "    <tr>\n",
       "      <th>4</th>\n",
       "      <td>24</td>\n",
       "      <td>2</td>\n",
       "      <td>2</td>\n",
       "      <td>0</td>\n",
       "      <td>28</td>\n",
       "      <td>17.3</td>\n",
       "      <td>1.787436</td>\n",
       "      <td>3.056564</td>\n",
       "      <td>1</td>\n",
       "    </tr>\n",
       "    <tr>\n",
       "      <th>...</th>\n",
       "      <td>...</td>\n",
       "      <td>...</td>\n",
       "      <td>...</td>\n",
       "      <td>...</td>\n",
       "      <td>...</td>\n",
       "      <td>...</td>\n",
       "      <td>...</td>\n",
       "      <td>...</td>\n",
       "      <td>...</td>\n",
       "    </tr>\n",
       "    <tr>\n",
       "      <th>695</th>\n",
       "      <td>36</td>\n",
       "      <td>2</td>\n",
       "      <td>6</td>\n",
       "      <td>15</td>\n",
       "      <td>27</td>\n",
       "      <td>4.6</td>\n",
       "      <td>0.262062</td>\n",
       "      <td>0.979938</td>\n",
       "      <td>1</td>\n",
       "    </tr>\n",
       "    <tr>\n",
       "      <th>696</th>\n",
       "      <td>29</td>\n",
       "      <td>2</td>\n",
       "      <td>6</td>\n",
       "      <td>4</td>\n",
       "      <td>21</td>\n",
       "      <td>11.5</td>\n",
       "      <td>0.369495</td>\n",
       "      <td>2.045505</td>\n",
       "      <td>0</td>\n",
       "    </tr>\n",
       "    <tr>\n",
       "      <th>697</th>\n",
       "      <td>33</td>\n",
       "      <td>1</td>\n",
       "      <td>15</td>\n",
       "      <td>3</td>\n",
       "      <td>32</td>\n",
       "      <td>7.6</td>\n",
       "      <td>0.491264</td>\n",
       "      <td>1.940736</td>\n",
       "      <td>0</td>\n",
       "    </tr>\n",
       "    <tr>\n",
       "      <th>698</th>\n",
       "      <td>45</td>\n",
       "      <td>1</td>\n",
       "      <td>19</td>\n",
       "      <td>22</td>\n",
       "      <td>77</td>\n",
       "      <td>8.4</td>\n",
       "      <td>2.302608</td>\n",
       "      <td>4.165392</td>\n",
       "      <td>0</td>\n",
       "    </tr>\n",
       "    <tr>\n",
       "      <th>699</th>\n",
       "      <td>37</td>\n",
       "      <td>1</td>\n",
       "      <td>12</td>\n",
       "      <td>14</td>\n",
       "      <td>44</td>\n",
       "      <td>14.7</td>\n",
       "      <td>2.994684</td>\n",
       "      <td>3.473316</td>\n",
       "      <td>0</td>\n",
       "    </tr>\n",
       "  </tbody>\n",
       "</table>\n",
       "<p>700 rows × 9 columns</p>\n",
       "</div>"
      ],
      "text/plain": [
       "     age  ed  employ  address  income  debtinc   creddebt   othdebt  default\n",
       "0     41   3      17       12     176      9.3  11.359392  5.008608        1\n",
       "1     27   1      10        6      31     17.3   1.362202  4.000798        0\n",
       "2     40   1      15       14      55      5.5   0.856075  2.168925        0\n",
       "3     41   1      15       14     120      2.9   2.658720  0.821280        0\n",
       "4     24   2       2        0      28     17.3   1.787436  3.056564        1\n",
       "..   ...  ..     ...      ...     ...      ...        ...       ...      ...\n",
       "695   36   2       6       15      27      4.6   0.262062  0.979938        1\n",
       "696   29   2       6        4      21     11.5   0.369495  2.045505        0\n",
       "697   33   1      15        3      32      7.6   0.491264  1.940736        0\n",
       "698   45   1      19       22      77      8.4   2.302608  4.165392        0\n",
       "699   37   1      12       14      44     14.7   2.994684  3.473316        0\n",
       "\n",
       "[700 rows x 9 columns]"
      ]
     },
     "execution_count": 3,
     "metadata": {},
     "output_type": "execute_result"
    }
   ],
   "source": [
    "bankloan = pd.read_csv(r'C:\\Users\\user\\Documents\\Data Science\\MODUL 3\\What is Classification_\\bankloan.csv')\n",
    "bankloan"
   ]
  },
  {
   "cell_type": "markdown",
   "id": "53324c93-4da9-437a-80a6-39c6b7f05a64",
   "metadata": {},
   "source": [
    "> ## Data Splitting"
   ]
  },
  {
   "cell_type": "code",
   "execution_count": 4,
   "id": "42fbc715-cc02-47ed-a71e-5af84417ad64",
   "metadata": {},
   "outputs": [],
   "source": [
    "x = bankloan[['employ', 'debtinc', 'creddebt', 'othdebt']]\n",
    "y = bankloan['default']"
   ]
  },
  {
   "cell_type": "code",
   "execution_count": 5,
   "id": "585912de-c07d-40aa-bda6-b8de315424a1",
   "metadata": {},
   "outputs": [],
   "source": [
    "x_trainval, x_test, y_trainval, y_test = train_test_split(x,\n",
    "                                                         y,\n",
    "                                                         stratify = y,\n",
    "                                                         test_size = 0.2,\n",
    "                                                         random_state = 2020)"
   ]
  },
  {
   "cell_type": "markdown",
   "id": "c79f8675-ec93-4b97-b05a-f4087cb4195a",
   "metadata": {},
   "source": [
    "> ## Penalized Logistic Regression"
   ]
  },
  {
   "cell_type": "code",
   "execution_count": 6,
   "id": "fb5d9e31-d28d-4539-a770-19652c829c76",
   "metadata": {},
   "outputs": [],
   "source": [
    "model = LogisticRegression(class_weight = 'balanced')\n",
    "skf = StratifiedKFold(n_splits = 5)\n",
    "model_cv = cross_val_score(model, x_trainval, y_trainval, cv = skf, scoring = 'f1')"
   ]
  },
  {
   "cell_type": "code",
   "execution_count": 14,
   "id": "c6b46d9f-1aaf-451c-b4c5-0454b34cd948",
   "metadata": {},
   "outputs": [
    {
     "name": "stdout",
     "output_type": "stream",
     "text": [
      "[0.63888889 0.58823529 0.61728395 0.58064516 0.60526316]\n",
      "0.6060632905617759\n",
      "0.020822978090423456\n"
     ]
    }
   ],
   "source": [
    "print(model_cv)\n",
    "print(model_cv.mean())\n",
    "print(model_cv.std())"
   ]
  },
  {
   "cell_type": "markdown",
   "id": "960a8113-ef71-4c8a-a429-baa26a84945d",
   "metadata": {},
   "source": [
    "> ## Logistic Regression with SMOTE"
   ]
  },
  {
   "cell_type": "code",
   "execution_count": 8,
   "id": "32984260-d47c-4088-a5e1-d4324a3bd891",
   "metadata": {},
   "outputs": [],
   "source": [
    "smote = SMOTE()\n",
    "model = LogisticRegression()\n",
    "\n",
    "estimator = Pipeline([('balancing',smote),('clf',model)])\n",
    "\n",
    "skf = StratifiedKFold(n_splits = 5) "
   ]
  },
  {
   "cell_type": "code",
   "execution_count": 12,
   "id": "a03efff4-bc1f-4681-ba1a-846532bd99f2",
   "metadata": {},
   "outputs": [],
   "source": [
    "model_smote_cv = cross_val_score(estimator, x_trainval, y_trainval, cv = skf, scoring = 'f1')"
   ]
  },
  {
   "cell_type": "code",
   "execution_count": 15,
   "id": "95d51b32-cc0b-469c-a4a9-4009f91eaa2d",
   "metadata": {},
   "outputs": [
    {
     "name": "stdout",
     "output_type": "stream",
     "text": [
      "[0.65714286 0.61538462 0.625      0.6031746  0.61333333]\n",
      "0.6228070818070818\n",
      "0.01851503979634336\n"
     ]
    }
   ],
   "source": [
    "print(model_smote_cv)\n",
    "print(model_smote_cv.mean())\n",
    "print(model_smote_cv.std())"
   ]
  },
  {
   "cell_type": "markdown",
   "id": "b6661a81-430e-4bb8-ba35-9ae6dae393b2",
   "metadata": {},
   "source": [
    "The better model is the penalized model"
   ]
  },
  {
   "cell_type": "markdown",
   "id": "642a0481-0cc7-4ed6-a4ec-91c029597011",
   "metadata": {},
   "source": [
    "> ## Final Model Performance"
   ]
  },
  {
   "cell_type": "code",
   "execution_count": 17,
   "id": "e42e3294-a7f9-4f1e-b1f3-698eb7b23fe1",
   "metadata": {},
   "outputs": [
    {
     "name": "stdout",
     "output_type": "stream",
     "text": [
      "              precision    recall  f1-score   support\n",
      "\n",
      "           0       0.91      0.71      0.80       103\n",
      "           1       0.50      0.81      0.62        37\n",
      "\n",
      "    accuracy                           0.74       140\n",
      "   macro avg       0.71      0.76      0.71       140\n",
      "weighted avg       0.80      0.74      0.75       140\n",
      "\n"
     ]
    }
   ],
   "source": [
    "smote = SMOTE()\n",
    "model =  LogisticRegression()\n",
    "\n",
    "estimator = Pipeline([('balancing',smote),('clf',model)])\n",
    "\n",
    "estimator.fit(x_trainval,y_trainval)\n",
    "y_pred = estimator.predict(x_test)\n",
    "\n",
    "print(classification_report(y_test,y_pred))"
   ]
  },
  {
   "cell_type": "markdown",
   "id": "078a27f8-febd-4102-b1ae-8b10a59ce1a9",
   "metadata": {},
   "source": [
    "_______\n",
    "# Hyperparameter Tuning\n",
    "Data : bankloan.csv\n",
    "- Build a logistics regression model\n",
    "    - Target : default\n",
    "    - Features : employ, debtinc, creddebt, othdebt\n",
    "- Random state 2020, ratio 80% : 20%\n",
    "- Modeling evaluate by f1 score and use stratified 5-fold CV:\n",
    "- Logistic Regression with SMOTE optimize the k-neighbour, optimize c solver\n",
    "- Compare the result before and after"
   ]
  },
  {
   "cell_type": "markdown",
   "id": "5cbf49f3-54c1-4321-99ab-bf8d3a1b5483",
   "metadata": {},
   "source": [
    "> ## Model"
   ]
  },
  {
   "cell_type": "code",
   "execution_count": 43,
   "id": "5ffffe36-9893-4ebf-bc8b-5a321fb4bf47",
   "metadata": {},
   "outputs": [],
   "source": [
    "# model\n",
    "smote = SMOTE()\n",
    "model = LogisticRegression()\n",
    "\n",
    "estimator = Pipeline([('balancing', smote),('clf', model)])\n",
    "\n",
    "# evaluation method\n",
    "skf = StratifiedKFold(n_splits = 5) \n",
    "\n",
    "# hyperparameter\n",
    "param = {\n",
    "    'balancing__k_neighbors':[2,5,10,15,20],\n",
    "    'clf__C':[100, 10, 1, 0.1, 0.01, 0.001],\n",
    "    'clf__solver':['lbfgs', 'liblinear', 'newton-cg']\n",
    "}\n",
    "\n",
    "# hyperparameter tuning\n",
    "grid_search = GridSearchCV(estimator, param_grid = param, cv = skf, scoring = 'f1', n_jobs = -1)"
   ]
  },
  {
   "cell_type": "code",
   "execution_count": 44,
   "id": "259d52ba-03b0-438c-b7bc-37176153e489",
   "metadata": {},
   "outputs": [
    {
     "data": {
      "text/plain": [
       "GridSearchCV(cv=StratifiedKFold(n_splits=5, random_state=None, shuffle=False),\n",
       "             estimator=Pipeline(steps=[('balancing', SMOTE()),\n",
       "                                       ('clf', LogisticRegression())]),\n",
       "             n_jobs=-1,\n",
       "             param_grid={'balancing__k_neighbors': [2, 5, 10, 15, 20],\n",
       "                         'clf__C': [100, 10, 1, 0.1, 0.01, 0.001],\n",
       "                         'clf__solver': ['lbfgs', 'liblinear', 'newton-cg']},\n",
       "             scoring='f1')"
      ]
     },
     "execution_count": 44,
     "metadata": {},
     "output_type": "execute_result"
    }
   ],
   "source": [
    "grid_search.fit(x_trainval, y_trainval)"
   ]
  },
  {
   "cell_type": "code",
   "execution_count": 33,
   "id": "0b9c5af4-3039-4d0b-9dc7-afcb91dae6ff",
   "metadata": {},
   "outputs": [
    {
     "name": "stdout",
     "output_type": "stream",
     "text": [
      "best score : 0.6186600102406554\n",
      "best param : {'balancing__k_neighbors': 20, 'clf__C': 0.1, 'clf__solver': 'lbfgs'}\n"
     ]
    }
   ],
   "source": [
    "print('best score :', grid_search.best_score_)\n",
    "print('best param :', grid_search.best_params_)"
   ]
  },
  {
   "cell_type": "code",
   "execution_count": 35,
   "id": "b798bebc-77ec-4491-86e5-297feb6e65a2",
   "metadata": {},
   "outputs": [
    {
     "data": {
      "text/html": [
       "<div>\n",
       "<style scoped>\n",
       "    .dataframe tbody tr th:only-of-type {\n",
       "        vertical-align: middle;\n",
       "    }\n",
       "\n",
       "    .dataframe tbody tr th {\n",
       "        vertical-align: top;\n",
       "    }\n",
       "\n",
       "    .dataframe thead th {\n",
       "        text-align: right;\n",
       "    }\n",
       "</style>\n",
       "<table border=\"1\" class=\"dataframe\">\n",
       "  <thead>\n",
       "    <tr style=\"text-align: right;\">\n",
       "      <th></th>\n",
       "      <th>mean_fit_time</th>\n",
       "      <th>std_fit_time</th>\n",
       "      <th>mean_score_time</th>\n",
       "      <th>std_score_time</th>\n",
       "      <th>param_balancing__k_neighbors</th>\n",
       "      <th>param_clf__C</th>\n",
       "      <th>param_clf__solver</th>\n",
       "      <th>params</th>\n",
       "      <th>split0_test_score</th>\n",
       "      <th>split1_test_score</th>\n",
       "      <th>split2_test_score</th>\n",
       "      <th>split3_test_score</th>\n",
       "      <th>split4_test_score</th>\n",
       "      <th>mean_test_score</th>\n",
       "      <th>std_test_score</th>\n",
       "      <th>rank_test_score</th>\n",
       "    </tr>\n",
       "  </thead>\n",
       "  <tbody>\n",
       "    <tr>\n",
       "      <th>81</th>\n",
       "      <td>0.043884</td>\n",
       "      <td>0.025939</td>\n",
       "      <td>0.006382</td>\n",
       "      <td>0.002325</td>\n",
       "      <td>20</td>\n",
       "      <td>0.1</td>\n",
       "      <td>lbfgs</td>\n",
       "      <td>{'balancing__k_neighbors': 20, 'clf__C': 0.1, ...</td>\n",
       "      <td>0.638889</td>\n",
       "      <td>0.603175</td>\n",
       "      <td>0.625</td>\n",
       "      <td>0.612903</td>\n",
       "      <td>0.613333</td>\n",
       "      <td>0.61866</td>\n",
       "      <td>0.012253</td>\n",
       "      <td>1</td>\n",
       "    </tr>\n",
       "  </tbody>\n",
       "</table>\n",
       "</div>"
      ],
      "text/plain": [
       "    mean_fit_time  std_fit_time  mean_score_time  std_score_time  \\\n",
       "81       0.043884      0.025939         0.006382        0.002325   \n",
       "\n",
       "   param_balancing__k_neighbors param_clf__C param_clf__solver  \\\n",
       "81                           20          0.1             lbfgs   \n",
       "\n",
       "                                               params  split0_test_score  \\\n",
       "81  {'balancing__k_neighbors': 20, 'clf__C': 0.1, ...           0.638889   \n",
       "\n",
       "    split1_test_score  split2_test_score  split3_test_score  \\\n",
       "81           0.603175              0.625           0.612903   \n",
       "\n",
       "    split4_test_score  mean_test_score  std_test_score  rank_test_score  \n",
       "81           0.613333          0.61866        0.012253                1  "
      ]
     },
     "execution_count": 35,
     "metadata": {},
     "output_type": "execute_result"
    }
   ],
   "source": [
    "tuning_result = pd.DataFrame(grid_search.cv_results_)\n",
    "\n",
    "tuning_result[tuning_result['rank_test_score'] == 1]"
   ]
  },
  {
   "cell_type": "code",
   "execution_count": 37,
   "id": "92773dfa-3575-4806-9ac7-2d1f0e48ebbd",
   "metadata": {},
   "outputs": [
    {
     "data": {
      "text/html": [
       "<div>\n",
       "<style scoped>\n",
       "    .dataframe tbody tr th:only-of-type {\n",
       "        vertical-align: middle;\n",
       "    }\n",
       "\n",
       "    .dataframe tbody tr th {\n",
       "        vertical-align: top;\n",
       "    }\n",
       "\n",
       "    .dataframe thead th {\n",
       "        text-align: right;\n",
       "    }\n",
       "</style>\n",
       "<table border=\"1\" class=\"dataframe\">\n",
       "  <thead>\n",
       "    <tr style=\"text-align: right;\">\n",
       "      <th></th>\n",
       "      <th>mean_fit_time</th>\n",
       "      <th>std_fit_time</th>\n",
       "      <th>mean_score_time</th>\n",
       "      <th>std_score_time</th>\n",
       "      <th>param_balancing__k_neighbors</th>\n",
       "      <th>param_clf__C</th>\n",
       "      <th>param_clf__solver</th>\n",
       "      <th>params</th>\n",
       "      <th>split0_test_score</th>\n",
       "      <th>split1_test_score</th>\n",
       "      <th>split2_test_score</th>\n",
       "      <th>split3_test_score</th>\n",
       "      <th>split4_test_score</th>\n",
       "      <th>mean_test_score</th>\n",
       "      <th>std_test_score</th>\n",
       "      <th>rank_test_score</th>\n",
       "    </tr>\n",
       "  </thead>\n",
       "  <tbody>\n",
       "    <tr>\n",
       "      <th>42</th>\n",
       "      <td>0.045878</td>\n",
       "      <td>0.023746</td>\n",
       "      <td>0.00758</td>\n",
       "      <td>0.003064</td>\n",
       "      <td>10</td>\n",
       "      <td>1</td>\n",
       "      <td>lbfgs</td>\n",
       "      <td>{'balancing__k_neighbors': 10, 'clf__C': 1, 'c...</td>\n",
       "      <td>0.628571</td>\n",
       "      <td>0.5625</td>\n",
       "      <td>0.6</td>\n",
       "      <td>0.645161</td>\n",
       "      <td>0.605263</td>\n",
       "      <td>0.608299</td>\n",
       "      <td>0.028091</td>\n",
       "      <td>37</td>\n",
       "    </tr>\n",
       "  </tbody>\n",
       "</table>\n",
       "</div>"
      ],
      "text/plain": [
       "    mean_fit_time  std_fit_time  mean_score_time  std_score_time  \\\n",
       "42       0.045878      0.023746          0.00758        0.003064   \n",
       "\n",
       "   param_balancing__k_neighbors param_clf__C param_clf__solver  \\\n",
       "42                           10            1             lbfgs   \n",
       "\n",
       "                                               params  split0_test_score  \\\n",
       "42  {'balancing__k_neighbors': 10, 'clf__C': 1, 'c...           0.628571   \n",
       "\n",
       "    split1_test_score  split2_test_score  split3_test_score  \\\n",
       "42             0.5625                0.6           0.645161   \n",
       "\n",
       "    split4_test_score  mean_test_score  std_test_score  rank_test_score  \n",
       "42           0.605263         0.608299        0.028091               37  "
      ]
     },
     "execution_count": 37,
     "metadata": {},
     "output_type": "execute_result"
    }
   ],
   "source": [
    "tuning_result[(tuning_result['param_balancing__k_neighbors'] == 10) & (tuning_result['param_clf__C'] == 1) & (tuning_result['param_clf__solver'] == 'lbfgs')]"
   ]
  },
  {
   "cell_type": "markdown",
   "id": "cf616bd5-822e-4ba6-93be-fc200dba007e",
   "metadata": {},
   "source": [
    "> ## Comparison (Before & After)"
   ]
  },
  {
   "cell_type": "code",
   "execution_count": 38,
   "id": "8ccabf03-9dd2-470c-a5e9-fa122ebab5d3",
   "metadata": {},
   "outputs": [],
   "source": [
    "smote = SMOTE()\n",
    "model = LogisticRegression()\n",
    "\n",
    "estimator = Pipeline([('balancing', smote),('clf', model)])"
   ]
  },
  {
   "cell_type": "code",
   "execution_count": 41,
   "id": "5c6337d6-a3eb-45cf-bca9-78d91a02eb2e",
   "metadata": {},
   "outputs": [
    {
     "name": "stdout",
     "output_type": "stream",
     "text": [
      "              precision    recall  f1-score   support\n",
      "\n",
      "           0       0.90      0.70      0.79       103\n",
      "           1       0.48      0.78      0.60        37\n",
      "\n",
      "    accuracy                           0.72       140\n",
      "   macro avg       0.69      0.74      0.69       140\n",
      "weighted avg       0.79      0.72      0.74       140\n",
      "\n"
     ]
    }
   ],
   "source": [
    "estimator.fit(x_trainval, y_trainval)\n",
    "y_pred = estimator.predict(x_test)\n",
    "print(classification_report(y_test, y_pred))"
   ]
  },
  {
   "cell_type": "code",
   "execution_count": 42,
   "id": "9cdb689f-56ec-4418-aea2-b5e581d0949c",
   "metadata": {},
   "outputs": [
    {
     "name": "stdout",
     "output_type": "stream",
     "text": [
      "              precision    recall  f1-score   support\n",
      "\n",
      "           0       0.95      0.71      0.81       103\n",
      "           1       0.52      0.89      0.66        37\n",
      "\n",
      "    accuracy                           0.76       140\n",
      "   macro avg       0.74      0.80      0.74       140\n",
      "weighted avg       0.84      0.76      0.77       140\n",
      "\n"
     ]
    }
   ],
   "source": [
    "estimator = grid_search.best_estimator_\n",
    "\n",
    "estimator.fit(x_trainval, y_trainval)\n",
    "y_pred = estimator.predict(x_test)\n",
    "print(classification_report(y_test, y_pred))"
   ]
  }
 ],
 "metadata": {
  "kernelspec": {
   "display_name": "Python 3",
   "language": "python",
   "name": "python3"
  },
  "language_info": {
   "codemirror_mode": {
    "name": "ipython",
    "version": 3
   },
   "file_extension": ".py",
   "mimetype": "text/x-python",
   "name": "python",
   "nbconvert_exporter": "python",
   "pygments_lexer": "ipython3",
   "version": "3.7.3"
  }
 },
 "nbformat": 4,
 "nbformat_minor": 5
}
