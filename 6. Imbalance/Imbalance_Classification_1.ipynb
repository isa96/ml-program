{
 "cells": [
  {
   "cell_type": "markdown",
   "id": "c523987d-2228-41f8-93db-9716d1ea78eb",
   "metadata": {},
   "source": [
    "# Resampling and Penalized Model\n",
    "Data : bankloan.csv\n",
    "- Build a logistic regression model\n",
    "    - Target : default\n",
    "    - Features : employ, debtinc, creddebt, othdebt\n",
    "- Explore the class distribution\n",
    "- Random state 2020, stratified training 60%, validation 20%, testing 20%\n",
    "- Modeling evaluate by f1 score\n",
    "    - Logistic regression without any treatment\n",
    "    - Logistic regression that optimized by the threshold\n",
    "    - Logistic regression with random undersampling\n",
    "    - Penalized logistic regression\n"
   ]
  },
  {
   "cell_type": "markdown",
   "id": "9e6f2378-e0df-47ec-81ec-701fcd5c009c",
   "metadata": {},
   "source": [
    "> ## Library and Data"
   ]
  },
  {
   "cell_type": "code",
   "execution_count": 1,
   "id": "53efdeed-a2dd-4d2b-850e-45cd2af1c8b1",
   "metadata": {},
   "outputs": [
    {
     "name": "stdout",
     "output_type": "stream",
     "text": [
      "Collecting imblearn\n",
      "  Downloading imblearn-0.0-py2.py3-none-any.whl (1.9 kB)\n",
      "Collecting imbalanced-learn\n",
      "  Downloading imbalanced_learn-0.8.0-py3-none-any.whl (206 kB)\n",
      "Requirement already satisfied: numpy>=1.13.3 in c:\\users\\user\\anaconda3\\lib\\site-packages (from imbalanced-learn->imblearn) (1.20.2)\n",
      "Requirement already satisfied: scipy>=0.19.1 in c:\\users\\user\\anaconda3\\lib\\site-packages (from imbalanced-learn->imblearn) (1.6.2)\n",
      "Requirement already satisfied: scikit-learn>=0.24 in c:\\users\\user\\anaconda3\\lib\\site-packages (from imbalanced-learn->imblearn) (0.24.2)\n",
      "Requirement already satisfied: joblib>=0.11 in c:\\users\\user\\anaconda3\\lib\\site-packages (from imbalanced-learn->imblearn) (1.0.1)\n",
      "Requirement already satisfied: threadpoolctl>=2.0.0 in c:\\users\\user\\anaconda3\\lib\\site-packages (from scikit-learn>=0.24->imbalanced-learn->imblearn) (2.1.0)\n",
      "Installing collected packages: imbalanced-learn, imblearn\n",
      "Successfully installed imbalanced-learn-0.8.0 imblearn-0.0\n"
     ]
    }
   ],
   "source": [
    "!pip install imblearn"
   ]
  },
  {
   "cell_type": "code",
   "execution_count": 4,
   "id": "1cced087-06b2-4659-bce3-428996b5bc72",
   "metadata": {},
   "outputs": [],
   "source": [
    "import pandas as pd\n",
    "import numpy as np\n",
    "\n",
    "import seaborn as sns\n",
    "import matplotlib.pyplot as plt\n",
    "\n",
    "from sklearn.model_selection import train_test_split\n",
    "from imblearn.over_sampling import RandomOverSampler, SMOTE\n",
    "from imblearn.under_sampling import RandomUnderSampler, NearMiss\n",
    "\n",
    "from sklearn.linear_model import LogisticRegression\n",
    "\n",
    "from sklearn.metrics import plot_roc_curve\n",
    "from sklearn.metrics import classification_report, f1_score\n",
    "\n",
    "import warnings\n",
    "warnings.filterwarnings('ignore')"
   ]
  },
  {
   "cell_type": "code",
   "execution_count": 6,
   "id": "6959e045-5a79-4977-bc7a-0f84ae1ce373",
   "metadata": {},
   "outputs": [
    {
     "data": {
      "text/html": [
       "<div>\n",
       "<style scoped>\n",
       "    .dataframe tbody tr th:only-of-type {\n",
       "        vertical-align: middle;\n",
       "    }\n",
       "\n",
       "    .dataframe tbody tr th {\n",
       "        vertical-align: top;\n",
       "    }\n",
       "\n",
       "    .dataframe thead th {\n",
       "        text-align: right;\n",
       "    }\n",
       "</style>\n",
       "<table border=\"1\" class=\"dataframe\">\n",
       "  <thead>\n",
       "    <tr style=\"text-align: right;\">\n",
       "      <th></th>\n",
       "      <th>age</th>\n",
       "      <th>ed</th>\n",
       "      <th>employ</th>\n",
       "      <th>address</th>\n",
       "      <th>income</th>\n",
       "      <th>debtinc</th>\n",
       "      <th>creddebt</th>\n",
       "      <th>othdebt</th>\n",
       "      <th>default</th>\n",
       "    </tr>\n",
       "  </thead>\n",
       "  <tbody>\n",
       "    <tr>\n",
       "      <th>0</th>\n",
       "      <td>41</td>\n",
       "      <td>3</td>\n",
       "      <td>17</td>\n",
       "      <td>12</td>\n",
       "      <td>176</td>\n",
       "      <td>9.3</td>\n",
       "      <td>11.359392</td>\n",
       "      <td>5.008608</td>\n",
       "      <td>1</td>\n",
       "    </tr>\n",
       "    <tr>\n",
       "      <th>1</th>\n",
       "      <td>27</td>\n",
       "      <td>1</td>\n",
       "      <td>10</td>\n",
       "      <td>6</td>\n",
       "      <td>31</td>\n",
       "      <td>17.3</td>\n",
       "      <td>1.362202</td>\n",
       "      <td>4.000798</td>\n",
       "      <td>0</td>\n",
       "    </tr>\n",
       "    <tr>\n",
       "      <th>2</th>\n",
       "      <td>40</td>\n",
       "      <td>1</td>\n",
       "      <td>15</td>\n",
       "      <td>14</td>\n",
       "      <td>55</td>\n",
       "      <td>5.5</td>\n",
       "      <td>0.856075</td>\n",
       "      <td>2.168925</td>\n",
       "      <td>0</td>\n",
       "    </tr>\n",
       "    <tr>\n",
       "      <th>3</th>\n",
       "      <td>41</td>\n",
       "      <td>1</td>\n",
       "      <td>15</td>\n",
       "      <td>14</td>\n",
       "      <td>120</td>\n",
       "      <td>2.9</td>\n",
       "      <td>2.658720</td>\n",
       "      <td>0.821280</td>\n",
       "      <td>0</td>\n",
       "    </tr>\n",
       "    <tr>\n",
       "      <th>4</th>\n",
       "      <td>24</td>\n",
       "      <td>2</td>\n",
       "      <td>2</td>\n",
       "      <td>0</td>\n",
       "      <td>28</td>\n",
       "      <td>17.3</td>\n",
       "      <td>1.787436</td>\n",
       "      <td>3.056564</td>\n",
       "      <td>1</td>\n",
       "    </tr>\n",
       "    <tr>\n",
       "      <th>...</th>\n",
       "      <td>...</td>\n",
       "      <td>...</td>\n",
       "      <td>...</td>\n",
       "      <td>...</td>\n",
       "      <td>...</td>\n",
       "      <td>...</td>\n",
       "      <td>...</td>\n",
       "      <td>...</td>\n",
       "      <td>...</td>\n",
       "    </tr>\n",
       "    <tr>\n",
       "      <th>695</th>\n",
       "      <td>36</td>\n",
       "      <td>2</td>\n",
       "      <td>6</td>\n",
       "      <td>15</td>\n",
       "      <td>27</td>\n",
       "      <td>4.6</td>\n",
       "      <td>0.262062</td>\n",
       "      <td>0.979938</td>\n",
       "      <td>1</td>\n",
       "    </tr>\n",
       "    <tr>\n",
       "      <th>696</th>\n",
       "      <td>29</td>\n",
       "      <td>2</td>\n",
       "      <td>6</td>\n",
       "      <td>4</td>\n",
       "      <td>21</td>\n",
       "      <td>11.5</td>\n",
       "      <td>0.369495</td>\n",
       "      <td>2.045505</td>\n",
       "      <td>0</td>\n",
       "    </tr>\n",
       "    <tr>\n",
       "      <th>697</th>\n",
       "      <td>33</td>\n",
       "      <td>1</td>\n",
       "      <td>15</td>\n",
       "      <td>3</td>\n",
       "      <td>32</td>\n",
       "      <td>7.6</td>\n",
       "      <td>0.491264</td>\n",
       "      <td>1.940736</td>\n",
       "      <td>0</td>\n",
       "    </tr>\n",
       "    <tr>\n",
       "      <th>698</th>\n",
       "      <td>45</td>\n",
       "      <td>1</td>\n",
       "      <td>19</td>\n",
       "      <td>22</td>\n",
       "      <td>77</td>\n",
       "      <td>8.4</td>\n",
       "      <td>2.302608</td>\n",
       "      <td>4.165392</td>\n",
       "      <td>0</td>\n",
       "    </tr>\n",
       "    <tr>\n",
       "      <th>699</th>\n",
       "      <td>37</td>\n",
       "      <td>1</td>\n",
       "      <td>12</td>\n",
       "      <td>14</td>\n",
       "      <td>44</td>\n",
       "      <td>14.7</td>\n",
       "      <td>2.994684</td>\n",
       "      <td>3.473316</td>\n",
       "      <td>0</td>\n",
       "    </tr>\n",
       "  </tbody>\n",
       "</table>\n",
       "<p>700 rows × 9 columns</p>\n",
       "</div>"
      ],
      "text/plain": [
       "     age  ed  employ  address  income  debtinc   creddebt   othdebt  default\n",
       "0     41   3      17       12     176      9.3  11.359392  5.008608        1\n",
       "1     27   1      10        6      31     17.3   1.362202  4.000798        0\n",
       "2     40   1      15       14      55      5.5   0.856075  2.168925        0\n",
       "3     41   1      15       14     120      2.9   2.658720  0.821280        0\n",
       "4     24   2       2        0      28     17.3   1.787436  3.056564        1\n",
       "..   ...  ..     ...      ...     ...      ...        ...       ...      ...\n",
       "695   36   2       6       15      27      4.6   0.262062  0.979938        1\n",
       "696   29   2       6        4      21     11.5   0.369495  2.045505        0\n",
       "697   33   1      15        3      32      7.6   0.491264  1.940736        0\n",
       "698   45   1      19       22      77      8.4   2.302608  4.165392        0\n",
       "699   37   1      12       14      44     14.7   2.994684  3.473316        0\n",
       "\n",
       "[700 rows x 9 columns]"
      ]
     },
     "execution_count": 6,
     "metadata": {},
     "output_type": "execute_result"
    }
   ],
   "source": [
    "bankloan = pd.read_csv(r'C:\\Users\\user\\Documents\\Data Science\\MODUL 3\\What is Classification_\\bankloan.csv')\n",
    "bankloan"
   ]
  },
  {
   "cell_type": "code",
   "execution_count": 8,
   "id": "0171f86b-9e16-47b8-a3ab-8efa697e2a07",
   "metadata": {},
   "outputs": [
    {
     "data": {
      "text/plain": [
       "0    0.738571\n",
       "1    0.261429\n",
       "Name: default, dtype: float64"
      ]
     },
     "execution_count": 8,
     "metadata": {},
     "output_type": "execute_result"
    }
   ],
   "source": [
    "bankloan['default'].value_counts()/bankloan.shape[0]"
   ]
  },
  {
   "cell_type": "markdown",
   "id": "3b67a45d-9bae-4ccb-8482-3b2965a8d4d3",
   "metadata": {},
   "source": [
    "> ## Data Splitting\n",
    "60 train, 20 validation, 20 test"
   ]
  },
  {
   "cell_type": "code",
   "execution_count": 9,
   "id": "106ac345-c941-4836-b8a0-2aa2a9f45bf2",
   "metadata": {},
   "outputs": [],
   "source": [
    "x = bankloan[['employ', 'debtinc', 'creddebt', 'othdebt']]\n",
    "y = bankloan['default']"
   ]
  },
  {
   "cell_type": "code",
   "execution_count": 12,
   "id": "447d4245-afa1-4ac9-8eda-48af318e52c5",
   "metadata": {},
   "outputs": [],
   "source": [
    "x_trainval, x_test, y_trainval, y_test = train_test_split(x,\n",
    "                                                         y,\n",
    "                                                         stratify = y,\n",
    "                                                         test_size = 140,\n",
    "                                                         random_state = 2020)"
   ]
  },
  {
   "cell_type": "code",
   "execution_count": 13,
   "id": "90ee170b-1b55-4731-8903-a98b8d7d5522",
   "metadata": {},
   "outputs": [],
   "source": [
    "x_train, x_val, y_train, y_val = train_test_split(x_trainval,\n",
    "                                                  y_trainval,\n",
    "                                                  stratify = y_trainval,\n",
    "                                                  test_size = 140,\n",
    "                                                  random_state = 2020)"
   ]
  },
  {
   "cell_type": "markdown",
   "id": "9a2669af-52fe-4d12-be5b-bf77d3d57930",
   "metadata": {},
   "source": [
    "1. Logistic \n",
    "2. Logistic optimize threshold\n",
    "3. Logistic with random undersampling\n",
    "4. Penalized logistic"
   ]
  },
  {
   "cell_type": "markdown",
   "id": "aaf67060-e5fd-4734-85b7-6583d7925b0a",
   "metadata": {},
   "source": [
    "> ## Logistic"
   ]
  },
  {
   "cell_type": "code",
   "execution_count": 14,
   "id": "f7124d90-c37f-449e-b45b-48c0ee7e467f",
   "metadata": {},
   "outputs": [
    {
     "data": {
      "text/plain": [
       "LogisticRegression()"
      ]
     },
     "execution_count": 14,
     "metadata": {},
     "output_type": "execute_result"
    }
   ],
   "source": [
    "model = LogisticRegression()\n",
    "model.fit(x_train, y_train)"
   ]
  },
  {
   "cell_type": "code",
   "execution_count": 15,
   "id": "0410eb7b-764c-49a0-8e24-e0c05fe805c7",
   "metadata": {},
   "outputs": [
    {
     "name": "stdout",
     "output_type": "stream",
     "text": [
      "              precision    recall  f1-score   support\n",
      "\n",
      "           0       0.84      0.91      0.88       104\n",
      "           1       0.67      0.50      0.57        36\n",
      "\n",
      "    accuracy                           0.81       140\n",
      "   macro avg       0.75      0.71      0.72       140\n",
      "weighted avg       0.80      0.81      0.80       140\n",
      "\n"
     ]
    }
   ],
   "source": [
    "y_pred = model.predict(x_val)\n",
    "print(classification_report(y_val, y_pred)) # threshold = 0.5"
   ]
  },
  {
   "cell_type": "code",
   "execution_count": 16,
   "id": "54ce470c-50df-405d-b0a8-a2b77102fe83",
   "metadata": {},
   "outputs": [
    {
     "data": {
      "text/plain": [
       "<sklearn.metrics._plot.roc_curve.RocCurveDisplay at 0x286a239c470>"
      ]
     },
     "execution_count": 16,
     "metadata": {},
     "output_type": "execute_result"
    },
    {
     "data": {
      "image/png": "[encoded data removed]",
      "text/plain": [
       "<Figure size 432x288 with 1 Axes>"
      ]
     },
     "metadata": {
      "needs_background": "light"
     },
     "output_type": "display_data"
    }
   ],
   "source": [
    "plot_roc_curve(model, x_val, y_val)"
   ]
  },
  {
   "cell_type": "markdown",
   "id": "b18268c6-9c90-4fbc-a28f-483ad1161aba",
   "metadata": {},
   "source": [
    "> ## Logistic optimize threshold"
   ]
  },
  {
   "cell_type": "code",
   "execution_count": 19,
   "id": "3cee9947-7bdc-48bd-82a5-f99c082a7dfd",
   "metadata": {},
   "outputs": [],
   "source": [
    "th_value = [i/100 for i in range(20, 61)]\n",
    "score = 0 \n",
    "score_list = []\n",
    "\n",
    "for i in th_value:\n",
    "    # score calculation\n",
    "    y_prob = model.predict_proba(x_val)[:, 1]\n",
    "    y_pred = np.where(y_prob > i, 1, 0)\n",
    "    score_temp = f1_score(y_val, y_pred)\n",
    "    \n",
    "    # score result\n",
    "    score_list.append(score_temp)\n",
    "    \n",
    "    # choose best score\n",
    "    if score_temp > score:\n",
    "        score = score_temp\n",
    "        best_th = i"
   ]
  },
  {
   "cell_type": "code",
   "execution_count": 22,
   "id": "ac319963-939b-458a-866f-329ed5670e66",
   "metadata": {},
   "outputs": [
    {
     "name": "stdout",
     "output_type": "stream",
     "text": [
      "best f1 score : 0.64\n",
      "best threshold :  0.4\n"
     ]
    }
   ],
   "source": [
    "print('best f1 score :', score)\n",
    "print('best threshold : ', best_th)"
   ]
  },
  {
   "cell_type": "code",
   "execution_count": 25,
   "id": "69d1bb40-394e-4d29-9967-d2e9b3b9aec3",
   "metadata": {},
   "outputs": [
    {
     "data": {
      "image/png": "[encoded data removed]",
      "text/plain": [
       "<Figure size 720x360 with 1 Axes>"
      ]
     },
     "metadata": {
      "needs_background": "light"
     },
     "output_type": "display_data"
    }
   ],
   "source": [
    "plt.figure(figsize = (10, 5))\n",
    "sns.lineplot(th_value, score_list)\n",
    "plt.xlabel('threshold')\n",
    "plt.ylabel('score')\n",
    "plt.show()"
   ]
  },
  {
   "cell_type": "markdown",
   "id": "e6304225-69a1-423c-b860-1b2fade27d08",
   "metadata": {},
   "source": [
    "> ## Logistic with Random Undersampling"
   ]
  },
  {
   "cell_type": "code",
   "execution_count": 26,
   "id": "dc3a532f-573e-41a3-bac2-046bcd4205ab",
   "metadata": {},
   "outputs": [],
   "source": [
    "rus = RandomUnderSampler()\n",
    "x_under, y_under = rus.fit_resample(x_train, y_train)"
   ]
  },
  {
   "cell_type": "code",
   "execution_count": 29,
   "id": "28bad7d2-7158-4f15-ad9b-8525c67a1ff7",
   "metadata": {},
   "outputs": [
    {
     "data": {
      "text/plain": [
       "220"
      ]
     },
     "execution_count": 29,
     "metadata": {},
     "output_type": "execute_result"
    }
   ],
   "source": [
    "len(x_under)"
   ]
  },
  {
   "cell_type": "code",
   "execution_count": 30,
   "id": "82bcf28b-4ac6-463b-b990-7889e8f5bf0f",
   "metadata": {},
   "outputs": [
    {
     "data": {
      "text/plain": [
       "420"
      ]
     },
     "execution_count": 30,
     "metadata": {},
     "output_type": "execute_result"
    }
   ],
   "source": [
    "len(x_train)"
   ]
  },
  {
   "cell_type": "code",
   "execution_count": 31,
   "id": "0b5688bc-3bb2-4697-b026-6445212fed5c",
   "metadata": {},
   "outputs": [
    {
     "data": {
      "text/plain": [
       "LogisticRegression()"
      ]
     },
     "execution_count": 31,
     "metadata": {},
     "output_type": "execute_result"
    }
   ],
   "source": [
    "model_rus = LogisticRegression()\n",
    "model_rus.fit(x_under, y_under)"
   ]
  },
  {
   "cell_type": "code",
   "execution_count": 32,
   "id": "e3e118ba-8826-4c35-9c9f-7189fff078a7",
   "metadata": {},
   "outputs": [
    {
     "name": "stdout",
     "output_type": "stream",
     "text": [
      "              precision    recall  f1-score   support\n",
      "\n",
      "           0       0.91      0.71      0.80       104\n",
      "           1       0.49      0.81      0.61        36\n",
      "\n",
      "    accuracy                           0.74       140\n",
      "   macro avg       0.70      0.76      0.71       140\n",
      "weighted avg       0.81      0.74      0.75       140\n",
      "\n"
     ]
    }
   ],
   "source": [
    "y_pred = model_rus.predict(x_val)\n",
    "print(classification_report(y_val, y_pred))"
   ]
  },
  {
   "cell_type": "code",
   "execution_count": 33,
   "id": "506fc0b9-2f40-49c7-8730-30d1d7b94e22",
   "metadata": {},
   "outputs": [
    {
     "data": {
      "text/plain": [
       "<sklearn.metrics._plot.roc_curve.RocCurveDisplay at 0x286a30a5240>"
      ]
     },
     "execution_count": 33,
     "metadata": {},
     "output_type": "execute_result"
    },
    {
     "data": {
      "image/png": "[encoded data removed]",
      "text/plain": [
       "<Figure size 432x288 with 1 Axes>"
      ]
     },
     "metadata": {
      "needs_background": "light"
     },
     "output_type": "display_data"
    }
   ],
   "source": [
    "plot_roc_curve(model_rus, x_val, y_val)"
   ]
  },
  {
   "cell_type": "markdown",
   "id": "bf263cda-fac9-4d44-8db6-49abc74a1fbe",
   "metadata": {},
   "source": [
    "> ## Penalized Logistic Regression"
   ]
  },
  {
   "cell_type": "code",
   "execution_count": 34,
   "id": "5ede3f14-2a29-4dbc-9497-a9d31029af7a",
   "metadata": {},
   "outputs": [
    {
     "data": {
      "text/plain": [
       "LogisticRegression(class_weight='balanced')"
      ]
     },
     "execution_count": 34,
     "metadata": {},
     "output_type": "execute_result"
    }
   ],
   "source": [
    "model_balanced = LogisticRegression(class_weight = 'balanced')\n",
    "model_balanced.fit(x_train, y_train)"
   ]
  },
  {
   "cell_type": "code",
   "execution_count": 35,
   "id": "896415cb-1e17-41ba-8f4b-42514245b84b",
   "metadata": {},
   "outputs": [
    {
     "name": "stdout",
     "output_type": "stream",
     "text": [
      "              precision    recall  f1-score   support\n",
      "\n",
      "           0       0.91      0.69      0.79       104\n",
      "           1       0.48      0.81      0.60        36\n",
      "\n",
      "    accuracy                           0.72       140\n",
      "   macro avg       0.69      0.75      0.69       140\n",
      "weighted avg       0.80      0.72      0.74       140\n",
      "\n"
     ]
    }
   ],
   "source": [
    "y_pred = model_balanced.predict(x_val)\n",
    "print(classification_report(y_val, y_pred))"
   ]
  },
  {
   "cell_type": "markdown",
   "id": "46120922-5536-41c4-a782-8f890a6d0829",
   "metadata": {},
   "source": [
    "> ## Final Model Performance : Logistic optimiezed threshold"
   ]
  },
  {
   "cell_type": "code",
   "execution_count": 37,
   "id": "7154e70a-b12a-47ee-bce9-e1800dad9c4d",
   "metadata": {},
   "outputs": [
    {
     "data": {
      "text/plain": [
       "LogisticRegression()"
      ]
     },
     "execution_count": 37,
     "metadata": {},
     "output_type": "execute_result"
    }
   ],
   "source": [
    "model = LogisticRegression()\n",
    "model.fit(x_trainval, y_trainval)"
   ]
  },
  {
   "cell_type": "code",
   "execution_count": 39,
   "id": "e8069f37-568c-41d6-8f90-f3f19ef10593",
   "metadata": {},
   "outputs": [
    {
     "name": "stdout",
     "output_type": "stream",
     "text": [
      "              precision    recall  f1-score   support\n",
      "\n",
      "           0       0.83      0.83      0.83       103\n",
      "           1       0.54      0.54      0.54        37\n",
      "\n",
      "    accuracy                           0.76       140\n",
      "   macro avg       0.69      0.69      0.69       140\n",
      "weighted avg       0.76      0.76      0.76       140\n",
      "\n"
     ]
    }
   ],
   "source": [
    "y_prob = model.predict_proba(x_test)[:, 1]\n",
    "y_pred = np.where(y_prob > best_th, 1, 0)\n",
    "print(classification_report(y_test, y_pred))"
   ]
  },
  {
   "cell_type": "code",
   "execution_count": null,
   "id": "db146f1b-97e6-446f-95c6-b881aa31b34c",
   "metadata": {},
   "outputs": [],
   "source": []
  }
 ],
 "metadata": {
  "kernelspec": {
   "display_name": "Python 3",
   "language": "python",
   "name": "python3"
  },
  "language_info": {
   "codemirror_mode": {
    "name": "ipython",
    "version": 3
   },
   "file_extension": ".py",
   "mimetype": "text/x-python",
   "name": "python",
   "nbconvert_exporter": "python",
   "pygments_lexer": "ipython3",
   "version": "3.7.3"
  }
 },
 "nbformat": 4,
 "nbformat_minor": 5
}
