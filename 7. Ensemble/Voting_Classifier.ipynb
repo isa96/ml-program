{
 "cells": [
  {
   "cell_type": "markdown",
   "id": "3a4c671a-5f2b-44f6-8e77-97af9249820e",
   "metadata": {},
   "source": [
    "# Voting Classifier\n",
    "Data : white_wine.csv\n",
    "- Apply Voting Classifier\n",
    "    - Target : quality (quality > 6 -> Y = 1)\n",
    "    - Features : density alcohol\n",
    "- Validate the model using precision, recall, and f1 score in 20% testing data\n",
    "- Apply soft voting classifier method, using these following method:\n",
    "    - Logistic Regression\n",
    "    - Decision Tree : max depth 5\n",
    "    - KNN : nearest neighbor 3\n",
    "- Apply soft voting classifier method, using these following method:\n",
    "    - 3rd degree polynomial fetaures + logistic regression\n",
    "    - Decision Tree: max depth 5\n",
    "    - Standard scaler + KNN : nearest neighbor 3"
   ]
  },
  {
   "cell_type": "markdown",
   "id": "67972dd3-85e4-4f4b-9d84-5652be719c80",
   "metadata": {},
   "source": [
    "> ## Library and Data"
   ]
  },
  {
   "cell_type": "code",
   "execution_count": 1,
   "id": "648ebf4b-cf78-4786-bb4b-099d1622cb27",
   "metadata": {},
   "outputs": [],
   "source": [
    "import numpy as np\n",
    "import pandas as pd\n",
    "\n",
    "import matplotlib.pyplot as plt\n",
    "import seaborn as sns\n",
    "\n",
    "from sklearn.model_selection import train_test_split\n",
    "\n",
    "from sklearn.preprocessing import StandardScaler, PolynomialFeatures\n",
    "from sklearn.pipeline import Pipeline\n",
    "\n",
    "from sklearn.linear_model import LogisticRegression\n",
    "from sklearn.ensemble import VotingClassifier\n",
    "from sklearn.tree import DecisionTreeClassifier\n",
    "from sklearn.neighbors import KNeighborsClassifier\n",
    "\n",
    "from sklearn.metrics import classification_report"
   ]
  },
  {
   "cell_type": "code",
   "execution_count": 2,
   "id": "81cca1a7-d014-4748-9233-671859d73baa",
   "metadata": {},
   "outputs": [
    {
     "data": {
      "text/html": [
       "<div>\n",
       "<style scoped>\n",
       "    .dataframe tbody tr th:only-of-type {\n",
       "        vertical-align: middle;\n",
       "    }\n",
       "\n",
       "    .dataframe tbody tr th {\n",
       "        vertical-align: top;\n",
       "    }\n",
       "\n",
       "    .dataframe thead th {\n",
       "        text-align: right;\n",
       "    }\n",
       "</style>\n",
       "<table border=\"1\" class=\"dataframe\">\n",
       "  <thead>\n",
       "    <tr style=\"text-align: right;\">\n",
       "      <th></th>\n",
       "      <th>fixed acidity</th>\n",
       "      <th>volatile acidity</th>\n",
       "      <th>citric acid</th>\n",
       "      <th>residual sugar</th>\n",
       "      <th>chlorides</th>\n",
       "      <th>free sulfur dioxide</th>\n",
       "      <th>total sulfur dioxide</th>\n",
       "      <th>density</th>\n",
       "      <th>pH</th>\n",
       "      <th>sulphates</th>\n",
       "      <th>alcohol</th>\n",
       "      <th>quality</th>\n",
       "    </tr>\n",
       "  </thead>\n",
       "  <tbody>\n",
       "    <tr>\n",
       "      <th>0</th>\n",
       "      <td>7.0</td>\n",
       "      <td>0.27</td>\n",
       "      <td>0.36</td>\n",
       "      <td>20.7</td>\n",
       "      <td>0.045</td>\n",
       "      <td>45.0</td>\n",
       "      <td>170.0</td>\n",
       "      <td>1.0010</td>\n",
       "      <td>3.00</td>\n",
       "      <td>0.45</td>\n",
       "      <td>8.8</td>\n",
       "      <td>6.0</td>\n",
       "    </tr>\n",
       "    <tr>\n",
       "      <th>1</th>\n",
       "      <td>6.3</td>\n",
       "      <td>0.30</td>\n",
       "      <td>0.34</td>\n",
       "      <td>1.6</td>\n",
       "      <td>0.049</td>\n",
       "      <td>14.0</td>\n",
       "      <td>132.0</td>\n",
       "      <td>0.9940</td>\n",
       "      <td>3.30</td>\n",
       "      <td>0.49</td>\n",
       "      <td>9.5</td>\n",
       "      <td>6.0</td>\n",
       "    </tr>\n",
       "    <tr>\n",
       "      <th>2</th>\n",
       "      <td>8.1</td>\n",
       "      <td>0.28</td>\n",
       "      <td>0.40</td>\n",
       "      <td>6.9</td>\n",
       "      <td>0.050</td>\n",
       "      <td>30.0</td>\n",
       "      <td>97.0</td>\n",
       "      <td>0.9951</td>\n",
       "      <td>3.26</td>\n",
       "      <td>0.44</td>\n",
       "      <td>10.1</td>\n",
       "      <td>6.0</td>\n",
       "    </tr>\n",
       "    <tr>\n",
       "      <th>3</th>\n",
       "      <td>7.2</td>\n",
       "      <td>0.23</td>\n",
       "      <td>0.32</td>\n",
       "      <td>8.5</td>\n",
       "      <td>0.058</td>\n",
       "      <td>47.0</td>\n",
       "      <td>186.0</td>\n",
       "      <td>0.9956</td>\n",
       "      <td>3.19</td>\n",
       "      <td>0.40</td>\n",
       "      <td>9.9</td>\n",
       "      <td>6.0</td>\n",
       "    </tr>\n",
       "    <tr>\n",
       "      <th>4</th>\n",
       "      <td>7.2</td>\n",
       "      <td>0.23</td>\n",
       "      <td>0.32</td>\n",
       "      <td>8.5</td>\n",
       "      <td>0.058</td>\n",
       "      <td>47.0</td>\n",
       "      <td>186.0</td>\n",
       "      <td>0.9956</td>\n",
       "      <td>3.19</td>\n",
       "      <td>0.40</td>\n",
       "      <td>9.9</td>\n",
       "      <td>6.0</td>\n",
       "    </tr>\n",
       "    <tr>\n",
       "      <th>...</th>\n",
       "      <td>...</td>\n",
       "      <td>...</td>\n",
       "      <td>...</td>\n",
       "      <td>...</td>\n",
       "      <td>...</td>\n",
       "      <td>...</td>\n",
       "      <td>...</td>\n",
       "      <td>...</td>\n",
       "      <td>...</td>\n",
       "      <td>...</td>\n",
       "      <td>...</td>\n",
       "      <td>...</td>\n",
       "    </tr>\n",
       "    <tr>\n",
       "      <th>515</th>\n",
       "      <td>6.1</td>\n",
       "      <td>0.31</td>\n",
       "      <td>0.26</td>\n",
       "      <td>2.2</td>\n",
       "      <td>0.051</td>\n",
       "      <td>28.0</td>\n",
       "      <td>167.0</td>\n",
       "      <td>0.9926</td>\n",
       "      <td>3.37</td>\n",
       "      <td>0.47</td>\n",
       "      <td>10.4</td>\n",
       "      <td>6.0</td>\n",
       "    </tr>\n",
       "    <tr>\n",
       "      <th>516</th>\n",
       "      <td>6.8</td>\n",
       "      <td>0.18</td>\n",
       "      <td>0.37</td>\n",
       "      <td>1.6</td>\n",
       "      <td>0.055</td>\n",
       "      <td>47.0</td>\n",
       "      <td>154.0</td>\n",
       "      <td>0.9934</td>\n",
       "      <td>3.08</td>\n",
       "      <td>0.45</td>\n",
       "      <td>9.1</td>\n",
       "      <td>5.0</td>\n",
       "    </tr>\n",
       "    <tr>\n",
       "      <th>517</th>\n",
       "      <td>7.4</td>\n",
       "      <td>0.15</td>\n",
       "      <td>0.42</td>\n",
       "      <td>1.7</td>\n",
       "      <td>0.045</td>\n",
       "      <td>49.0</td>\n",
       "      <td>154.0</td>\n",
       "      <td>0.9920</td>\n",
       "      <td>3.00</td>\n",
       "      <td>0.60</td>\n",
       "      <td>10.4</td>\n",
       "      <td>6.0</td>\n",
       "    </tr>\n",
       "    <tr>\n",
       "      <th>518</th>\n",
       "      <td>5.9</td>\n",
       "      <td>0.13</td>\n",
       "      <td>0.28</td>\n",
       "      <td>1.9</td>\n",
       "      <td>0.050</td>\n",
       "      <td>20.0</td>\n",
       "      <td>78.0</td>\n",
       "      <td>0.9918</td>\n",
       "      <td>3.43</td>\n",
       "      <td>0.64</td>\n",
       "      <td>10.8</td>\n",
       "      <td>6.0</td>\n",
       "    </tr>\n",
       "    <tr>\n",
       "      <th>519</th>\n",
       "      <td>7.2</td>\n",
       "      <td>0.34</td>\n",
       "      <td>0.34</td>\n",
       "      <td>12.6</td>\n",
       "      <td>0.048</td>\n",
       "      <td>7.0</td>\n",
       "      <td>41.0</td>\n",
       "      <td>0.9940</td>\n",
       "      <td>NaN</td>\n",
       "      <td>NaN</td>\n",
       "      <td>NaN</td>\n",
       "      <td>NaN</td>\n",
       "    </tr>\n",
       "  </tbody>\n",
       "</table>\n",
       "<p>520 rows × 12 columns</p>\n",
       "</div>"
      ],
      "text/plain": [
       "     fixed acidity  volatile acidity  citric acid  residual sugar  chlorides  \\\n",
       "0              7.0              0.27         0.36            20.7      0.045   \n",
       "1              6.3              0.30         0.34             1.6      0.049   \n",
       "2              8.1              0.28         0.40             6.9      0.050   \n",
       "3              7.2              0.23         0.32             8.5      0.058   \n",
       "4              7.2              0.23         0.32             8.5      0.058   \n",
       "..             ...               ...          ...             ...        ...   \n",
       "515            6.1              0.31         0.26             2.2      0.051   \n",
       "516            6.8              0.18         0.37             1.6      0.055   \n",
       "517            7.4              0.15         0.42             1.7      0.045   \n",
       "518            5.9              0.13         0.28             1.9      0.050   \n",
       "519            7.2              0.34         0.34            12.6      0.048   \n",
       "\n",
       "     free sulfur dioxide  total sulfur dioxide  density    pH  sulphates  \\\n",
       "0                   45.0                 170.0   1.0010  3.00       0.45   \n",
       "1                   14.0                 132.0   0.9940  3.30       0.49   \n",
       "2                   30.0                  97.0   0.9951  3.26       0.44   \n",
       "3                   47.0                 186.0   0.9956  3.19       0.40   \n",
       "4                   47.0                 186.0   0.9956  3.19       0.40   \n",
       "..                   ...                   ...      ...   ...        ...   \n",
       "515                 28.0                 167.0   0.9926  3.37       0.47   \n",
       "516                 47.0                 154.0   0.9934  3.08       0.45   \n",
       "517                 49.0                 154.0   0.9920  3.00       0.60   \n",
       "518                 20.0                  78.0   0.9918  3.43       0.64   \n",
       "519                  7.0                  41.0   0.9940   NaN        NaN   \n",
       "\n",
       "     alcohol  quality  \n",
       "0        8.8      6.0  \n",
       "1        9.5      6.0  \n",
       "2       10.1      6.0  \n",
       "3        9.9      6.0  \n",
       "4        9.9      6.0  \n",
       "..       ...      ...  \n",
       "515     10.4      6.0  \n",
       "516      9.1      5.0  \n",
       "517     10.4      6.0  \n",
       "518     10.8      6.0  \n",
       "519      NaN      NaN  \n",
       "\n",
       "[520 rows x 12 columns]"
      ]
     },
     "execution_count": 2,
     "metadata": {},
     "output_type": "execute_result"
    }
   ],
   "source": [
    "white_wine = pd.read_csv(r'C:\\Users\\user\\Documents\\Data Science\\MODUL 3\\What Is Ensemble_\\white_wine.csv')\n",
    "white_wine"
   ]
  },
  {
   "cell_type": "code",
   "execution_count": 3,
   "id": "b1d96755-9701-47d5-8a4a-56c361542ff8",
   "metadata": {},
   "outputs": [],
   "source": [
    "white_wine['alcohol'].fillna(white_wine['alcohol'].mean(), inplace = True) # missing value in alcohol"
   ]
  },
  {
   "cell_type": "markdown",
   "id": "93cf7653-d82b-49fb-8d00-cd187de5e32c",
   "metadata": {},
   "source": [
    "> ## Data Splitting"
   ]
  },
  {
   "cell_type": "code",
   "execution_count": 4,
   "id": "101f8e27-85d0-4215-803d-1919a42ee0b2",
   "metadata": {},
   "outputs": [],
   "source": [
    "y = np.where(white_wine['quality'] > 6, 1, 0)\n",
    "x = white_wine[['alcohol', 'density']]"
   ]
  },
  {
   "cell_type": "code",
   "execution_count": 5,
   "id": "d10f797f-0bc8-486e-b108-5f2e038efa89",
   "metadata": {},
   "outputs": [],
   "source": [
    "x_train, x_test, y_train, y_test = train_test_split(x,\n",
    "                                    y,\n",
    "                                    stratify = y,\n",
    "                                    test_size = 0.2,\n",
    "                                    random_state = 2020)"
   ]
  },
  {
   "cell_type": "markdown",
   "id": "c1395b44-c2fa-45b1-9f80-798a5d201afe",
   "metadata": {},
   "source": [
    "> ## Ensemble 1 (without Feature Engineering)"
   ]
  },
  {
   "cell_type": "code",
   "execution_count": 6,
   "id": "13ef9683-cc41-42da-9588-25b8a7b07291",
   "metadata": {},
   "outputs": [],
   "source": [
    "logreg = LogisticRegression(solver = 'liblinear', C = 0.01)\n",
    "dt = DecisionTreeClassifier(max_depth = 5)\n",
    "knn = KNeighborsClassifier(n_neighbors = 3)\n",
    "\n",
    "vc = VotingClassifier([\n",
    "    ('logreg', logreg),\n",
    "    ('tree', dt),\n",
    "    ('KNN', knn)\n",
    "], voting = 'soft')"
   ]
  },
  {
   "cell_type": "code",
   "execution_count": 7,
   "id": "82915346-8e04-4821-bddb-91113cc8e99d",
   "metadata": {},
   "outputs": [
    {
     "data": {
      "text/plain": [
       "VotingClassifier(estimators=[('logreg',\n",
       "                              LogisticRegression(C=0.01, solver='liblinear')),\n",
       "                             ('tree', DecisionTreeClassifier(max_depth=5)),\n",
       "                             ('KNN', KNeighborsClassifier(n_neighbors=3))],\n",
       "                 voting='soft')"
      ]
     },
     "execution_count": 7,
     "metadata": {},
     "output_type": "execute_result"
    }
   ],
   "source": [
    "vc.fit(x_train, y_train)"
   ]
  },
  {
   "cell_type": "code",
   "execution_count": 8,
   "id": "26735ca6-b4de-4ca6-9b90-360eade6d40e",
   "metadata": {},
   "outputs": [
    {
     "name": "stdout",
     "output_type": "stream",
     "text": [
      "              precision    recall  f1-score   support\n",
      "\n",
      "           0       0.97      1.00      0.98        84\n",
      "           1       1.00      0.85      0.92        20\n",
      "\n",
      "    accuracy                           0.97       104\n",
      "   macro avg       0.98      0.93      0.95       104\n",
      "weighted avg       0.97      0.97      0.97       104\n",
      "\n"
     ]
    }
   ],
   "source": [
    "y_pred = vc.predict(x_test)\n",
    "print(classification_report(y_test, y_pred))"
   ]
  },
  {
   "cell_type": "markdown",
   "id": "50cf7888-eeef-4c6c-992a-e4148f08e756",
   "metadata": {},
   "source": [
    "> ## Ensemble 2 (with Feature Engineering)"
   ]
  },
  {
   "cell_type": "code",
   "execution_count": 11,
   "id": "4db387c1-1a6e-4302-99c3-f283aa3d080f",
   "metadata": {},
   "outputs": [],
   "source": [
    "poly = PolynomialFeatures(degree = 3, interaction_only = False, include_bias = False)\n",
    "logreg = LogisticRegression(solver = 'liblinear', C = 0.01)\n",
    "pipe_lr = Pipeline([\n",
    "    ('poly', poly),\n",
    "    ('clf', logreg)\n",
    "])\n",
    "\n",
    "dt = DecisionTreeClassifier(max_depth = 5)\n",
    "\n",
    "scaler = StandardScaler()\n",
    "knn = KNeighborsClassifier(n_neighbors = 3)\n",
    "pipe_knn = Pipeline([\n",
    "    ('sclaer', scaler),\n",
    "    ('knn', knn)\n",
    "])\n",
    "\n",
    "vc2 = VotingClassifier([\n",
    "    ('logreg', pipe_lr),\n",
    "    ('tree', dt),\n",
    "    ('KNN', pipe_knn)\n",
    "], voting = 'soft')"
   ]
  },
  {
   "cell_type": "code",
   "execution_count": 12,
   "id": "57d0e01e-f25a-4846-ba66-5904bb7ef3d1",
   "metadata": {},
   "outputs": [
    {
     "data": {
      "text/plain": [
       "VotingClassifier(estimators=[('logreg',\n",
       "                              Pipeline(steps=[('poly',\n",
       "                                               PolynomialFeatures(degree=3,\n",
       "                                                                  include_bias=False)),\n",
       "                                              ('clf',\n",
       "                                               LogisticRegression(C=0.01,\n",
       "                                                                  solver='liblinear'))])),\n",
       "                             ('tree', DecisionTreeClassifier(max_depth=5)),\n",
       "                             ('KNN',\n",
       "                              Pipeline(steps=[('sclaer', StandardScaler()),\n",
       "                                              ('knn',\n",
       "                                               KNeighborsClassifier(n_neighbors=3))]))],\n",
       "                 voting='soft')"
      ]
     },
     "execution_count": 12,
     "metadata": {},
     "output_type": "execute_result"
    }
   ],
   "source": [
    "vc2.fit(x_train, y_train)"
   ]
  },
  {
   "cell_type": "code",
   "execution_count": 13,
   "id": "edf5216a-525f-4c4b-aa32-f00a7ee240aa",
   "metadata": {},
   "outputs": [
    {
     "name": "stdout",
     "output_type": "stream",
     "text": [
      "              precision    recall  f1-score   support\n",
      "\n",
      "           0       0.98      1.00      0.99        84\n",
      "           1       1.00      0.90      0.95        20\n",
      "\n",
      "    accuracy                           0.98       104\n",
      "   macro avg       0.99      0.95      0.97       104\n",
      "weighted avg       0.98      0.98      0.98       104\n",
      "\n"
     ]
    }
   ],
   "source": [
    "y_pred = vc2.predict(x_test)\n",
    "print(classification_report(y_test, y_pred))"
   ]
  }
 ],
 "metadata": {
  "kernelspec": {
   "display_name": "Python 3",
   "language": "python",
   "name": "python3"
  },
  "language_info": {
   "codemirror_mode": {
    "name": "ipython",
    "version": 3
   },
   "file_extension": ".py",
   "mimetype": "text/x-python",
   "name": "python",
   "nbconvert_exporter": "python",
   "pygments_lexer": "ipython3",
   "version": "3.7.3"
  }
 },
 "nbformat": 4,
 "nbformat_minor": 5
}
