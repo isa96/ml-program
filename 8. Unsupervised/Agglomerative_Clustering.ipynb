{
 "cells": [
  {
   "cell_type": "markdown",
   "id": "45372374-2c5d-4739-bad2-ae45f52d0518",
   "metadata": {},
   "source": [
    "# Agglomerative Clustering\n",
    "Data : ilustrasi k means.csv\n",
    "- Plot data using scatter plot\n",
    "- Make dendrograms\n",
    "    - ward linkage\n",
    "    - average linkage\n",
    "    - complete linkage\n",
    "- Compare the result\n",
    "    - is it different?\n",
    "    - what about another data?\n",
    "- Plot the data and clustering result (optimal number of the cluster from ward, average, and complete) using scatter plot\n",
    "\n",
    "> ## Library"
   ]
  },
  {
   "cell_type": "code",
   "execution_count": 3,
   "id": "d8ea8b64-78fe-413f-86ea-8bb2181ee421",
   "metadata": {},
   "outputs": [],
   "source": [
    "import pandas as pd\n",
    "import numpy as np\n",
    "\n",
    "from sklearn.cluster import KMeans\n",
    "\n",
    "from scipy.spatial.distance import cdist, pdist \n",
    "from sklearn.metrics import silhouette_score\n",
    "from sklearn.cluster import AgglomerativeClustering\n",
    "from scipy.cluster.hierarchy import dendrogram, ward, average, complete\n",
    "\n",
    "import seaborn as sns\n",
    "import matplotlib.pyplot as plt"
   ]
  },
  {
   "cell_type": "markdown",
   "id": "aabefa77-693f-4ac8-bf91-fd5d91ad3c17",
   "metadata": {},
   "source": [
    "> ## Data"
   ]
  },
  {
   "cell_type": "code",
   "execution_count": 2,
   "id": "c4b0b8e3-12f3-4c80-ad12-5d32f85b8b6b",
   "metadata": {},
   "outputs": [
    {
     "data": {
      "text/html": [
       "<div>\n",
       "<style scoped>\n",
       "    .dataframe tbody tr th:only-of-type {\n",
       "        vertical-align: middle;\n",
       "    }\n",
       "\n",
       "    .dataframe tbody tr th {\n",
       "        vertical-align: top;\n",
       "    }\n",
       "\n",
       "    .dataframe thead th {\n",
       "        text-align: right;\n",
       "    }\n",
       "</style>\n",
       "<table border=\"1\" class=\"dataframe\">\n",
       "  <thead>\n",
       "    <tr style=\"text-align: right;\">\n",
       "      <th></th>\n",
       "      <th>tinggibadan</th>\n",
       "      <th>tinggibadanistri</th>\n",
       "    </tr>\n",
       "  </thead>\n",
       "  <tbody>\n",
       "    <tr>\n",
       "      <th>0</th>\n",
       "      <td>175</td>\n",
       "      <td>175</td>\n",
       "    </tr>\n",
       "    <tr>\n",
       "      <th>1</th>\n",
       "      <td>178</td>\n",
       "      <td>178</td>\n",
       "    </tr>\n",
       "    <tr>\n",
       "      <th>2</th>\n",
       "      <td>175</td>\n",
       "      <td>166</td>\n",
       "    </tr>\n",
       "    <tr>\n",
       "      <th>3</th>\n",
       "      <td>180</td>\n",
       "      <td>179</td>\n",
       "    </tr>\n",
       "    <tr>\n",
       "      <th>4</th>\n",
       "      <td>185</td>\n",
       "      <td>181</td>\n",
       "    </tr>\n",
       "    <tr>\n",
       "      <th>5</th>\n",
       "      <td>178</td>\n",
       "      <td>163</td>\n",
       "    </tr>\n",
       "    <tr>\n",
       "      <th>6</th>\n",
       "      <td>175</td>\n",
       "      <td>158</td>\n",
       "    </tr>\n",
       "    <tr>\n",
       "      <th>7</th>\n",
       "      <td>181</td>\n",
       "      <td>154</td>\n",
       "    </tr>\n",
       "    <tr>\n",
       "      <th>8</th>\n",
       "      <td>168</td>\n",
       "      <td>155</td>\n",
       "    </tr>\n",
       "    <tr>\n",
       "      <th>9</th>\n",
       "      <td>171</td>\n",
       "      <td>154</td>\n",
       "    </tr>\n",
       "    <tr>\n",
       "      <th>10</th>\n",
       "      <td>177</td>\n",
       "      <td>156</td>\n",
       "    </tr>\n",
       "    <tr>\n",
       "      <th>11</th>\n",
       "      <td>158</td>\n",
       "      <td>155</td>\n",
       "    </tr>\n",
       "    <tr>\n",
       "      <th>12</th>\n",
       "      <td>158</td>\n",
       "      <td>152</td>\n",
       "    </tr>\n",
       "    <tr>\n",
       "      <th>13</th>\n",
       "      <td>175</td>\n",
       "      <td>149</td>\n",
       "    </tr>\n",
       "    <tr>\n",
       "      <th>14</th>\n",
       "      <td>172</td>\n",
       "      <td>163</td>\n",
       "    </tr>\n",
       "    <tr>\n",
       "      <th>15</th>\n",
       "      <td>158</td>\n",
       "      <td>151</td>\n",
       "    </tr>\n",
       "    <tr>\n",
       "      <th>16</th>\n",
       "      <td>153</td>\n",
       "      <td>155</td>\n",
       "    </tr>\n",
       "    <tr>\n",
       "      <th>17</th>\n",
       "      <td>150</td>\n",
       "      <td>150</td>\n",
       "    </tr>\n",
       "    <tr>\n",
       "      <th>18</th>\n",
       "      <td>157</td>\n",
       "      <td>152</td>\n",
       "    </tr>\n",
       "    <tr>\n",
       "      <th>19</th>\n",
       "      <td>154</td>\n",
       "      <td>150</td>\n",
       "    </tr>\n",
       "    <tr>\n",
       "      <th>20</th>\n",
       "      <td>157</td>\n",
       "      <td>145</td>\n",
       "    </tr>\n",
       "    <tr>\n",
       "      <th>21</th>\n",
       "      <td>160</td>\n",
       "      <td>154</td>\n",
       "    </tr>\n",
       "  </tbody>\n",
       "</table>\n",
       "</div>"
      ],
      "text/plain": [
       "    tinggibadan  tinggibadanistri\n",
       "0           175               175\n",
       "1           178               178\n",
       "2           175               166\n",
       "3           180               179\n",
       "4           185               181\n",
       "5           178               163\n",
       "6           175               158\n",
       "7           181               154\n",
       "8           168               155\n",
       "9           171               154\n",
       "10          177               156\n",
       "11          158               155\n",
       "12          158               152\n",
       "13          175               149\n",
       "14          172               163\n",
       "15          158               151\n",
       "16          153               155\n",
       "17          150               150\n",
       "18          157               152\n",
       "19          154               150\n",
       "20          157               145\n",
       "21          160               154"
      ]
     },
     "execution_count": 2,
     "metadata": {},
     "output_type": "execute_result"
    }
   ],
   "source": [
    "X = pd.read_csv(r'C:\\Users\\user\\Documents\\Data Science\\MODUL 3\\9. Unsupervised Learning\\ilustrasi k means.csv', sep = ';')\n",
    "X"
   ]
  },
  {
   "cell_type": "markdown",
   "id": "aa4bacae-39b1-4869-a589-dccb72b25208",
   "metadata": {},
   "source": [
    "> ## Data Visualization"
   ]
  },
  {
   "cell_type": "code",
   "execution_count": 7,
   "id": "68995708-6dea-454e-950d-2d9b378a42ae",
   "metadata": {},
   "outputs": [
    {
     "data": {
      "image/png": "[encoded data removed]",
      "text/plain": [
       "<Figure size 720x720 with 1 Axes>"
      ]
     },
     "metadata": {
      "needs_background": "light"
     },
     "output_type": "display_data"
    }
   ],
   "source": [
    "plt.figure(figsize = (10,10))\n",
    "sns.set_context(context = 'notebook', font_scale=1.5)\n",
    "sns.scatterplot(x = 'tinggibadan', y = 'tinggibadanistri', data = X)\n",
    "\n",
    "plt.xlabel('Tinggi Badan')\n",
    "plt.ylabel('Tinggi Badan Istri')\n",
    "\n",
    "for i, txt in enumerate(range(0,X.shape[0]-1)):\n",
    "    plt.annotate(txt, (X['tinggibadan'][i]+0.3, X['tinggibadanistri'][i]+0.3), fontsize = 12)\n",
    "plt.show()"
   ]
  },
  {
   "cell_type": "markdown",
   "id": "6479eaa0-57bb-4378-a5e1-25115579339a",
   "metadata": {},
   "source": [
    "> ## Dendrogram : Ward"
   ]
  },
  {
   "cell_type": "code",
   "execution_count": 14,
   "id": "c56b783a-58d6-4cda-a7c4-9f79d39070d7",
   "metadata": {},
   "outputs": [
    {
     "data": {
      "image/png": "[encoded data removed]",
      "text/plain": [
       "<Figure size 864x576 with 1 Axes>"
      ]
     },
     "metadata": {
      "needs_background": "light"
     },
     "output_type": "display_data"
    }
   ],
   "source": [
    "linkage_array = ward(X)\n",
    "\n",
    "plt.figure(figsize=(12, 8))\n",
    "\n",
    "dendrogram(linkage_array)\n",
    "\n",
    "plt.title('Ward')\n",
    "plt.xlabel(\"Sample index\")\n",
    "plt.ylabel(\"Cluster distance\")\n",
    "plt.show()"
   ]
  },
  {
   "cell_type": "markdown",
   "id": "51d7fcf7-531d-48de-88f4-e676feeb4eab",
   "metadata": {},
   "source": [
    "branch position :\n",
    "- 2 clusters distance = 77\n",
    "- 3 clusters distance = 50\n",
    "- 4 clusters distance = 20\n",
    "- 5 clusters distance = 12\n",
    "\n",
    "distance criteria :\n",
    "- too high : problem between data in same cluster\n",
    "- too low : between cluster still similiar\n",
    "\n",
    "calculate distance different between cluster:\n",
    "- 2 to 3 : 27\n",
    "- 3 to 4 : **30** (choose the highest different)\n",
    "- 4 to 5 : 8"
   ]
  },
  {
   "cell_type": "markdown",
   "id": "5fc7481b-5106-43e9-a927-0796e7f385c8",
   "metadata": {},
   "source": [
    "> ## Dendrogram : Average"
   ]
  },
  {
   "cell_type": "code",
   "execution_count": 16,
   "id": "b8f083b8-62a0-4b52-ac1f-418cf8645ccd",
   "metadata": {},
   "outputs": [
    {
     "data": {
      "image/png": "[encoded data removed]",
      "text/plain": [
       "<Figure size 864x576 with 1 Axes>"
      ]
     },
     "metadata": {
      "needs_background": "light"
     },
     "output_type": "display_data"
    }
   ],
   "source": [
    "linkage_array = average(X)\n",
    "\n",
    "plt.figure(figsize=(12, 8))\n",
    "\n",
    "dendrogram(linkage_array)\n",
    "\n",
    "plt.title('Average')\n",
    "plt.xlabel(\"Sample index\")\n",
    "plt.ylabel(\"Cluster distance\")\n",
    "plt.show()"
   ]
  },
  {
   "cell_type": "markdown",
   "id": "18dc3aa0-67a7-4824-9c7b-deb5e19f1d97",
   "metadata": {},
   "source": [
    "> ## Dendrogram : Complete"
   ]
  },
  {
   "cell_type": "code",
   "execution_count": 17,
   "id": "3102dfe8-002b-4d45-92aa-eacc890037f4",
   "metadata": {},
   "outputs": [
    {
     "data": {
      "image/png": "[encoded data removed]",
      "text/plain": [
       "<Figure size 864x576 with 1 Axes>"
      ]
     },
     "metadata": {
      "needs_background": "light"
     },
     "output_type": "display_data"
    }
   ],
   "source": [
    "linkage_array = complete(X)\n",
    "\n",
    "plt.figure(figsize=(12, 8))\n",
    "\n",
    "dendrogram(linkage_array)\n",
    "\n",
    "plt.title('Complete')\n",
    "plt.xlabel(\"Sample index\")\n",
    "plt.ylabel(\"Cluster distance\")\n",
    "plt.show()"
   ]
  },
  {
   "cell_type": "markdown",
   "id": "c8e174aa-368a-47b4-839c-bbdb334e9fba",
   "metadata": {},
   "source": [
    "> ## Result Comparison"
   ]
  },
  {
   "cell_type": "code",
   "execution_count": 18,
   "id": "424c5ea6-fc7c-45a5-9708-ffb760a61d37",
   "metadata": {},
   "outputs": [],
   "source": [
    "clus_ward = AgglomerativeClustering(linkage = 'ward', n_clusters = 3)\n",
    "X['ward'] = clus_ward.fit_predict(X)\n",
    "\n",
    "clus_avg = AgglomerativeClustering(linkage = 'average', n_clusters = 3)\n",
    "X['average'] = clus_avg.fit_predict(X)\n",
    "\n",
    "clus_complete = AgglomerativeClustering(linkage = 'complete', n_clusters = 3)\n",
    "X['complete'] = clus_complete.fit_predict(X)"
   ]
  },
  {
   "cell_type": "code",
   "execution_count": 19,
   "id": "97add5bc-b3dd-4d69-b18e-8150b90671b0",
   "metadata": {},
   "outputs": [
    {
     "data": {
      "text/html": [
       "<div>\n",
       "<style scoped>\n",
       "    .dataframe tbody tr th:only-of-type {\n",
       "        vertical-align: middle;\n",
       "    }\n",
       "\n",
       "    .dataframe tbody tr th {\n",
       "        vertical-align: top;\n",
       "    }\n",
       "\n",
       "    .dataframe thead th {\n",
       "        text-align: right;\n",
       "    }\n",
       "</style>\n",
       "<table border=\"1\" class=\"dataframe\">\n",
       "  <thead>\n",
       "    <tr style=\"text-align: right;\">\n",
       "      <th></th>\n",
       "      <th>tinggibadan</th>\n",
       "      <th>tinggibadanistri</th>\n",
       "      <th>ward</th>\n",
       "      <th>average</th>\n",
       "      <th>complete</th>\n",
       "    </tr>\n",
       "  </thead>\n",
       "  <tbody>\n",
       "    <tr>\n",
       "      <th>0</th>\n",
       "      <td>175</td>\n",
       "      <td>175</td>\n",
       "      <td>2</td>\n",
       "      <td>1</td>\n",
       "      <td>1</td>\n",
       "    </tr>\n",
       "    <tr>\n",
       "      <th>1</th>\n",
       "      <td>178</td>\n",
       "      <td>178</td>\n",
       "      <td>2</td>\n",
       "      <td>1</td>\n",
       "      <td>1</td>\n",
       "    </tr>\n",
       "    <tr>\n",
       "      <th>2</th>\n",
       "      <td>175</td>\n",
       "      <td>166</td>\n",
       "      <td>0</td>\n",
       "      <td>0</td>\n",
       "      <td>0</td>\n",
       "    </tr>\n",
       "    <tr>\n",
       "      <th>3</th>\n",
       "      <td>180</td>\n",
       "      <td>179</td>\n",
       "      <td>2</td>\n",
       "      <td>1</td>\n",
       "      <td>1</td>\n",
       "    </tr>\n",
       "    <tr>\n",
       "      <th>4</th>\n",
       "      <td>185</td>\n",
       "      <td>181</td>\n",
       "      <td>2</td>\n",
       "      <td>1</td>\n",
       "      <td>1</td>\n",
       "    </tr>\n",
       "    <tr>\n",
       "      <th>5</th>\n",
       "      <td>178</td>\n",
       "      <td>163</td>\n",
       "      <td>0</td>\n",
       "      <td>0</td>\n",
       "      <td>0</td>\n",
       "    </tr>\n",
       "    <tr>\n",
       "      <th>6</th>\n",
       "      <td>175</td>\n",
       "      <td>158</td>\n",
       "      <td>0</td>\n",
       "      <td>0</td>\n",
       "      <td>0</td>\n",
       "    </tr>\n",
       "    <tr>\n",
       "      <th>7</th>\n",
       "      <td>181</td>\n",
       "      <td>154</td>\n",
       "      <td>0</td>\n",
       "      <td>0</td>\n",
       "      <td>0</td>\n",
       "    </tr>\n",
       "    <tr>\n",
       "      <th>8</th>\n",
       "      <td>168</td>\n",
       "      <td>155</td>\n",
       "      <td>0</td>\n",
       "      <td>0</td>\n",
       "      <td>0</td>\n",
       "    </tr>\n",
       "    <tr>\n",
       "      <th>9</th>\n",
       "      <td>171</td>\n",
       "      <td>154</td>\n",
       "      <td>0</td>\n",
       "      <td>0</td>\n",
       "      <td>0</td>\n",
       "    </tr>\n",
       "    <tr>\n",
       "      <th>10</th>\n",
       "      <td>177</td>\n",
       "      <td>156</td>\n",
       "      <td>0</td>\n",
       "      <td>0</td>\n",
       "      <td>0</td>\n",
       "    </tr>\n",
       "    <tr>\n",
       "      <th>11</th>\n",
       "      <td>158</td>\n",
       "      <td>155</td>\n",
       "      <td>1</td>\n",
       "      <td>2</td>\n",
       "      <td>2</td>\n",
       "    </tr>\n",
       "    <tr>\n",
       "      <th>12</th>\n",
       "      <td>158</td>\n",
       "      <td>152</td>\n",
       "      <td>1</td>\n",
       "      <td>2</td>\n",
       "      <td>2</td>\n",
       "    </tr>\n",
       "    <tr>\n",
       "      <th>13</th>\n",
       "      <td>175</td>\n",
       "      <td>149</td>\n",
       "      <td>0</td>\n",
       "      <td>0</td>\n",
       "      <td>0</td>\n",
       "    </tr>\n",
       "    <tr>\n",
       "      <th>14</th>\n",
       "      <td>172</td>\n",
       "      <td>163</td>\n",
       "      <td>0</td>\n",
       "      <td>0</td>\n",
       "      <td>0</td>\n",
       "    </tr>\n",
       "    <tr>\n",
       "      <th>15</th>\n",
       "      <td>158</td>\n",
       "      <td>151</td>\n",
       "      <td>1</td>\n",
       "      <td>2</td>\n",
       "      <td>2</td>\n",
       "    </tr>\n",
       "    <tr>\n",
       "      <th>16</th>\n",
       "      <td>153</td>\n",
       "      <td>155</td>\n",
       "      <td>1</td>\n",
       "      <td>2</td>\n",
       "      <td>2</td>\n",
       "    </tr>\n",
       "    <tr>\n",
       "      <th>17</th>\n",
       "      <td>150</td>\n",
       "      <td>150</td>\n",
       "      <td>1</td>\n",
       "      <td>2</td>\n",
       "      <td>2</td>\n",
       "    </tr>\n",
       "    <tr>\n",
       "      <th>18</th>\n",
       "      <td>157</td>\n",
       "      <td>152</td>\n",
       "      <td>1</td>\n",
       "      <td>2</td>\n",
       "      <td>2</td>\n",
       "    </tr>\n",
       "    <tr>\n",
       "      <th>19</th>\n",
       "      <td>154</td>\n",
       "      <td>150</td>\n",
       "      <td>1</td>\n",
       "      <td>2</td>\n",
       "      <td>2</td>\n",
       "    </tr>\n",
       "    <tr>\n",
       "      <th>20</th>\n",
       "      <td>157</td>\n",
       "      <td>145</td>\n",
       "      <td>1</td>\n",
       "      <td>2</td>\n",
       "      <td>2</td>\n",
       "    </tr>\n",
       "    <tr>\n",
       "      <th>21</th>\n",
       "      <td>160</td>\n",
       "      <td>154</td>\n",
       "      <td>1</td>\n",
       "      <td>2</td>\n",
       "      <td>2</td>\n",
       "    </tr>\n",
       "  </tbody>\n",
       "</table>\n",
       "</div>"
      ],
      "text/plain": [
       "    tinggibadan  tinggibadanistri  ward  average  complete\n",
       "0           175               175     2        1         1\n",
       "1           178               178     2        1         1\n",
       "2           175               166     0        0         0\n",
       "3           180               179     2        1         1\n",
       "4           185               181     2        1         1\n",
       "5           178               163     0        0         0\n",
       "6           175               158     0        0         0\n",
       "7           181               154     0        0         0\n",
       "8           168               155     0        0         0\n",
       "9           171               154     0        0         0\n",
       "10          177               156     0        0         0\n",
       "11          158               155     1        2         2\n",
       "12          158               152     1        2         2\n",
       "13          175               149     0        0         0\n",
       "14          172               163     0        0         0\n",
       "15          158               151     1        2         2\n",
       "16          153               155     1        2         2\n",
       "17          150               150     1        2         2\n",
       "18          157               152     1        2         2\n",
       "19          154               150     1        2         2\n",
       "20          157               145     1        2         2\n",
       "21          160               154     1        2         2"
      ]
     },
     "execution_count": 19,
     "metadata": {},
     "output_type": "execute_result"
    }
   ],
   "source": [
    "X"
   ]
  },
  {
   "cell_type": "markdown",
   "id": "13be672c-6660-4bfb-bd65-4aa2f5a87dea",
   "metadata": {},
   "source": [
    "> ## Clustering Result"
   ]
  },
  {
   "cell_type": "code",
   "execution_count": 20,
   "id": "0b1af4c8-21b8-4620-8bcc-f68fe7f5d2ec",
   "metadata": {},
   "outputs": [
    {
     "data": {
      "image/png": "[encoded data removed]",
      "text/plain": [
       "<Figure size 864x576 with 1 Axes>"
      ]
     },
     "metadata": {
      "needs_background": "light"
     },
     "output_type": "display_data"
    }
   ],
   "source": [
    "plt.figure(figsize = (12,8))\n",
    "\n",
    "sns.set_context(context = 'notebook', font_scale=2)\n",
    "sns.scatterplot(x = 'tinggibadan', y = 'tinggibadanistri',hue = 'ward', data = X)\n",
    "\n",
    "plt.title('Clustering Result')\n",
    "plt.xlabel('Tinggi Badan')\n",
    "plt.ylabel('Tinggi Badan Istri')\n",
    "plt.show()"
   ]
  },
  {
   "cell_type": "code",
   "execution_count": null,
   "id": "d8a548a8-5fa4-4d81-8d56-4f27ff4bdab0",
   "metadata": {},
   "outputs": [],
   "source": []
  }
 ],
 "metadata": {
  "kernelspec": {
   "display_name": "Python 3",
   "language": "python",
   "name": "python3"
  },
  "language_info": {
   "codemirror_mode": {
    "name": "ipython",
    "version": 3
   },
   "file_extension": ".py",
   "mimetype": "text/x-python",
   "name": "python",
   "nbconvert_exporter": "python",
   "pygments_lexer": "ipython3",
   "version": "3.7.3"
  }
 },
 "nbformat": 4,
 "nbformat_minor": 5
}
