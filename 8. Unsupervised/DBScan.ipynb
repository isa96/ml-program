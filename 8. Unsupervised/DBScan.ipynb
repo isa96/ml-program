{
 "cells": [
  {
   "cell_type": "markdown",
   "id": "9bdcd5e5-19e6-47a7-a098-40cc7c63ebd3",
   "metadata": {},
   "source": [
    "# DBSCan\n",
    "Data : ilustrasi k means.csv\n",
    "- Plot the data using scatter plot make initial clustering\n",
    "- Determine the optimal hyperparameter\n",
    "    - minimum sample per cluster\n",
    "    - epsilon\n",
    "- Plot the data and clustering result (optimal hyperparameter) using scatter plot\n",
    "\n",
    "> ## Library"
   ]
  },
  {
   "cell_type": "code",
   "execution_count": 1,
   "id": "100018d1-2762-43d0-a791-aba2e2807b3c",
   "metadata": {},
   "outputs": [],
   "source": [
    "import pandas as pd\n",
    "import numpy as np\n",
    "\n",
    "import seaborn as sns\n",
    "import matplotlib.pyplot as plt\n",
    "\n",
    "from sklearn.preprocessing import StandardScaler\n",
    "from sklearn.metrics import silhouette_score\n",
    "from sklearn.cluster import DBSCAN"
   ]
  },
  {
   "cell_type": "markdown",
   "id": "35e5beab-17a5-40a2-bc5f-46f6df3cc9b6",
   "metadata": {},
   "source": [
    "> ## Data"
   ]
  },
  {
   "cell_type": "code",
   "execution_count": 3,
   "id": "fa64da7d-611c-4897-9aaf-b3dddd8ed0c5",
   "metadata": {},
   "outputs": [
    {
     "data": {
      "text/html": [
       "<div>\n",
       "<style scoped>\n",
       "    .dataframe tbody tr th:only-of-type {\n",
       "        vertical-align: middle;\n",
       "    }\n",
       "\n",
       "    .dataframe tbody tr th {\n",
       "        vertical-align: top;\n",
       "    }\n",
       "\n",
       "    .dataframe thead th {\n",
       "        text-align: right;\n",
       "    }\n",
       "</style>\n",
       "<table border=\"1\" class=\"dataframe\">\n",
       "  <thead>\n",
       "    <tr style=\"text-align: right;\">\n",
       "      <th></th>\n",
       "      <th>tinggibadan</th>\n",
       "      <th>tinggibadanistri</th>\n",
       "    </tr>\n",
       "  </thead>\n",
       "  <tbody>\n",
       "    <tr>\n",
       "      <th>0</th>\n",
       "      <td>175</td>\n",
       "      <td>175</td>\n",
       "    </tr>\n",
       "    <tr>\n",
       "      <th>1</th>\n",
       "      <td>178</td>\n",
       "      <td>178</td>\n",
       "    </tr>\n",
       "    <tr>\n",
       "      <th>2</th>\n",
       "      <td>175</td>\n",
       "      <td>166</td>\n",
       "    </tr>\n",
       "    <tr>\n",
       "      <th>3</th>\n",
       "      <td>180</td>\n",
       "      <td>179</td>\n",
       "    </tr>\n",
       "    <tr>\n",
       "      <th>4</th>\n",
       "      <td>185</td>\n",
       "      <td>181</td>\n",
       "    </tr>\n",
       "    <tr>\n",
       "      <th>5</th>\n",
       "      <td>178</td>\n",
       "      <td>163</td>\n",
       "    </tr>\n",
       "    <tr>\n",
       "      <th>6</th>\n",
       "      <td>175</td>\n",
       "      <td>158</td>\n",
       "    </tr>\n",
       "    <tr>\n",
       "      <th>7</th>\n",
       "      <td>181</td>\n",
       "      <td>154</td>\n",
       "    </tr>\n",
       "    <tr>\n",
       "      <th>8</th>\n",
       "      <td>168</td>\n",
       "      <td>155</td>\n",
       "    </tr>\n",
       "    <tr>\n",
       "      <th>9</th>\n",
       "      <td>171</td>\n",
       "      <td>154</td>\n",
       "    </tr>\n",
       "    <tr>\n",
       "      <th>10</th>\n",
       "      <td>177</td>\n",
       "      <td>156</td>\n",
       "    </tr>\n",
       "    <tr>\n",
       "      <th>11</th>\n",
       "      <td>158</td>\n",
       "      <td>155</td>\n",
       "    </tr>\n",
       "    <tr>\n",
       "      <th>12</th>\n",
       "      <td>158</td>\n",
       "      <td>152</td>\n",
       "    </tr>\n",
       "    <tr>\n",
       "      <th>13</th>\n",
       "      <td>175</td>\n",
       "      <td>149</td>\n",
       "    </tr>\n",
       "    <tr>\n",
       "      <th>14</th>\n",
       "      <td>172</td>\n",
       "      <td>163</td>\n",
       "    </tr>\n",
       "    <tr>\n",
       "      <th>15</th>\n",
       "      <td>158</td>\n",
       "      <td>151</td>\n",
       "    </tr>\n",
       "    <tr>\n",
       "      <th>16</th>\n",
       "      <td>153</td>\n",
       "      <td>155</td>\n",
       "    </tr>\n",
       "    <tr>\n",
       "      <th>17</th>\n",
       "      <td>150</td>\n",
       "      <td>150</td>\n",
       "    </tr>\n",
       "    <tr>\n",
       "      <th>18</th>\n",
       "      <td>157</td>\n",
       "      <td>152</td>\n",
       "    </tr>\n",
       "    <tr>\n",
       "      <th>19</th>\n",
       "      <td>154</td>\n",
       "      <td>150</td>\n",
       "    </tr>\n",
       "    <tr>\n",
       "      <th>20</th>\n",
       "      <td>157</td>\n",
       "      <td>145</td>\n",
       "    </tr>\n",
       "    <tr>\n",
       "      <th>21</th>\n",
       "      <td>160</td>\n",
       "      <td>154</td>\n",
       "    </tr>\n",
       "  </tbody>\n",
       "</table>\n",
       "</div>"
      ],
      "text/plain": [
       "    tinggibadan  tinggibadanistri\n",
       "0           175               175\n",
       "1           178               178\n",
       "2           175               166\n",
       "3           180               179\n",
       "4           185               181\n",
       "5           178               163\n",
       "6           175               158\n",
       "7           181               154\n",
       "8           168               155\n",
       "9           171               154\n",
       "10          177               156\n",
       "11          158               155\n",
       "12          158               152\n",
       "13          175               149\n",
       "14          172               163\n",
       "15          158               151\n",
       "16          153               155\n",
       "17          150               150\n",
       "18          157               152\n",
       "19          154               150\n",
       "20          157               145\n",
       "21          160               154"
      ]
     },
     "execution_count": 3,
     "metadata": {},
     "output_type": "execute_result"
    }
   ],
   "source": [
    "X = pd.read_csv(r'C:\\Users\\user\\Documents\\Data Science\\MODUL 3\\9. Unsupervised Learning\\ilustrasi k means.csv', sep = ';')\n",
    "X"
   ]
  },
  {
   "cell_type": "markdown",
   "id": "0ec5c54d-12e4-4352-a899-4118063d4c0c",
   "metadata": {},
   "source": [
    "> ## Data Visualization"
   ]
  },
  {
   "cell_type": "code",
   "execution_count": 5,
   "id": "18a1af00-1086-4fce-956b-671d224def3d",
   "metadata": {},
   "outputs": [
    {
     "data": {
      "image/png": "[encoded data removed]",
      "text/plain": [
       "<Figure size 720x720 with 1 Axes>"
      ]
     },
     "metadata": {
      "needs_background": "light"
     },
     "output_type": "display_data"
    }
   ],
   "source": [
    "plt.figure(figsize = (10,10))\n",
    "sns.set_context(context = 'notebook', font_scale=1.5)\n",
    "sns.scatterplot(x = 'tinggibadan', y = 'tinggibadanistri', data = X)\n",
    "\n",
    "plt.xlabel('Tinggi Badan')\n",
    "plt.ylabel('Tinggi Badan Istri')\n",
    "\n",
    "plt.show()"
   ]
  },
  {
   "cell_type": "markdown",
   "id": "39606169-65cf-44e7-aed6-71086aeee827",
   "metadata": {},
   "source": [
    "> ## Initial Clustering"
   ]
  },
  {
   "cell_type": "code",
   "execution_count": 6,
   "id": "1cc7e216-c4f9-45c9-9e55-0300687151eb",
   "metadata": {},
   "outputs": [],
   "source": [
    "scaler = StandardScaler()\n",
    "X_scaled = scaler.fit_transform(X)"
   ]
  },
  {
   "cell_type": "code",
   "execution_count": 7,
   "id": "46787bd1-1364-4bff-921b-78e1649d4958",
   "metadata": {},
   "outputs": [],
   "source": [
    "dbscan = DBSCAN(eps = 0.7, min_samples = 5)\n",
    "label = dbscan.fit_predict(X_scaled)"
   ]
  },
  {
   "cell_type": "code",
   "execution_count": 8,
   "id": "14afa24f-3ff1-4ad4-b944-2d5a29bb36fd",
   "metadata": {},
   "outputs": [
    {
     "data": {
      "text/plain": [
       "array([-1, -1,  0, -1, -1,  0,  0,  0,  0,  0,  0,  1,  1,  0,  0,  1,  1,\n",
       "        1,  1,  1,  1,  1], dtype=int64)"
      ]
     },
     "execution_count": 8,
     "metadata": {},
     "output_type": "execute_result"
    }
   ],
   "source": [
    "label"
   ]
  },
  {
   "cell_type": "code",
   "execution_count": 9,
   "id": "0102bf22-13cd-46cb-990d-7b483ec85023",
   "metadata": {},
   "outputs": [
    {
     "data": {
      "text/plain": [
       "0.6161772649616482"
      ]
     },
     "execution_count": 9,
     "metadata": {},
     "output_type": "execute_result"
    }
   ],
   "source": [
    "silhouette_score(X_scaled, label)"
   ]
  },
  {
   "cell_type": "markdown",
   "id": "bf5d5c5e-a0ed-4df2-8b9f-c6c134de5cd5",
   "metadata": {},
   "source": [
    "> ## Optimizing minimum samples and epsilon"
   ]
  },
  {
   "cell_type": "code",
   "execution_count": 12,
   "id": "e7417ec1-370f-4c5d-9d75-8593846ee620",
   "metadata": {},
   "outputs": [
    {
     "name": "stdout",
     "output_type": "stream",
     "text": [
      "epsilon 0.6\n",
      "min_samples 3\n",
      "score 0.4618572923610629\n",
      "Clusters present:  [-1  0  1  2]\n",
      "Cluster sizes: {} [1 4 8 9]\n",
      "\n",
      "\n",
      "epsilon 0.6\n",
      "min_samples 4\n",
      "score 0.3901682187136734\n",
      "Clusters present:  [-1  0  1]\n",
      "Cluster sizes: {} [7 6 9]\n",
      "\n",
      "\n",
      "epsilon 0.6\n",
      "min_samples 5\n",
      "score 0.35497113213899967\n",
      "Clusters present:  [-1  0  1]\n",
      "Cluster sizes: {} [8 5 9]\n",
      "\n",
      "\n",
      "epsilon 0.6\n",
      "min_samples 6\n",
      "score 0.5300936637683802\n",
      "Clusters present:  [-1  0]\n",
      "Cluster sizes: {} [13  9]\n",
      "\n",
      "\n",
      "epsilon 0.65\n",
      "min_samples 3\n",
      "score 0.6161772649616482\n",
      "Clusters present:  [0 1 2]\n",
      "Cluster sizes: {} [0 4 9 9]\n",
      "\n",
      "\n",
      "epsilon 0.65\n",
      "min_samples 4\n",
      "score 0.6161772649616482\n",
      "Clusters present:  [0 1 2]\n",
      "Cluster sizes: {} [0 4 9 9]\n",
      "\n",
      "\n",
      "epsilon 0.65\n",
      "min_samples 5\n",
      "score 0.4839777372002889\n",
      "Clusters present:  [-1  0  1]\n",
      "Cluster sizes: {} [6 7 9]\n",
      "\n",
      "\n",
      "epsilon 0.65\n",
      "min_samples 6\n",
      "score 0.5300936637683802\n",
      "Clusters present:  [-1  0]\n",
      "Cluster sizes: {} [13  9]\n",
      "\n",
      "\n",
      "epsilon 0.7\n",
      "min_samples 3\n",
      "score 0.6161772649616482\n",
      "Clusters present:  [0 1 2]\n",
      "Cluster sizes: {} [0 4 9 9]\n",
      "\n",
      "\n",
      "epsilon 0.7\n",
      "min_samples 4\n",
      "score 0.6161772649616482\n",
      "Clusters present:  [0 1 2]\n",
      "Cluster sizes: {} [0 4 9 9]\n",
      "\n",
      "\n",
      "epsilon 0.7\n",
      "min_samples 5\n",
      "score 0.6161772649616482\n",
      "Clusters present:  [-1  0  1]\n",
      "Cluster sizes: {} [4 9 9]\n",
      "\n",
      "\n",
      "epsilon 0.7\n",
      "min_samples 6\n",
      "score 0.42454135688096445\n",
      "Clusters present:  [-1  0  1]\n",
      "Cluster sizes: {} [7 6 9]\n",
      "\n",
      "\n"
     ]
    }
   ],
   "source": [
    "for eps in [0.6, 0.65, 0.7]:\n",
    "  for min_samples in [3, 4, 5, 6]:\n",
    "    # epsilon and min samples\n",
    "    print('epsilon', eps)\n",
    "    print('min_samples', min_samples)\n",
    "    \n",
    "    # silhoutte score\n",
    "    dbscan = DBSCAN(eps = eps, min_samples = min_samples)\n",
    "    labels = dbscan.fit_predict(X_scaled)\n",
    "    print('score', silhouette_score(X_scaled, labels))\n",
    "    \n",
    "    # cluster\n",
    "    print('Clusters present: ', np.unique(labels))\n",
    "    print('Cluster sizes: {}', np.bincount(labels + 1))\n",
    "    \n",
    "    print('\\n')"
   ]
  },
  {
   "cell_type": "markdown",
   "id": "91dc1f23-7df7-4720-8983-166b12e119da",
   "metadata": {},
   "source": [
    "> ## Final Clustering"
   ]
  },
  {
   "cell_type": "code",
   "execution_count": 13,
   "id": "b7249d63-80cf-4422-b934-0a4b40dedca7",
   "metadata": {},
   "outputs": [],
   "source": [
    "dbscan = DBSCAN(eps = 0.7, min_samples = 4)\n",
    "label = dbscan.fit_predict(X_scaled)"
   ]
  },
  {
   "cell_type": "code",
   "execution_count": 14,
   "id": "eb781435-6eb8-4c6b-85ec-a101f020a530",
   "metadata": {},
   "outputs": [
    {
     "data": {
      "text/plain": [
       "array([0, 0, 1, 0, 0, 1, 1, 1, 1, 1, 1, 2, 2, 1, 1, 2, 2, 2, 2, 2, 2, 2],\n",
       "      dtype=int64)"
      ]
     },
     "execution_count": 14,
     "metadata": {},
     "output_type": "execute_result"
    }
   ],
   "source": [
    "label"
   ]
  },
  {
   "cell_type": "code",
   "execution_count": 16,
   "id": "16361507-418d-4e79-9cfe-d99351ec2def",
   "metadata": {},
   "outputs": [
    {
     "data": {
      "text/html": [
       "<div>\n",
       "<style scoped>\n",
       "    .dataframe tbody tr th:only-of-type {\n",
       "        vertical-align: middle;\n",
       "    }\n",
       "\n",
       "    .dataframe tbody tr th {\n",
       "        vertical-align: top;\n",
       "    }\n",
       "\n",
       "    .dataframe thead th {\n",
       "        text-align: right;\n",
       "    }\n",
       "</style>\n",
       "<table border=\"1\" class=\"dataframe\">\n",
       "  <thead>\n",
       "    <tr style=\"text-align: right;\">\n",
       "      <th></th>\n",
       "      <th>tinggibadan</th>\n",
       "      <th>tinggibadanistri</th>\n",
       "      <th>cluster</th>\n",
       "    </tr>\n",
       "  </thead>\n",
       "  <tbody>\n",
       "    <tr>\n",
       "      <th>0</th>\n",
       "      <td>175</td>\n",
       "      <td>175</td>\n",
       "      <td>0</td>\n",
       "    </tr>\n",
       "    <tr>\n",
       "      <th>1</th>\n",
       "      <td>178</td>\n",
       "      <td>178</td>\n",
       "      <td>0</td>\n",
       "    </tr>\n",
       "    <tr>\n",
       "      <th>2</th>\n",
       "      <td>175</td>\n",
       "      <td>166</td>\n",
       "      <td>1</td>\n",
       "    </tr>\n",
       "    <tr>\n",
       "      <th>3</th>\n",
       "      <td>180</td>\n",
       "      <td>179</td>\n",
       "      <td>0</td>\n",
       "    </tr>\n",
       "    <tr>\n",
       "      <th>4</th>\n",
       "      <td>185</td>\n",
       "      <td>181</td>\n",
       "      <td>0</td>\n",
       "    </tr>\n",
       "    <tr>\n",
       "      <th>5</th>\n",
       "      <td>178</td>\n",
       "      <td>163</td>\n",
       "      <td>1</td>\n",
       "    </tr>\n",
       "    <tr>\n",
       "      <th>6</th>\n",
       "      <td>175</td>\n",
       "      <td>158</td>\n",
       "      <td>1</td>\n",
       "    </tr>\n",
       "    <tr>\n",
       "      <th>7</th>\n",
       "      <td>181</td>\n",
       "      <td>154</td>\n",
       "      <td>1</td>\n",
       "    </tr>\n",
       "    <tr>\n",
       "      <th>8</th>\n",
       "      <td>168</td>\n",
       "      <td>155</td>\n",
       "      <td>1</td>\n",
       "    </tr>\n",
       "    <tr>\n",
       "      <th>9</th>\n",
       "      <td>171</td>\n",
       "      <td>154</td>\n",
       "      <td>1</td>\n",
       "    </tr>\n",
       "    <tr>\n",
       "      <th>10</th>\n",
       "      <td>177</td>\n",
       "      <td>156</td>\n",
       "      <td>1</td>\n",
       "    </tr>\n",
       "    <tr>\n",
       "      <th>11</th>\n",
       "      <td>158</td>\n",
       "      <td>155</td>\n",
       "      <td>2</td>\n",
       "    </tr>\n",
       "    <tr>\n",
       "      <th>12</th>\n",
       "      <td>158</td>\n",
       "      <td>152</td>\n",
       "      <td>2</td>\n",
       "    </tr>\n",
       "    <tr>\n",
       "      <th>13</th>\n",
       "      <td>175</td>\n",
       "      <td>149</td>\n",
       "      <td>1</td>\n",
       "    </tr>\n",
       "    <tr>\n",
       "      <th>14</th>\n",
       "      <td>172</td>\n",
       "      <td>163</td>\n",
       "      <td>1</td>\n",
       "    </tr>\n",
       "    <tr>\n",
       "      <th>15</th>\n",
       "      <td>158</td>\n",
       "      <td>151</td>\n",
       "      <td>2</td>\n",
       "    </tr>\n",
       "    <tr>\n",
       "      <th>16</th>\n",
       "      <td>153</td>\n",
       "      <td>155</td>\n",
       "      <td>2</td>\n",
       "    </tr>\n",
       "    <tr>\n",
       "      <th>17</th>\n",
       "      <td>150</td>\n",
       "      <td>150</td>\n",
       "      <td>2</td>\n",
       "    </tr>\n",
       "    <tr>\n",
       "      <th>18</th>\n",
       "      <td>157</td>\n",
       "      <td>152</td>\n",
       "      <td>2</td>\n",
       "    </tr>\n",
       "    <tr>\n",
       "      <th>19</th>\n",
       "      <td>154</td>\n",
       "      <td>150</td>\n",
       "      <td>2</td>\n",
       "    </tr>\n",
       "    <tr>\n",
       "      <th>20</th>\n",
       "      <td>157</td>\n",
       "      <td>145</td>\n",
       "      <td>2</td>\n",
       "    </tr>\n",
       "    <tr>\n",
       "      <th>21</th>\n",
       "      <td>160</td>\n",
       "      <td>154</td>\n",
       "      <td>2</td>\n",
       "    </tr>\n",
       "  </tbody>\n",
       "</table>\n",
       "</div>"
      ],
      "text/plain": [
       "    tinggibadan  tinggibadanistri  cluster\n",
       "0           175               175        0\n",
       "1           178               178        0\n",
       "2           175               166        1\n",
       "3           180               179        0\n",
       "4           185               181        0\n",
       "5           178               163        1\n",
       "6           175               158        1\n",
       "7           181               154        1\n",
       "8           168               155        1\n",
       "9           171               154        1\n",
       "10          177               156        1\n",
       "11          158               155        2\n",
       "12          158               152        2\n",
       "13          175               149        1\n",
       "14          172               163        1\n",
       "15          158               151        2\n",
       "16          153               155        2\n",
       "17          150               150        2\n",
       "18          157               152        2\n",
       "19          154               150        2\n",
       "20          157               145        2\n",
       "21          160               154        2"
      ]
     },
     "execution_count": 16,
     "metadata": {},
     "output_type": "execute_result"
    }
   ],
   "source": [
    "X['cluster'] = label\n",
    "X"
   ]
  },
  {
   "cell_type": "code",
   "execution_count": 17,
   "id": "a383665b-dd2d-478e-9507-e401726fd71a",
   "metadata": {},
   "outputs": [
    {
     "data": {
      "image/png": "[encoded data removed]",
      "text/plain": [
       "<Figure size 720x720 with 1 Axes>"
      ]
     },
     "metadata": {
      "needs_background": "light"
     },
     "output_type": "display_data"
    }
   ],
   "source": [
    "plt.figure(figsize = (10,10))\n",
    "sns.set_context(context = 'notebook', font_scale=1.5)\n",
    "sns.scatterplot(x = 'tinggibadan', y = 'tinggibadanistri', hue ='cluster', data = X)\n",
    "\n",
    "plt.xlabel('Tinggi Badan')\n",
    "plt.ylabel('Tinggi Badan Istri')\n",
    "\n",
    "plt.show()"
   ]
  }
 ],
 "metadata": {
  "kernelspec": {
   "display_name": "Python 3",
   "language": "python",
   "name": "python3"
  },
  "language_info": {
   "codemirror_mode": {
    "name": "ipython",
    "version": 3
   },
   "file_extension": ".py",
   "mimetype": "text/x-python",
   "name": "python",
   "nbconvert_exporter": "python",
   "pygments_lexer": "ipython3",
   "version": "3.7.3"
  }
 },
 "nbformat": 4,
 "nbformat_minor": 5
}
